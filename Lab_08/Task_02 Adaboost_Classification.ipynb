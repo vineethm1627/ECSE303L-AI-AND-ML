{
 "cells": [
  {
   "cell_type": "markdown",
   "metadata": {
    "id": "U_tcuiFmIToA"
   },
   "source": [
    "# Congressional Voting Classification\n",
    "\n",
    "#Objective\n",
    "The main objective is to predict whether congressmen is Democrat or Republican based on voting patterns by using the decision tree with the adaboost.\n",
    "\n",
    "#Adaboost\n",
    "AdaBoost is an ensemble learning method (also known as “meta-learning”) which was initially created to increase the efficiency of binary classifiers. AdaBoost uses an iterative approach to learn from the mistakes of weak classifiers, and turn them into strong ones.\n",
    "\n",
    "\n",
    "#Data Set\n",
    "This data set includes votes for each of the U.S. House of Representatives Congressmen on the 16 key votes identified by the CQA. The CQA lists nine different types of votes: voted for, paired for, and announced for (these three simplified to yea), voted against, paired against, and announced against (these three simplified to nay), voted present, voted present to avoid conflict of interest, and did not vote or otherwise make a position known (these three simplified to an unknown disposition).\n",
    "\n",
    "\n",
    "##Attribute Information:\n",
    "1. Class Name: 2 (democrat, republican)\n",
    "2. handicapped-infants: 2 (y,n)\n",
    "3. water-project-cost-sharing: 2 (y,n)\n",
    "4. adoption-of-the-budget-resolution: 2 (y,n)\n",
    "5. physician-fee-freeze: 2 (y,n)\n",
    "6. el-salvador-aid: 2 (y,n)\n",
    "7. religious-groups-in-schools: 2 (y,n)\n",
    "8. anti-satellite-test-ban: 2 (y,n)\n",
    "9. aid-to-nicaraguan-contras: 2 (y,n)\n",
    "10. mx-missile: 2 (y,n)\n",
    "11. immigration: 2 (y,n)\n",
    "12. synfuels-corporation-cutback: 2 (y,n)\n",
    "13. education-spending: 2 (y,n)\n",
    "14. superfund-right-to-sue: 2 (y,n)\n",
    "15. crime: 2 (y,n)\n",
    "16. duty-free-exports: 2 (y,n)\n",
    "17. export-administration-act-south-africa: 2 (y,n)\n",
    "\n",
    "\n",
    "\n",
    "#Source\n",
    "The dataset can be obtained from the:\n",
    "https://archive.ics.uci.edu/ml/datasets/Congressional+Voting+Records\n",
    "\n",
    "#Tasks:\n",
    "1.\tObtained the dataset\n",
    "2.\tApply pre-processing operations\n",
    "3.\tTrain Adaboost model from scratch and test the model\n",
    "4.\tTrain Adaboost model using sklearn\n",
    "6.\tCompare the performance of Adaboost, Random Forest and Decision Trees\n"
   ]
  },
  {
   "cell_type": "markdown",
   "metadata": {
    "id": "1yGvcerZa0S8"
   },
   "source": [
    "## Part 1: Adaboost from Scratch"
   ]
  },
  {
   "cell_type": "code",
   "execution_count": 45,
   "metadata": {
    "id": "Duh_Q74qIidS"
   },
   "outputs": [],
   "source": [
    "# Load the libraries\n",
    "import pandas as pd\n",
    "import numpy as np\n",
    "from sklearn.preprocessing import LabelEncoder\n",
    "from sklearn.model_selection import train_test_split\n",
    "from sklearn.metrics import classification_report, accuracy_score, precision_score, recall_score, f1_score\n",
    "from sklearn.tree import DecisionTreeClassifier\n",
    "from sklearn.ensemble import RandomForestClassifier, AdaBoostClassifier\n",
    "import matplotlib.pyplot as plt"
   ]
  },
  {
   "cell_type": "code",
   "execution_count": 12,
   "metadata": {
    "id": "SyioH2iYIjhk"
   },
   "outputs": [
    {
     "name": "stdout",
     "output_type": "stream",
     "text": [
      "(435, 17)\n"
     ]
    },
    {
     "data": {
      "text/html": [
       "<div>\n",
       "<style scoped>\n",
       "    .dataframe tbody tr th:only-of-type {\n",
       "        vertical-align: middle;\n",
       "    }\n",
       "\n",
       "    .dataframe tbody tr th {\n",
       "        vertical-align: top;\n",
       "    }\n",
       "\n",
       "    .dataframe thead th {\n",
       "        text-align: right;\n",
       "    }\n",
       "</style>\n",
       "<table border=\"1\" class=\"dataframe\">\n",
       "  <thead>\n",
       "    <tr style=\"text-align: right;\">\n",
       "      <th></th>\n",
       "      <th>Class Name</th>\n",
       "      <th>handicapped-infants</th>\n",
       "      <th>water-project-cost-sharing</th>\n",
       "      <th>adoption-of-the-budget-resolution</th>\n",
       "      <th>physician-fee-freeze</th>\n",
       "      <th>el-salvador-aid</th>\n",
       "      <th>religious-groups-in-schools</th>\n",
       "      <th>anti-satellite-test-ban</th>\n",
       "      <th>aid-to-nicaraguan-contras</th>\n",
       "      <th>mx-missile</th>\n",
       "      <th>immigration</th>\n",
       "      <th>synfuels-corporation-cutback</th>\n",
       "      <th>education-spending</th>\n",
       "      <th>superfund-right-to-sue</th>\n",
       "      <th>crime</th>\n",
       "      <th>duty-free-exports</th>\n",
       "      <th>export-administration-act-south-africa</th>\n",
       "    </tr>\n",
       "  </thead>\n",
       "  <tbody>\n",
       "    <tr>\n",
       "      <th>0</th>\n",
       "      <td>republican</td>\n",
       "      <td>n</td>\n",
       "      <td>y</td>\n",
       "      <td>n</td>\n",
       "      <td>y</td>\n",
       "      <td>y</td>\n",
       "      <td>y</td>\n",
       "      <td>n</td>\n",
       "      <td>n</td>\n",
       "      <td>n</td>\n",
       "      <td>y</td>\n",
       "      <td>?</td>\n",
       "      <td>y</td>\n",
       "      <td>y</td>\n",
       "      <td>y</td>\n",
       "      <td>n</td>\n",
       "      <td>y</td>\n",
       "    </tr>\n",
       "    <tr>\n",
       "      <th>1</th>\n",
       "      <td>republican</td>\n",
       "      <td>n</td>\n",
       "      <td>y</td>\n",
       "      <td>n</td>\n",
       "      <td>y</td>\n",
       "      <td>y</td>\n",
       "      <td>y</td>\n",
       "      <td>n</td>\n",
       "      <td>n</td>\n",
       "      <td>n</td>\n",
       "      <td>n</td>\n",
       "      <td>n</td>\n",
       "      <td>y</td>\n",
       "      <td>y</td>\n",
       "      <td>y</td>\n",
       "      <td>n</td>\n",
       "      <td>?</td>\n",
       "    </tr>\n",
       "    <tr>\n",
       "      <th>2</th>\n",
       "      <td>democrat</td>\n",
       "      <td>?</td>\n",
       "      <td>y</td>\n",
       "      <td>y</td>\n",
       "      <td>?</td>\n",
       "      <td>y</td>\n",
       "      <td>y</td>\n",
       "      <td>n</td>\n",
       "      <td>n</td>\n",
       "      <td>n</td>\n",
       "      <td>n</td>\n",
       "      <td>y</td>\n",
       "      <td>n</td>\n",
       "      <td>y</td>\n",
       "      <td>y</td>\n",
       "      <td>n</td>\n",
       "      <td>n</td>\n",
       "    </tr>\n",
       "    <tr>\n",
       "      <th>3</th>\n",
       "      <td>democrat</td>\n",
       "      <td>n</td>\n",
       "      <td>y</td>\n",
       "      <td>y</td>\n",
       "      <td>n</td>\n",
       "      <td>?</td>\n",
       "      <td>y</td>\n",
       "      <td>n</td>\n",
       "      <td>n</td>\n",
       "      <td>n</td>\n",
       "      <td>n</td>\n",
       "      <td>y</td>\n",
       "      <td>n</td>\n",
       "      <td>y</td>\n",
       "      <td>n</td>\n",
       "      <td>n</td>\n",
       "      <td>y</td>\n",
       "    </tr>\n",
       "    <tr>\n",
       "      <th>4</th>\n",
       "      <td>democrat</td>\n",
       "      <td>y</td>\n",
       "      <td>y</td>\n",
       "      <td>y</td>\n",
       "      <td>n</td>\n",
       "      <td>y</td>\n",
       "      <td>y</td>\n",
       "      <td>n</td>\n",
       "      <td>n</td>\n",
       "      <td>n</td>\n",
       "      <td>n</td>\n",
       "      <td>y</td>\n",
       "      <td>?</td>\n",
       "      <td>y</td>\n",
       "      <td>y</td>\n",
       "      <td>y</td>\n",
       "      <td>y</td>\n",
       "    </tr>\n",
       "  </tbody>\n",
       "</table>\n",
       "</div>"
      ],
      "text/plain": [
       "   Class Name  handicapped-infants  water-project-cost-sharing  \\\n",
       "0  republican                    n                           y   \n",
       "1  republican                    n                           y   \n",
       "2    democrat                    ?                           y   \n",
       "3    democrat                    n                           y   \n",
       "4    democrat                    y                           y   \n",
       "\n",
       "   adoption-of-the-budget-resolution  physician-fee-freeze  el-salvador-aid  \\\n",
       "0                                  n                     y                y   \n",
       "1                                  n                     y                y   \n",
       "2                                  y                     ?                y   \n",
       "3                                  y                     n                ?   \n",
       "4                                  y                     n                y   \n",
       "\n",
       "   religious-groups-in-schools  anti-satellite-test-ban  \\\n",
       "0                            y                        n   \n",
       "1                            y                        n   \n",
       "2                            y                        n   \n",
       "3                            y                        n   \n",
       "4                            y                        n   \n",
       "\n",
       "   aid-to-nicaraguan-contras  mx-missile  immigration  \\\n",
       "0                          n           n            y   \n",
       "1                          n           n            n   \n",
       "2                          n           n            n   \n",
       "3                          n           n            n   \n",
       "4                          n           n            n   \n",
       "\n",
       "   synfuels-corporation-cutback  education-spending  superfund-right-to-sue  \\\n",
       "0                             ?                   y                       y   \n",
       "1                             n                   y                       y   \n",
       "2                             y                   n                       y   \n",
       "3                             y                   n                       y   \n",
       "4                             y                   ?                       y   \n",
       "\n",
       "   crime  duty-free-exports  export-administration-act-south-africa  \n",
       "0      y                  n                                       y  \n",
       "1      y                  n                                       ?  \n",
       "2      y                  n                                       n  \n",
       "3      n                  n                                       y  \n",
       "4      y                  y                                       y  "
      ]
     },
     "execution_count": 12,
     "metadata": {},
     "output_type": "execute_result"
    }
   ],
   "source": [
    "# Load the dataset \n",
    "data = pd.read_csv(\"dataset/house-votes-84.csv\")\n",
    "print(data.shape)\n",
    "data.head()"
   ]
  },
  {
   "cell_type": "code",
   "execution_count": 13,
   "metadata": {
    "id": "vtfupr9JInhf"
   },
   "outputs": [
    {
     "data": {
      "text/plain": [
       "Class Name                                 0\n",
       " handicapped-infants                       0\n",
       " water-project-cost-sharing                0\n",
       " adoption-of-the-budget-resolution         0\n",
       " physician-fee-freeze                      0\n",
       " el-salvador-aid                           0\n",
       " religious-groups-in-schools               0\n",
       " anti-satellite-test-ban                   0\n",
       " aid-to-nicaraguan-contras                 0\n",
       " mx-missile                                0\n",
       " immigration                               0\n",
       " synfuels-corporation-cutback              0\n",
       " education-spending                        0\n",
       " superfund-right-to-sue                    0\n",
       " crime                                     0\n",
       " duty-free-exports                         0\n",
       " export-administration-act-south-africa    0\n",
       "dtype: int64"
      ]
     },
     "execution_count": 13,
     "metadata": {},
     "output_type": "execute_result"
    }
   ],
   "source": [
    "# Preprocessing\n",
    "# Encoding categorical variables (if any)\n",
    "# Feature Scaling\n",
    "# Filling missing values (if any)\n",
    "data.isna().sum()"
   ]
  },
  {
   "cell_type": "code",
   "execution_count": 14,
   "metadata": {},
   "outputs": [],
   "source": [
    "# replacing nan values with the highest occuring value.\n",
    "for col in data.columns:\n",
    "    data[col] = data[col].str.replace(\"?\", data[col].mode().values[0])"
   ]
  },
  {
   "cell_type": "code",
   "execution_count": 15,
   "metadata": {},
   "outputs": [
    {
     "name": "stdout",
     "output_type": "stream",
     "text": [
      "Class Name : 0\n",
      " handicapped-infants : 0\n",
      " water-project-cost-sharing : 0\n",
      " adoption-of-the-budget-resolution : 0\n",
      " physician-fee-freeze : 0\n",
      " el-salvador-aid : 0\n",
      " religious-groups-in-schools : 0\n",
      " anti-satellite-test-ban : 0\n",
      " aid-to-nicaraguan-contras : 0\n",
      " mx-missile : 0\n",
      " immigration : 0\n",
      " synfuels-corporation-cutback : 0\n",
      " education-spending : 0\n",
      " superfund-right-to-sue : 0\n",
      " crime : 0\n",
      " duty-free-exports : 0\n",
      " export-administration-act-south-africa : 0\n"
     ]
    }
   ],
   "source": [
    "# sanity check\n",
    "for i in data.columns:\n",
    "    print(i,\":\",(data[i]==\"?\").sum())"
   ]
  },
  {
   "cell_type": "code",
   "execution_count": 16,
   "metadata": {},
   "outputs": [],
   "source": [
    "#droping  export-administration-act-south-africa because more than 25% of the data is corrupted\n",
    "data = data.drop([\" export-administration-act-south-africa\"],axis = 1)"
   ]
  },
  {
   "cell_type": "code",
   "execution_count": 17,
   "metadata": {},
   "outputs": [
    {
     "name": "stdout",
     "output_type": "stream",
     "text": [
      "(435, 16)\n"
     ]
    },
    {
     "data": {
      "text/html": [
       "<div>\n",
       "<style scoped>\n",
       "    .dataframe tbody tr th:only-of-type {\n",
       "        vertical-align: middle;\n",
       "    }\n",
       "\n",
       "    .dataframe tbody tr th {\n",
       "        vertical-align: top;\n",
       "    }\n",
       "\n",
       "    .dataframe thead th {\n",
       "        text-align: right;\n",
       "    }\n",
       "</style>\n",
       "<table border=\"1\" class=\"dataframe\">\n",
       "  <thead>\n",
       "    <tr style=\"text-align: right;\">\n",
       "      <th></th>\n",
       "      <th>Class Name</th>\n",
       "      <th>handicapped-infants</th>\n",
       "      <th>water-project-cost-sharing</th>\n",
       "      <th>adoption-of-the-budget-resolution</th>\n",
       "      <th>physician-fee-freeze</th>\n",
       "      <th>el-salvador-aid</th>\n",
       "      <th>religious-groups-in-schools</th>\n",
       "      <th>anti-satellite-test-ban</th>\n",
       "      <th>aid-to-nicaraguan-contras</th>\n",
       "      <th>mx-missile</th>\n",
       "      <th>immigration</th>\n",
       "      <th>synfuels-corporation-cutback</th>\n",
       "      <th>education-spending</th>\n",
       "      <th>superfund-right-to-sue</th>\n",
       "      <th>crime</th>\n",
       "      <th>duty-free-exports</th>\n",
       "    </tr>\n",
       "  </thead>\n",
       "  <tbody>\n",
       "    <tr>\n",
       "      <th>0</th>\n",
       "      <td>republican</td>\n",
       "      <td>n</td>\n",
       "      <td>y</td>\n",
       "      <td>n</td>\n",
       "      <td>y</td>\n",
       "      <td>y</td>\n",
       "      <td>y</td>\n",
       "      <td>n</td>\n",
       "      <td>n</td>\n",
       "      <td>n</td>\n",
       "      <td>y</td>\n",
       "      <td>n</td>\n",
       "      <td>y</td>\n",
       "      <td>y</td>\n",
       "      <td>y</td>\n",
       "      <td>n</td>\n",
       "    </tr>\n",
       "    <tr>\n",
       "      <th>1</th>\n",
       "      <td>republican</td>\n",
       "      <td>n</td>\n",
       "      <td>y</td>\n",
       "      <td>n</td>\n",
       "      <td>y</td>\n",
       "      <td>y</td>\n",
       "      <td>y</td>\n",
       "      <td>n</td>\n",
       "      <td>n</td>\n",
       "      <td>n</td>\n",
       "      <td>n</td>\n",
       "      <td>n</td>\n",
       "      <td>y</td>\n",
       "      <td>y</td>\n",
       "      <td>y</td>\n",
       "      <td>n</td>\n",
       "    </tr>\n",
       "    <tr>\n",
       "      <th>2</th>\n",
       "      <td>democrat</td>\n",
       "      <td>n</td>\n",
       "      <td>y</td>\n",
       "      <td>y</td>\n",
       "      <td>n</td>\n",
       "      <td>y</td>\n",
       "      <td>y</td>\n",
       "      <td>n</td>\n",
       "      <td>n</td>\n",
       "      <td>n</td>\n",
       "      <td>n</td>\n",
       "      <td>y</td>\n",
       "      <td>n</td>\n",
       "      <td>y</td>\n",
       "      <td>y</td>\n",
       "      <td>n</td>\n",
       "    </tr>\n",
       "    <tr>\n",
       "      <th>3</th>\n",
       "      <td>democrat</td>\n",
       "      <td>n</td>\n",
       "      <td>y</td>\n",
       "      <td>y</td>\n",
       "      <td>n</td>\n",
       "      <td>y</td>\n",
       "      <td>y</td>\n",
       "      <td>n</td>\n",
       "      <td>n</td>\n",
       "      <td>n</td>\n",
       "      <td>n</td>\n",
       "      <td>y</td>\n",
       "      <td>n</td>\n",
       "      <td>y</td>\n",
       "      <td>n</td>\n",
       "      <td>n</td>\n",
       "    </tr>\n",
       "    <tr>\n",
       "      <th>4</th>\n",
       "      <td>democrat</td>\n",
       "      <td>y</td>\n",
       "      <td>y</td>\n",
       "      <td>y</td>\n",
       "      <td>n</td>\n",
       "      <td>y</td>\n",
       "      <td>y</td>\n",
       "      <td>n</td>\n",
       "      <td>n</td>\n",
       "      <td>n</td>\n",
       "      <td>n</td>\n",
       "      <td>y</td>\n",
       "      <td>n</td>\n",
       "      <td>y</td>\n",
       "      <td>y</td>\n",
       "      <td>y</td>\n",
       "    </tr>\n",
       "  </tbody>\n",
       "</table>\n",
       "</div>"
      ],
      "text/plain": [
       "   Class Name  handicapped-infants  water-project-cost-sharing  \\\n",
       "0  republican                    n                           y   \n",
       "1  republican                    n                           y   \n",
       "2    democrat                    n                           y   \n",
       "3    democrat                    n                           y   \n",
       "4    democrat                    y                           y   \n",
       "\n",
       "   adoption-of-the-budget-resolution  physician-fee-freeze  el-salvador-aid  \\\n",
       "0                                  n                     y                y   \n",
       "1                                  n                     y                y   \n",
       "2                                  y                     n                y   \n",
       "3                                  y                     n                y   \n",
       "4                                  y                     n                y   \n",
       "\n",
       "   religious-groups-in-schools  anti-satellite-test-ban  \\\n",
       "0                            y                        n   \n",
       "1                            y                        n   \n",
       "2                            y                        n   \n",
       "3                            y                        n   \n",
       "4                            y                        n   \n",
       "\n",
       "   aid-to-nicaraguan-contras  mx-missile  immigration  \\\n",
       "0                          n           n            y   \n",
       "1                          n           n            n   \n",
       "2                          n           n            n   \n",
       "3                          n           n            n   \n",
       "4                          n           n            n   \n",
       "\n",
       "   synfuels-corporation-cutback  education-spending  superfund-right-to-sue  \\\n",
       "0                             n                   y                       y   \n",
       "1                             n                   y                       y   \n",
       "2                             y                   n                       y   \n",
       "3                             y                   n                       y   \n",
       "4                             y                   n                       y   \n",
       "\n",
       "   crime  duty-free-exports  \n",
       "0      y                  n  \n",
       "1      y                  n  \n",
       "2      y                  n  \n",
       "3      n                  n  \n",
       "4      y                  y  "
      ]
     },
     "execution_count": 17,
     "metadata": {},
     "output_type": "execute_result"
    }
   ],
   "source": [
    "print(data.shape)\n",
    "data.head()"
   ]
  },
  {
   "cell_type": "code",
   "execution_count": 20,
   "metadata": {
    "id": "13owZH7mIpZp"
   },
   "outputs": [
    {
     "data": {
      "text/html": [
       "<div>\n",
       "<style scoped>\n",
       "    .dataframe tbody tr th:only-of-type {\n",
       "        vertical-align: middle;\n",
       "    }\n",
       "\n",
       "    .dataframe tbody tr th {\n",
       "        vertical-align: top;\n",
       "    }\n",
       "\n",
       "    .dataframe thead th {\n",
       "        text-align: right;\n",
       "    }\n",
       "</style>\n",
       "<table border=\"1\" class=\"dataframe\">\n",
       "  <thead>\n",
       "    <tr style=\"text-align: right;\">\n",
       "      <th></th>\n",
       "      <th>Class Name</th>\n",
       "      <th>handicapped-infants</th>\n",
       "      <th>water-project-cost-sharing</th>\n",
       "      <th>adoption-of-the-budget-resolution</th>\n",
       "      <th>physician-fee-freeze</th>\n",
       "      <th>el-salvador-aid</th>\n",
       "      <th>religious-groups-in-schools</th>\n",
       "      <th>anti-satellite-test-ban</th>\n",
       "      <th>aid-to-nicaraguan-contras</th>\n",
       "      <th>mx-missile</th>\n",
       "      <th>immigration</th>\n",
       "      <th>synfuels-corporation-cutback</th>\n",
       "      <th>education-spending</th>\n",
       "      <th>superfund-right-to-sue</th>\n",
       "      <th>crime</th>\n",
       "      <th>duty-free-exports</th>\n",
       "    </tr>\n",
       "  </thead>\n",
       "  <tbody>\n",
       "    <tr>\n",
       "      <th>0</th>\n",
       "      <td>1</td>\n",
       "      <td>0</td>\n",
       "      <td>1</td>\n",
       "      <td>0</td>\n",
       "      <td>1</td>\n",
       "      <td>1</td>\n",
       "      <td>1</td>\n",
       "      <td>0</td>\n",
       "      <td>0</td>\n",
       "      <td>0</td>\n",
       "      <td>1</td>\n",
       "      <td>0</td>\n",
       "      <td>1</td>\n",
       "      <td>1</td>\n",
       "      <td>1</td>\n",
       "      <td>0</td>\n",
       "    </tr>\n",
       "    <tr>\n",
       "      <th>1</th>\n",
       "      <td>1</td>\n",
       "      <td>0</td>\n",
       "      <td>1</td>\n",
       "      <td>0</td>\n",
       "      <td>1</td>\n",
       "      <td>1</td>\n",
       "      <td>1</td>\n",
       "      <td>0</td>\n",
       "      <td>0</td>\n",
       "      <td>0</td>\n",
       "      <td>0</td>\n",
       "      <td>0</td>\n",
       "      <td>1</td>\n",
       "      <td>1</td>\n",
       "      <td>1</td>\n",
       "      <td>0</td>\n",
       "    </tr>\n",
       "    <tr>\n",
       "      <th>2</th>\n",
       "      <td>0</td>\n",
       "      <td>0</td>\n",
       "      <td>1</td>\n",
       "      <td>1</td>\n",
       "      <td>0</td>\n",
       "      <td>1</td>\n",
       "      <td>1</td>\n",
       "      <td>0</td>\n",
       "      <td>0</td>\n",
       "      <td>0</td>\n",
       "      <td>0</td>\n",
       "      <td>1</td>\n",
       "      <td>0</td>\n",
       "      <td>1</td>\n",
       "      <td>1</td>\n",
       "      <td>0</td>\n",
       "    </tr>\n",
       "    <tr>\n",
       "      <th>3</th>\n",
       "      <td>0</td>\n",
       "      <td>0</td>\n",
       "      <td>1</td>\n",
       "      <td>1</td>\n",
       "      <td>0</td>\n",
       "      <td>1</td>\n",
       "      <td>1</td>\n",
       "      <td>0</td>\n",
       "      <td>0</td>\n",
       "      <td>0</td>\n",
       "      <td>0</td>\n",
       "      <td>1</td>\n",
       "      <td>0</td>\n",
       "      <td>1</td>\n",
       "      <td>0</td>\n",
       "      <td>0</td>\n",
       "    </tr>\n",
       "    <tr>\n",
       "      <th>4</th>\n",
       "      <td>0</td>\n",
       "      <td>1</td>\n",
       "      <td>1</td>\n",
       "      <td>1</td>\n",
       "      <td>0</td>\n",
       "      <td>1</td>\n",
       "      <td>1</td>\n",
       "      <td>0</td>\n",
       "      <td>0</td>\n",
       "      <td>0</td>\n",
       "      <td>0</td>\n",
       "      <td>1</td>\n",
       "      <td>0</td>\n",
       "      <td>1</td>\n",
       "      <td>1</td>\n",
       "      <td>1</td>\n",
       "    </tr>\n",
       "  </tbody>\n",
       "</table>\n",
       "</div>"
      ],
      "text/plain": [
       "   Class Name   handicapped-infants   water-project-cost-sharing  \\\n",
       "0           1                     0                            1   \n",
       "1           1                     0                            1   \n",
       "2           0                     0                            1   \n",
       "3           0                     0                            1   \n",
       "4           0                     1                            1   \n",
       "\n",
       "    adoption-of-the-budget-resolution   physician-fee-freeze  \\\n",
       "0                                   0                      1   \n",
       "1                                   0                      1   \n",
       "2                                   1                      0   \n",
       "3                                   1                      0   \n",
       "4                                   1                      0   \n",
       "\n",
       "    el-salvador-aid   religious-groups-in-schools   anti-satellite-test-ban  \\\n",
       "0                 1                             1                         0   \n",
       "1                 1                             1                         0   \n",
       "2                 1                             1                         0   \n",
       "3                 1                             1                         0   \n",
       "4                 1                             1                         0   \n",
       "\n",
       "    aid-to-nicaraguan-contras   mx-missile   immigration  \\\n",
       "0                           0            0             1   \n",
       "1                           0            0             0   \n",
       "2                           0            0             0   \n",
       "3                           0            0             0   \n",
       "4                           0            0             0   \n",
       "\n",
       "    synfuels-corporation-cutback   education-spending  \\\n",
       "0                              0                    1   \n",
       "1                              0                    1   \n",
       "2                              1                    0   \n",
       "3                              1                    0   \n",
       "4                              1                    0   \n",
       "\n",
       "    superfund-right-to-sue   crime   duty-free-exports  \n",
       "0                        1       1                   0  \n",
       "1                        1       1                   0  \n",
       "2                        1       1                   0  \n",
       "3                        1       0                   0  \n",
       "4                        1       1                   1  "
      ]
     },
     "execution_count": 20,
     "metadata": {},
     "output_type": "execute_result"
    }
   ],
   "source": [
    "# Divide the dataset to training and testing set\n",
    "le = LabelEncoder()\n",
    "cols = list(data.columns)\n",
    "\n",
    "data[cols] = data[cols].apply(le.fit_transform)\n",
    "data.head()"
   ]
  },
  {
   "cell_type": "code",
   "execution_count": 21,
   "metadata": {},
   "outputs": [],
   "source": [
    "X = data.drop(columns = ['Class Name'], axis = 1)\n",
    "y = data[\"Class Name\"]"
   ]
  },
  {
   "cell_type": "code",
   "execution_count": 22,
   "metadata": {},
   "outputs": [
    {
     "name": "stdout",
     "output_type": "stream",
     "text": [
      "X shape :  (435, 15)\n",
      "y shape :  (435,)\n"
     ]
    }
   ],
   "source": [
    "print(\"X shape : \", X.shape)\n",
    "print(\"y shape : \", y.shape)"
   ]
  },
  {
   "cell_type": "code",
   "execution_count": 23,
   "metadata": {},
   "outputs": [
    {
     "data": {
      "text/plain": [
       "0    1\n",
       "1    1\n",
       "2   -1\n",
       "3   -1\n",
       "4   -1\n",
       "Name: Class Name, dtype: int64"
      ]
     },
     "execution_count": 23,
     "metadata": {},
     "output_type": "execute_result"
    }
   ],
   "source": [
    "# replacing 0 in y to -1, classes : {-1, 1}\n",
    "y = y.map({0 : -1, 1 : 1})\n",
    "y.head()"
   ]
  },
  {
   "cell_type": "code",
   "execution_count": 25,
   "metadata": {},
   "outputs": [
    {
     "data": {
      "text/plain": [
       "-1    267\n",
       " 1    168\n",
       "Name: Class Name, dtype: int64"
      ]
     },
     "execution_count": 25,
     "metadata": {},
     "output_type": "execute_result"
    }
   ],
   "source": [
    "y.value_counts()"
   ]
  },
  {
   "cell_type": "code",
   "execution_count": 26,
   "metadata": {},
   "outputs": [],
   "source": [
    "# split the dataset into training and testing data\n",
    "\n",
    "X_train, X_test, y_train, y_test = train_test_split(X, y, test_size = 0.2, random_state = 42)"
   ]
  },
  {
   "cell_type": "code",
   "execution_count": 27,
   "metadata": {},
   "outputs": [
    {
     "name": "stdout",
     "output_type": "stream",
     "text": [
      "X train shape :  (348, 15)\n",
      "y train shape :  (348,)\n",
      "X test shape :  (87, 15)\n",
      "y test shape :  (87,)\n"
     ]
    }
   ],
   "source": [
    "print(\"X train shape : \", X_train.shape)\n",
    "print(\"y train shape : \", y_train.shape)\n",
    "print(\"X test shape : \", X_test.shape)\n",
    "print(\"y test shape : \", y_test.shape)"
   ]
  },
  {
   "cell_type": "code",
   "execution_count": 28,
   "metadata": {
    "id": "-KEJ1BB8a5xQ"
   },
   "outputs": [],
   "source": [
    "# Implement Adaboost model from scratch\n",
    "# Adaboost consist of stumps which can be created using builtin decision trees in sklearn\n",
    "# Stump can be trained by keeping the max_depth as 1\n",
    "\n",
    "class AdaBoost:\n",
    "\n",
    "    def __init__(self):\n",
    "        self.stumps = None\n",
    "        self.stump_weights = None\n",
    "        self.errors = None\n",
    "        self.sample_weights = None\n",
    "        \n",
    "    def fit(self, X, y, no_learners):\n",
    "\n",
    "        n = X.shape[0]\n",
    "\n",
    "        self.sample_weights = np.zeros(shape=(no_learners, n))\n",
    "        self.stumps = np.zeros(shape=no_learners, dtype=object)\n",
    "        self.stump_weights = np.zeros(shape=no_learners)\n",
    "        self.errors = np.zeros(shape=no_learners)\n",
    "\n",
    "        self.sample_weights[0] = np.ones(shape=n) / n\n",
    "\n",
    "        for learner in range(no_learners):\n",
    "\n",
    "            curr_sample_weights = self.sample_weights[learner]\n",
    "            stump = DecisionTreeClassifier(max_depth=1, max_leaf_nodes=2)\n",
    "            stump = stump.fit(X, y, sample_weight=curr_sample_weights)\n",
    "\n",
    "            stump_pred = stump.predict(X)\n",
    "\n",
    "            err = curr_sample_weights[(stump_pred != y)].sum()\n",
    "            \n",
    "            stump_weight = np.log((1 - err) / err) / 2\n",
    "\n",
    "\n",
    "            new_sample_weights = curr_sample_weights * np.exp(-stump_weight * y * stump_pred)       \n",
    "\n",
    "            new_sample_weights /= new_sample_weights.sum()\n",
    "\n",
    "            if learner+1 < no_learners:\n",
    "                self.sample_weights[learner+1] = new_sample_weights\n",
    "\n",
    "            self.stumps[learner] = stump\n",
    "            self.stump_weights[learner] = stump_weight\n",
    "            self.errors[learner] = err\n",
    "\n",
    "        return self\n",
    "\n",
    "\n",
    "    def weighted_predictions(self, X):\n",
    "        stump_preds = np.array([stump.predict(X) for stump in self.stumps])\n",
    "        print(stump_preds.shape)\n",
    "        return np.sign(np.dot(self.stump_weights, stump_preds))\n",
    "    \n",
    "    def predict(self,X):\n",
    "        stump_preds = np.array([stump.predict(X) for stump in self.stumps])\n",
    "        stump_preds = stump_preds.T\n",
    "        ans = np.zeros((stump_preds.shape[0]))\n",
    "        for i in range(stump_preds.shape[0]):\n",
    "            (values,counts) = np.unique(stump_preds[i],return_counts=True)            \n",
    "            ans[i] = stump_preds[i][np.argmax(counts)]                       \n",
    "        \n",
    "        return ans\n",
    "\n",
    "\n"
   ]
  },
  {
   "cell_type": "code",
   "execution_count": 29,
   "metadata": {
    "id": "jOIhehoYbSsJ"
   },
   "outputs": [
    {
     "data": {
      "text/plain": [
       "<__main__.AdaBoost at 0x1503a131670>"
      ]
     },
     "execution_count": 29,
     "metadata": {},
     "output_type": "execute_result"
    }
   ],
   "source": [
    "# Train the model and test the model\n",
    "model = AdaBoost()\n",
    "model.fit(X_train.values, y_train.values, 10)"
   ]
  },
  {
   "cell_type": "code",
   "execution_count": 33,
   "metadata": {},
   "outputs": [],
   "source": [
    "# testing on the training data\n",
    "y_pred_train = model.predict(X_train)"
   ]
  },
  {
   "cell_type": "code",
   "execution_count": 34,
   "metadata": {},
   "outputs": [
    {
     "name": "stdout",
     "output_type": "stream",
     "text": [
      "For training data : \n",
      "               precision    recall  f1-score   support\n",
      "\n",
      "          -1       0.98      0.94      0.96       211\n",
      "           1       0.92      0.97      0.94       137\n",
      "\n",
      "    accuracy                           0.95       348\n",
      "   macro avg       0.95      0.96      0.95       348\n",
      "weighted avg       0.96      0.95      0.95       348\n",
      "\n"
     ]
    }
   ],
   "source": [
    "print(\"For training data : \\n\", classification_report(y_train, y_pred_train))"
   ]
  },
  {
   "cell_type": "code",
   "execution_count": 30,
   "metadata": {
    "id": "XUBOrqrbbX-u"
   },
   "outputs": [
    {
     "name": "stdout",
     "output_type": "stream",
     "text": [
      "(87,)\n"
     ]
    }
   ],
   "source": [
    "# Evaluate the results using accuracy, precision, recall and f-measure\n",
    "y_pred_test = model.predict(X_test)\n",
    "print(y_pred_test.shape)"
   ]
  },
  {
   "cell_type": "code",
   "execution_count": 32,
   "metadata": {},
   "outputs": [
    {
     "name": "stdout",
     "output_type": "stream",
     "text": [
      "For testing data : \n",
      "               precision    recall  f1-score   support\n",
      "\n",
      "          -1       0.98      0.96      0.97        56\n",
      "           1       0.94      0.97      0.95        31\n",
      "\n",
      "    accuracy                           0.97        87\n",
      "   macro avg       0.96      0.97      0.96        87\n",
      "weighted avg       0.97      0.97      0.97        87\n",
      "\n"
     ]
    }
   ],
   "source": [
    "print(\"For testing data : \\n\", classification_report(y_test, y_pred_test))"
   ]
  },
  {
   "cell_type": "markdown",
   "metadata": {
    "id": "9hZF7xcjbdAF"
   },
   "source": [
    "## Part 2: Adaboost using Sklearn"
   ]
  },
  {
   "cell_type": "code",
   "execution_count": 40,
   "metadata": {
    "id": "1DSX6JMEbfss"
   },
   "outputs": [],
   "source": [
    "# Use the preprocessed dataset here\n",
    "clf = AdaBoostClassifier(n_estimators = 10, random_state = 42)\n"
   ]
  },
  {
   "cell_type": "code",
   "execution_count": 41,
   "metadata": {
    "id": "2yqNwnVCbkxG"
   },
   "outputs": [
    {
     "data": {
      "text/plain": [
       "AdaBoostClassifier(n_estimators=10, random_state=42)"
      ]
     },
     "execution_count": 41,
     "metadata": {},
     "output_type": "execute_result"
    }
   ],
   "source": [
    "# Train the Adaboost Model using builtin Sklearn Dataset\n",
    "clf.fit(X_train, y_train)"
   ]
  },
  {
   "cell_type": "code",
   "execution_count": 42,
   "metadata": {
    "id": "eB_I4407bns6"
   },
   "outputs": [
    {
     "name": "stdout",
     "output_type": "stream",
     "text": [
      "On testing data : \n",
      "               precision    recall  f1-score   support\n",
      "\n",
      "          -1       0.96      0.96      0.96        56\n",
      "           1       0.94      0.94      0.94        31\n",
      "\n",
      "    accuracy                           0.95        87\n",
      "   macro avg       0.95      0.95      0.95        87\n",
      "weighted avg       0.95      0.95      0.95        87\n",
      "\n"
     ]
    }
   ],
   "source": [
    "# Test the model with testing set and print the accuracy, precision, recall and f-measure\n",
    "y_pred_test = clf.predict(X_test)\n",
    "print(\"On testing data : \\n\", classification_report(y_test, y_pred_test))"
   ]
  },
  {
   "cell_type": "code",
   "execution_count": 43,
   "metadata": {
    "id": "aK086juobpRo"
   },
   "outputs": [],
   "source": [
    "# Play with parameters such as\n",
    "# number of decision trees\n",
    "# Criterion for splitting\n",
    "# Max depth\n",
    "# Minimum samples per split and leaf"
   ]
  },
  {
   "cell_type": "code",
   "execution_count": 50,
   "metadata": {},
   "outputs": [
    {
     "name": "stdout",
     "output_type": "stream",
     "text": [
      "[ 1  2  3  4  5  6  7  8  9 10]\n"
     ]
    },
    {
     "data": {
      "image/png": "[encoded data removed]",
      "text/plain": [
       "<Figure size 432x288 with 1 Axes>"
      ]
     },
     "metadata": {
      "needs_background": "light"
     },
     "output_type": "display_data"
    }
   ],
   "source": [
    "model_acc, model_f1, model_precision = [], [], []\n",
    "\n",
    "for i in range(1,11):\n",
    "    clf = AdaBoostClassifier(base_estimator = DecisionTreeClassifier(), n_estimators=i, random_state=0)\n",
    "    clf.fit(X_train, y_train)\n",
    "    y_pred = clf.predict(X_test)\n",
    "    model_acc.append(accuracy_score(y_test,y_pred))\n",
    "    model_f1.append(f1_score(y_test,y_pred))\n",
    "    model_precision.append(precision_score(y_test, y_pred))\n",
    "    \n",
    "x = np.arange(1, 11)\n",
    "print(x)\n",
    "plt.plot(x, model_acc, label = \"accuracy\", color='r')\n",
    "plt.plot(x, model_precision, label = \"precision\", color='b')\n",
    "plt.plot(x, model_f1, label = \"f1 score\", color='g')\n",
    "\n",
    "\n",
    "plt.legend()\n",
    "plt.xlabel(\"No. of Weak Learners\")\n",
    "plt.ylabel(\"Score\")\n",
    "plt.show()"
   ]
  },
  {
   "cell_type": "code",
   "execution_count": 51,
   "metadata": {},
   "outputs": [
    {
     "data": {
      "image/png": "[encoded data removed]",
      "text/plain": [
       "<Figure size 432x288 with 1 Axes>"
      ]
     },
     "metadata": {
      "needs_background": "light"
     },
     "output_type": "display_data"
    }
   ],
   "source": [
    "depth_acc, depth_f1, depth_precision = [], [], []\n",
    "\n",
    "for i in range(1,11):\n",
    "    clf = AdaBoostClassifier(base_estimator = DecisionTreeClassifier(max_depth = i), n_estimators=5, random_state=0)\n",
    "    clf.fit(X_train, y_train)\n",
    "    y_pred = clf.predict(X_test)\n",
    "    depth_acc.append(accuracy_score(y_test, y_pred))\n",
    "    depth_f1.append(f1_score(y_test, y_pred))\n",
    "    depth_precision.append(precision_score(y_test, y_pred))\n",
    "    \n",
    "    \n",
    "import matplotlib.pyplot as plt\n",
    "x = np.arange(1, 11)\n",
    "plt.plot(x, depth_acc,label = \"accuracy\")\n",
    "plt.plot(x, depth_f1, label = \"f1 score\")\n",
    "plt.plot(x, depth_precision, label = \"precision\")\n",
    "\n",
    "plt.legend()\n",
    "plt.xlabel(\"max_depth\")\n",
    "plt.ylabel(\"score\")\n",
    "plt.show()"
   ]
  },
  {
   "cell_type": "code",
   "execution_count": 53,
   "metadata": {},
   "outputs": [
    {
     "name": "stdout",
     "output_type": "stream",
     "text": [
      "accuracy with criterion as gini : 0.9310344827586207\n",
      "f1 with criterion gini : 0.9\n",
      "precision with criterion as gini : 0.9310344827586207\n",
      "===========================================================================================\n",
      "accuracy with criterion as entropy : 0.9425287356321839\n",
      "f1 with criterion entropy : 0.9180327868852459\n",
      "precision with criterion as entropy : 0.9333333333333333\n",
      "===========================================================================================\n"
     ]
    }
   ],
   "source": [
    "criterion = [\"gini\",\"entropy\"]\n",
    "for i in criterion:\n",
    "    clf = AdaBoostClassifier(base_estimator = DecisionTreeClassifier(criterion = i), n_estimators=5, random_state=0)\n",
    "    clf.fit(X_train, y_train)\n",
    "    test_predictions = clf.predict(X_test)\n",
    "    print(\"accuracy with criterion as {} :\".format(i),accuracy_score(y_test,test_predictions))\n",
    "    print(\"f1 with criterion {} :\".format(i),f1_score(y_test,test_predictions))\n",
    "    print(\"precision with criterion as {} :\".format(i),precision_score(y_test,test_predictions))\n",
    "    print(\"===========================================================================================\")\n",
    "    "
   ]
  },
  {
   "cell_type": "markdown",
   "metadata": {
    "id": "08GzOdPKbqPg"
   },
   "source": [
    "## Part 3: Compare the models"
   ]
  },
  {
   "cell_type": "code",
   "execution_count": 54,
   "metadata": {
    "id": "Kr91M76xbtc0"
   },
   "outputs": [],
   "source": [
    "# Train Adaboost, Random Forest and Decision tree models from sklearn\n",
    "ada = AdaBoostClassifier()\n",
    "dt = DecisionTreeClassifier()\n",
    "rf = RandomForestClassifier()"
   ]
  },
  {
   "cell_type": "code",
   "execution_count": 55,
   "metadata": {},
   "outputs": [
    {
     "data": {
      "text/plain": [
       "RandomForestClassifier()"
      ]
     },
     "execution_count": 55,
     "metadata": {},
     "output_type": "execute_result"
    }
   ],
   "source": [
    "# Fitting the models on training dataset\n",
    "ada.fit(X_train, y_train)\n",
    "dt.fit(X_train, y_train)\n",
    "rf.fit(X_train, y_train)"
   ]
  },
  {
   "cell_type": "code",
   "execution_count": 56,
   "metadata": {},
   "outputs": [],
   "source": [
    "# testing on the training data\n",
    "y_pred_train_ada = ada.predict(X_train)\n",
    "y_pred_train_dt = dt.predict(X_train)\n",
    "y_pred_train_rf = rf.predict(X_train)"
   ]
  },
  {
   "cell_type": "code",
   "execution_count": 58,
   "metadata": {},
   "outputs": [
    {
     "name": "stdout",
     "output_type": "stream",
     "text": [
      "AdaBoost : \n",
      "               precision    recall  f1-score   support\n",
      "\n",
      "          -1       0.97      0.97      0.97       211\n",
      "           1       0.96      0.95      0.95       137\n",
      "\n",
      "    accuracy                           0.96       348\n",
      "   macro avg       0.96      0.96      0.96       348\n",
      "weighted avg       0.96      0.96      0.96       348\n",
      "\n",
      "===========================================================================================\n",
      "DecisionTree : \n",
      "               precision    recall  f1-score   support\n",
      "\n",
      "          -1       1.00      1.00      1.00       211\n",
      "           1       0.99      0.99      0.99       137\n",
      "\n",
      "    accuracy                           0.99       348\n",
      "   macro avg       0.99      0.99      0.99       348\n",
      "weighted avg       0.99      0.99      0.99       348\n",
      "\n",
      "===========================================================================================\n",
      "RandomForest : \n",
      "               precision    recall  f1-score   support\n",
      "\n",
      "          -1       1.00      0.99      1.00       211\n",
      "           1       0.99      1.00      0.99       137\n",
      "\n",
      "    accuracy                           0.99       348\n",
      "   macro avg       0.99      1.00      0.99       348\n",
      "weighted avg       0.99      0.99      0.99       348\n",
      "\n"
     ]
    }
   ],
   "source": [
    "print(\"AdaBoost : \\n\", classification_report(y_train, y_pred_train_ada))\n",
    "print(\"===========================================================================================\")\n",
    "print(\"DecisionTree : \\n\", classification_report(y_train, y_pred_train_dt))\n",
    "print(\"===========================================================================================\")\n",
    "print(\"RandomForest : \\n\", classification_report(y_train, y_pred_train_rf))"
   ]
  },
  {
   "cell_type": "code",
   "execution_count": 59,
   "metadata": {
    "id": "LPPI9vK_bzLz"
   },
   "outputs": [],
   "source": [
    "# Run the model on testing set\n",
    "y_pred_test_ada = ada.predict(X_test)\n",
    "y_pred_test_dt = dt.predict(X_test)\n",
    "y_pred_test_rf = rf.predict(X_test)"
   ]
  },
  {
   "cell_type": "code",
   "execution_count": 60,
   "metadata": {},
   "outputs": [
    {
     "name": "stdout",
     "output_type": "stream",
     "text": [
      "AdaBoost : \n",
      "               precision    recall  f1-score   support\n",
      "\n",
      "          -1       0.96      0.98      0.97        56\n",
      "           1       0.97      0.94      0.95        31\n",
      "\n",
      "    accuracy                           0.97        87\n",
      "   macro avg       0.97      0.96      0.96        87\n",
      "weighted avg       0.97      0.97      0.97        87\n",
      "\n",
      "===========================================================================================\n",
      "DecisionTree : \n",
      "               precision    recall  f1-score   support\n",
      "\n",
      "          -1       0.91      0.95      0.93        56\n",
      "           1       0.90      0.84      0.87        31\n",
      "\n",
      "    accuracy                           0.91        87\n",
      "   macro avg       0.91      0.89      0.90        87\n",
      "weighted avg       0.91      0.91      0.91        87\n",
      "\n",
      "===========================================================================================\n",
      "RandomForest : \n",
      "               precision    recall  f1-score   support\n",
      "\n",
      "          -1       0.96      0.96      0.96        56\n",
      "           1       0.94      0.94      0.94        31\n",
      "\n",
      "    accuracy                           0.95        87\n",
      "   macro avg       0.95      0.95      0.95        87\n",
      "weighted avg       0.95      0.95      0.95        87\n",
      "\n"
     ]
    }
   ],
   "source": [
    "print(\"AdaBoost : \\n\", classification_report(y_test, y_pred_test_ada))\n",
    "print(\"===========================================================================================\")\n",
    "print(\"DecisionTree : \\n\", classification_report(y_test, y_pred_test_dt))\n",
    "print(\"===========================================================================================\")\n",
    "print(\"RandomForest : \\n\", classification_report(y_test, y_pred_test_rf))"
   ]
  },
  {
   "cell_type": "code",
   "execution_count": 61,
   "metadata": {
    "id": "mdSk17pkb25Q"
   },
   "outputs": [
    {
     "data": {
      "image/png": "[encoded data removed]",
      "text/plain": [
       "<Figure size 432x288 with 1 Axes>"
      ]
     },
     "metadata": {
      "needs_background": "light"
     },
     "output_type": "display_data"
    }
   ],
   "source": [
    "# Compare their accuracy, precision, recall and f-measure\n",
    "\n",
    "# ACCURACY SCORE\n",
    "x1 = [\"Random Forest\",\"Decision Tree\",\"AdaBoost\"]\n",
    "y1 = [accuracy_score(y_test, y_pred_test_rf) , accuracy_score(y_test, y_pred_test_dt),accuracy_score(y_test, y_pred_test_ada)]\n",
    "plt.bar(x1,y1,color=['r','g','b'])\n",
    "plt.title(\"Accuracy Score\")\n",
    "plt.show()"
   ]
  },
  {
   "cell_type": "code",
   "execution_count": 62,
   "metadata": {},
   "outputs": [
    {
     "data": {
      "image/png": "[encoded data removed]",
      "text/plain": [
       "<Figure size 432x288 with 1 Axes>"
      ]
     },
     "metadata": {
      "needs_background": "light"
     },
     "output_type": "display_data"
    }
   ],
   "source": [
    "# Compare their accuracy, precision, recall and f-measure\n",
    "\n",
    "# ACCURACY SCORE\n",
    "x1 = [\"Random Forest\",\"Decision Tree\",\"AdaBoost\"]\n",
    "y1 = [precision_score(y_test, y_pred_test_rf) , precision_score(y_test, y_pred_test_dt),precision_score(y_test, y_pred_test_ada)]\n",
    "plt.bar(x1,y1,color=['r','g','b'])\n",
    "plt.title(\"precision Score\")\n",
    "plt.show()"
   ]
  },
  {
   "cell_type": "code",
   "execution_count": 63,
   "metadata": {},
   "outputs": [
    {
     "data": {
      "image/png": "[encoded data removed]",
      "text/plain": [
       "<Figure size 432x288 with 1 Axes>"
      ]
     },
     "metadata": {
      "needs_background": "light"
     },
     "output_type": "display_data"
    }
   ],
   "source": [
    "# Compare their accuracy, precision, recall and f-measure\n",
    "\n",
    "# ACCURACY SCORE\n",
    "x1 = [\"Random Forest\",\"Decision Tree\",\"AdaBoost\"]\n",
    "y1 = [f1_score(y_test, y_pred_test_rf) , f1_score(y_test, y_pred_test_dt),f1_score(y_test, y_pred_test_ada)]\n",
    "plt.bar(x1,y1,color=['r','g','b'])\n",
    "plt.title(\"F1 Score\")\n",
    "plt.show()"
   ]
  },
  {
   "cell_type": "code",
   "execution_count": null,
   "metadata": {},
   "outputs": [],
   "source": []
  }
 ],
 "metadata": {
  "colab": {
   "collapsed_sections": [],
   "name": "Task 2 - Adaboost Classification.ipynb",
   "provenance": []
  },
  "kernelspec": {
   "display_name": "Python 3",
   "language": "python",
   "name": "python3"
  },
  "language_info": {
   "codemirror_mode": {
    "name": "ipython",
    "version": 3
   },
   "file_extension": ".py",
   "mimetype": "text/x-python",
   "name": "python",
   "nbconvert_exporter": "python",
   "pygments_lexer": "ipython3",
   "version": "3.8.3"
  }
 },
 "nbformat": 4,
 "nbformat_minor": 1
}
