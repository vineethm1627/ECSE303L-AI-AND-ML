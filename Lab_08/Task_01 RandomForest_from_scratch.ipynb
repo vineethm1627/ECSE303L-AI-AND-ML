{
 "cells": [
  {
   "cell_type": "markdown",
   "metadata": {
    "id": "m5A6n7jvYxPC"
   },
   "source": [
    "#Vehicle silhouettes\n",
    "\n",
    "##Objective\n",
    "To classify a given silhouette as one of four types of vehicle, \tusing a set of features extracted from the silhouette. The \tvehicle may be viewed from one of many different angles.   \n",
    "\n",
    "##Description\n",
    "\n",
    "###The features were extracted from the silhouettes by the HIPS\n",
    "(Hierarchical Image Processing System) extension BINATTS, which extracts a combination of scale independent features utilising\tboth classical moments based measures such as scaled variance,\tskewness and kurtosis about the major/minor axes and heuristic\tmeasures such as hollows, circularity, rectangularity and\tcompactness. Four \"Corgie\" model vehicles were used for the experiment: a double decker bus, Cheverolet van, Saab 9000 and an Opel Manta 400.\tThis particular combination of vehicles was chosen with the expectation that the bus, van and either one of the cars would be readily distinguishable, but it would be more difficult to distinguish between the cars.\n",
    "\t\n",
    "##Source: https://www.kaggle.com/rajansharma780/vehicle\n",
    "\n",
    "## ATTRIBUTES\n",
    "1.\tcompactness\tfloat\taverage perimeter**2/area\n",
    "2.\tcircularity\tfloat\taverage radius**2/area\n",
    "3.\tdistance_circularity\tfloat\tarea/(av.distance from border)**2\n",
    "4.\tradius_ratio\tfloat\t(max.rad-min.rad)/av.radius\n",
    "5.\tpr_axis_aspect_ratio\tfloat\t(minor axis)/(major axis)\n",
    "6.\tmax_length_aspect_ratio\tfloat\t(length perp. max length)/(max length)\n",
    "7.\tscatter_ratio\tfloat\t(inertia about minor axis)/(inertia about major axis)\n",
    "8.\telongatedness\tfloat\tarea/(shrink width)**2\n",
    "9.\tpr_axis_rectangularity\tfloat\tarea/(pr.axis length*pr.axis width)\n",
    "10.\tmax_length_rectangularity\tfloat\tarea/(max.length*length perp. to this)\n",
    "11.\tscaled_variance_major_axis\tfloat\t(2nd order moment about minor axis)/area\n",
    "12.\tscaled_variance_minor_axis\tfloat\t(2nd order moment about major axis)/area\n",
    "13.\tscaled_radius_gyration\tfloat\t(mavar+mivar)/area\n",
    "14.\tskewness_major_axis\tfloat\t(3rd order moment about major axis)/sigma_min**3\n",
    "15.\tskewness_minor_axis\tfloat\t(3rd order moment about minor axis)/sigma_maj**3\n",
    "16.\tkurtosis_minor_axis\tfloat\t(4th order moment about major axis)/sigma_min**4\n",
    "17.\tkurtosis_major_axis\tfloat\t(4th order moment about minor axis)/sigma_maj**4\n",
    "18.\thollows_ratio\tfloat\t(area of hollows)/(area of bounding polygon)\n",
    "\n",
    "##Target variable\n",
    "19.\tvehicle_class\tstring\tPredictor Class. Values: Opel, Saab, Bus, Van\t\n",
    "\n",
    "#Tasks:\n",
    "1.\tObtain the multi-class dataset from the given link\n",
    "2.\tLoad the dataset\n",
    "3.\tApply pre-processing techniques: Encoding, Scaling\n",
    "4.\tDivide the dataset into training (70%) and testing (30%)\n",
    "5.\tBuild your own random forest model from scratch (using invidual decision tree model from sklearn)\n",
    "6.\tTrain the random forest model\n",
    "7.\tTest the random forest model\n",
    "8.\tTrain and test the random forest model using sklearn.\n",
    "9.\tCompare the performance of both the models\n",
    "\n",
    "##Useful links:\n",
    "https://machinelearningmastery.com/implement-random-forest-scratch-python/\n",
    "\n",
    "https://towardsdatascience.com/random-forests-and-decision-trees-from-scratch-in-python-3e4fa5ae4249\n",
    "\n",
    "https://www.analyticsvidhya.com/blog/2018/12/building-a-random-forest-from-scratch-understanding-real-world-data-products-ml-for-programmers-part-3/"
   ]
  },
  {
   "cell_type": "markdown",
   "metadata": {
    "id": "W-FoSpD3QDP4"
   },
   "source": [
    "# Part 1: Random Forest from scratch\n",
    "\n",
    "Random forests are an ensemble learning method for classification and regression that operate by constructing multiple decision trees at training time and outputting the class that is the mode of the classes (classification) or mean prediction (regression) of the individual trees."
   ]
  },
  {
   "cell_type": "code",
   "execution_count": 71,
   "metadata": {
    "id": "4q0F2HVFPl0R"
   },
   "outputs": [],
   "source": [
    "# Load the libraries\n",
    "import numpy as np\n",
    "import pandas as pd\n",
    "import matplotlib.pyplot as plt\n",
    "from sklearn.preprocessing import LabelEncoder, MinMaxScaler\n",
    "from sklearn.model_selection import train_test_split\n",
    "from sklearn.ensemble import RandomForestClassifier\n",
    "from sklearn.metrics import accuracy_score, precision_score, recall_score, f1_score, classification_report\n",
    "\n",
    "from sklearn.tree import DecisionTreeClassifier\n",
    "from collections import Counter"
   ]
  },
  {
   "cell_type": "code",
   "execution_count": 2,
   "metadata": {
    "id": "VACehGfwPoAg"
   },
   "outputs": [
    {
     "data": {
      "text/html": [
       "<div>\n",
       "<style scoped>\n",
       "    .dataframe tbody tr th:only-of-type {\n",
       "        vertical-align: middle;\n",
       "    }\n",
       "\n",
       "    .dataframe tbody tr th {\n",
       "        vertical-align: top;\n",
       "    }\n",
       "\n",
       "    .dataframe thead th {\n",
       "        text-align: right;\n",
       "    }\n",
       "</style>\n",
       "<table border=\"1\" class=\"dataframe\">\n",
       "  <thead>\n",
       "    <tr style=\"text-align: right;\">\n",
       "      <th></th>\n",
       "      <th>compactness</th>\n",
       "      <th>circularity</th>\n",
       "      <th>distance_circularity</th>\n",
       "      <th>radius_ratio</th>\n",
       "      <th>pr.axis_aspect_ratio</th>\n",
       "      <th>max.length_aspect_ratio</th>\n",
       "      <th>scatter_ratio</th>\n",
       "      <th>elongatedness</th>\n",
       "      <th>pr.axis_rectangularity</th>\n",
       "      <th>max.length_rectangularity</th>\n",
       "      <th>scaled_variance</th>\n",
       "      <th>scaled_variance.1</th>\n",
       "      <th>scaled_radius_of_gyration</th>\n",
       "      <th>scaled_radius_of_gyration.1</th>\n",
       "      <th>skewness_about</th>\n",
       "      <th>skewness_about.1</th>\n",
       "      <th>skewness_about.2</th>\n",
       "      <th>hollows_ratio</th>\n",
       "      <th>class</th>\n",
       "    </tr>\n",
       "  </thead>\n",
       "  <tbody>\n",
       "    <tr>\n",
       "      <th>0</th>\n",
       "      <td>95</td>\n",
       "      <td>48.0</td>\n",
       "      <td>83.0</td>\n",
       "      <td>178.0</td>\n",
       "      <td>72.0</td>\n",
       "      <td>10</td>\n",
       "      <td>162.0</td>\n",
       "      <td>42.0</td>\n",
       "      <td>20.0</td>\n",
       "      <td>159</td>\n",
       "      <td>176.0</td>\n",
       "      <td>379.0</td>\n",
       "      <td>184.0</td>\n",
       "      <td>70.0</td>\n",
       "      <td>6.0</td>\n",
       "      <td>16.0</td>\n",
       "      <td>187.0</td>\n",
       "      <td>197</td>\n",
       "      <td>van</td>\n",
       "    </tr>\n",
       "    <tr>\n",
       "      <th>1</th>\n",
       "      <td>91</td>\n",
       "      <td>41.0</td>\n",
       "      <td>84.0</td>\n",
       "      <td>141.0</td>\n",
       "      <td>57.0</td>\n",
       "      <td>9</td>\n",
       "      <td>149.0</td>\n",
       "      <td>45.0</td>\n",
       "      <td>19.0</td>\n",
       "      <td>143</td>\n",
       "      <td>170.0</td>\n",
       "      <td>330.0</td>\n",
       "      <td>158.0</td>\n",
       "      <td>72.0</td>\n",
       "      <td>9.0</td>\n",
       "      <td>14.0</td>\n",
       "      <td>189.0</td>\n",
       "      <td>199</td>\n",
       "      <td>van</td>\n",
       "    </tr>\n",
       "    <tr>\n",
       "      <th>2</th>\n",
       "      <td>104</td>\n",
       "      <td>50.0</td>\n",
       "      <td>106.0</td>\n",
       "      <td>209.0</td>\n",
       "      <td>66.0</td>\n",
       "      <td>10</td>\n",
       "      <td>207.0</td>\n",
       "      <td>32.0</td>\n",
       "      <td>23.0</td>\n",
       "      <td>158</td>\n",
       "      <td>223.0</td>\n",
       "      <td>635.0</td>\n",
       "      <td>220.0</td>\n",
       "      <td>73.0</td>\n",
       "      <td>14.0</td>\n",
       "      <td>9.0</td>\n",
       "      <td>188.0</td>\n",
       "      <td>196</td>\n",
       "      <td>car</td>\n",
       "    </tr>\n",
       "    <tr>\n",
       "      <th>3</th>\n",
       "      <td>93</td>\n",
       "      <td>41.0</td>\n",
       "      <td>82.0</td>\n",
       "      <td>159.0</td>\n",
       "      <td>63.0</td>\n",
       "      <td>9</td>\n",
       "      <td>144.0</td>\n",
       "      <td>46.0</td>\n",
       "      <td>19.0</td>\n",
       "      <td>143</td>\n",
       "      <td>160.0</td>\n",
       "      <td>309.0</td>\n",
       "      <td>127.0</td>\n",
       "      <td>63.0</td>\n",
       "      <td>6.0</td>\n",
       "      <td>10.0</td>\n",
       "      <td>199.0</td>\n",
       "      <td>207</td>\n",
       "      <td>van</td>\n",
       "    </tr>\n",
       "    <tr>\n",
       "      <th>4</th>\n",
       "      <td>85</td>\n",
       "      <td>44.0</td>\n",
       "      <td>70.0</td>\n",
       "      <td>205.0</td>\n",
       "      <td>103.0</td>\n",
       "      <td>52</td>\n",
       "      <td>149.0</td>\n",
       "      <td>45.0</td>\n",
       "      <td>19.0</td>\n",
       "      <td>144</td>\n",
       "      <td>241.0</td>\n",
       "      <td>325.0</td>\n",
       "      <td>188.0</td>\n",
       "      <td>127.0</td>\n",
       "      <td>9.0</td>\n",
       "      <td>11.0</td>\n",
       "      <td>180.0</td>\n",
       "      <td>183</td>\n",
       "      <td>bus</td>\n",
       "    </tr>\n",
       "  </tbody>\n",
       "</table>\n",
       "</div>"
      ],
      "text/plain": [
       "   compactness  circularity  distance_circularity  radius_ratio  \\\n",
       "0           95         48.0                  83.0         178.0   \n",
       "1           91         41.0                  84.0         141.0   \n",
       "2          104         50.0                 106.0         209.0   \n",
       "3           93         41.0                  82.0         159.0   \n",
       "4           85         44.0                  70.0         205.0   \n",
       "\n",
       "   pr.axis_aspect_ratio  max.length_aspect_ratio  scatter_ratio  \\\n",
       "0                  72.0                       10          162.0   \n",
       "1                  57.0                        9          149.0   \n",
       "2                  66.0                       10          207.0   \n",
       "3                  63.0                        9          144.0   \n",
       "4                 103.0                       52          149.0   \n",
       "\n",
       "   elongatedness  pr.axis_rectangularity  max.length_rectangularity  \\\n",
       "0           42.0                    20.0                        159   \n",
       "1           45.0                    19.0                        143   \n",
       "2           32.0                    23.0                        158   \n",
       "3           46.0                    19.0                        143   \n",
       "4           45.0                    19.0                        144   \n",
       "\n",
       "   scaled_variance  scaled_variance.1  scaled_radius_of_gyration  \\\n",
       "0            176.0              379.0                      184.0   \n",
       "1            170.0              330.0                      158.0   \n",
       "2            223.0              635.0                      220.0   \n",
       "3            160.0              309.0                      127.0   \n",
       "4            241.0              325.0                      188.0   \n",
       "\n",
       "   scaled_radius_of_gyration.1  skewness_about  skewness_about.1  \\\n",
       "0                         70.0             6.0              16.0   \n",
       "1                         72.0             9.0              14.0   \n",
       "2                         73.0            14.0               9.0   \n",
       "3                         63.0             6.0              10.0   \n",
       "4                        127.0             9.0              11.0   \n",
       "\n",
       "   skewness_about.2  hollows_ratio class  \n",
       "0             187.0            197   van  \n",
       "1             189.0            199   van  \n",
       "2             188.0            196   car  \n",
       "3             199.0            207   van  \n",
       "4             180.0            183   bus  "
      ]
     },
     "execution_count": 2,
     "metadata": {},
     "output_type": "execute_result"
    }
   ],
   "source": [
    "# Load the dataset \n",
    "data = pd.read_csv(\"dataset/vehicle.csv\")\n",
    "data.head()"
   ]
  },
  {
   "cell_type": "code",
   "execution_count": 4,
   "metadata": {
    "id": "S47gOYRhPqKF"
   },
   "outputs": [
    {
     "data": {
      "text/plain": [
       "(846, 19)"
      ]
     },
     "execution_count": 4,
     "metadata": {},
     "output_type": "execute_result"
    }
   ],
   "source": [
    "# Preprocessing\n",
    "# Encoding categorical variables (if any)\n",
    "# Feature Scaling\n",
    "# Filling missing values (if any)\n",
    "data.shape"
   ]
  },
  {
   "cell_type": "code",
   "execution_count": 7,
   "metadata": {},
   "outputs": [],
   "source": [
    "data['class'].unique()\n",
    "le = LabelEncoder()\n",
    "\n",
    "data['class'] = le.fit_transform(data['class'])"
   ]
  },
  {
   "cell_type": "code",
   "execution_count": 8,
   "metadata": {},
   "outputs": [
    {
     "data": {
      "text/plain": [
       "array([2, 1, 0])"
      ]
     },
     "execution_count": 8,
     "metadata": {},
     "output_type": "execute_result"
    }
   ],
   "source": [
    "data['class'].unique()"
   ]
  },
  {
   "cell_type": "code",
   "execution_count": 11,
   "metadata": {},
   "outputs": [
    {
     "name": "stdout",
     "output_type": "stream",
     "text": [
      "['compactness', 'circularity', 'distance_circularity', 'radius_ratio', 'pr.axis_aspect_ratio', 'max.length_aspect_ratio', 'scatter_ratio', 'elongatedness', 'pr.axis_rectangularity', 'max.length_rectangularity', 'scaled_variance', 'scaled_variance.1', 'scaled_radius_of_gyration', 'scaled_radius_of_gyration.1', 'skewness_about', 'skewness_about.1', 'skewness_about.2', 'hollows_ratio']\n",
      "18\n"
     ]
    }
   ],
   "source": [
    "cols = list(data.columns)\n",
    "cols.remove('class')\n",
    "print(cols)\n",
    "print(len(cols))"
   ]
  },
  {
   "cell_type": "code",
   "execution_count": 12,
   "metadata": {},
   "outputs": [],
   "source": [
    "scaler = MinMaxScaler()\n",
    "data[cols] = scaler.fit_transform(data[cols])"
   ]
  },
  {
   "cell_type": "code",
   "execution_count": 13,
   "metadata": {},
   "outputs": [
    {
     "data": {
      "text/html": [
       "<div>\n",
       "<style scoped>\n",
       "    .dataframe tbody tr th:only-of-type {\n",
       "        vertical-align: middle;\n",
       "    }\n",
       "\n",
       "    .dataframe tbody tr th {\n",
       "        vertical-align: top;\n",
       "    }\n",
       "\n",
       "    .dataframe thead th {\n",
       "        text-align: right;\n",
       "    }\n",
       "</style>\n",
       "<table border=\"1\" class=\"dataframe\">\n",
       "  <thead>\n",
       "    <tr style=\"text-align: right;\">\n",
       "      <th></th>\n",
       "      <th>compactness</th>\n",
       "      <th>circularity</th>\n",
       "      <th>distance_circularity</th>\n",
       "      <th>radius_ratio</th>\n",
       "      <th>pr.axis_aspect_ratio</th>\n",
       "      <th>max.length_aspect_ratio</th>\n",
       "      <th>scatter_ratio</th>\n",
       "      <th>elongatedness</th>\n",
       "      <th>pr.axis_rectangularity</th>\n",
       "      <th>max.length_rectangularity</th>\n",
       "      <th>scaled_variance</th>\n",
       "      <th>scaled_variance.1</th>\n",
       "      <th>scaled_radius_of_gyration</th>\n",
       "      <th>scaled_radius_of_gyration.1</th>\n",
       "      <th>skewness_about</th>\n",
       "      <th>skewness_about.1</th>\n",
       "      <th>skewness_about.2</th>\n",
       "      <th>hollows_ratio</th>\n",
       "      <th>class</th>\n",
       "    </tr>\n",
       "  </thead>\n",
       "  <tbody>\n",
       "    <tr>\n",
       "      <th>0</th>\n",
       "      <td>0.478261</td>\n",
       "      <td>0.576923</td>\n",
       "      <td>0.597222</td>\n",
       "      <td>0.323144</td>\n",
       "      <td>0.274725</td>\n",
       "      <td>0.150943</td>\n",
       "      <td>0.326797</td>\n",
       "      <td>0.457143</td>\n",
       "      <td>0.250000</td>\n",
       "      <td>0.585714</td>\n",
       "      <td>0.242105</td>\n",
       "      <td>0.233813</td>\n",
       "      <td>0.471698</td>\n",
       "      <td>0.144737</td>\n",
       "      <td>0.272727</td>\n",
       "      <td>0.390244</td>\n",
       "      <td>0.366667</td>\n",
       "      <td>0.533333</td>\n",
       "      <td>2</td>\n",
       "    </tr>\n",
       "    <tr>\n",
       "      <th>1</th>\n",
       "      <td>0.391304</td>\n",
       "      <td>0.307692</td>\n",
       "      <td>0.611111</td>\n",
       "      <td>0.161572</td>\n",
       "      <td>0.109890</td>\n",
       "      <td>0.132075</td>\n",
       "      <td>0.241830</td>\n",
       "      <td>0.542857</td>\n",
       "      <td>0.166667</td>\n",
       "      <td>0.357143</td>\n",
       "      <td>0.210526</td>\n",
       "      <td>0.175060</td>\n",
       "      <td>0.308176</td>\n",
       "      <td>0.171053</td>\n",
       "      <td>0.409091</td>\n",
       "      <td>0.341463</td>\n",
       "      <td>0.433333</td>\n",
       "      <td>0.600000</td>\n",
       "      <td>2</td>\n",
       "    </tr>\n",
       "    <tr>\n",
       "      <th>2</th>\n",
       "      <td>0.673913</td>\n",
       "      <td>0.653846</td>\n",
       "      <td>0.916667</td>\n",
       "      <td>0.458515</td>\n",
       "      <td>0.208791</td>\n",
       "      <td>0.150943</td>\n",
       "      <td>0.620915</td>\n",
       "      <td>0.171429</td>\n",
       "      <td>0.500000</td>\n",
       "      <td>0.571429</td>\n",
       "      <td>0.489474</td>\n",
       "      <td>0.540767</td>\n",
       "      <td>0.698113</td>\n",
       "      <td>0.184211</td>\n",
       "      <td>0.636364</td>\n",
       "      <td>0.219512</td>\n",
       "      <td>0.400000</td>\n",
       "      <td>0.500000</td>\n",
       "      <td>1</td>\n",
       "    </tr>\n",
       "    <tr>\n",
       "      <th>3</th>\n",
       "      <td>0.434783</td>\n",
       "      <td>0.307692</td>\n",
       "      <td>0.583333</td>\n",
       "      <td>0.240175</td>\n",
       "      <td>0.175824</td>\n",
       "      <td>0.132075</td>\n",
       "      <td>0.209150</td>\n",
       "      <td>0.571429</td>\n",
       "      <td>0.166667</td>\n",
       "      <td>0.357143</td>\n",
       "      <td>0.157895</td>\n",
       "      <td>0.149880</td>\n",
       "      <td>0.113208</td>\n",
       "      <td>0.052632</td>\n",
       "      <td>0.272727</td>\n",
       "      <td>0.243902</td>\n",
       "      <td>0.766667</td>\n",
       "      <td>0.866667</td>\n",
       "      <td>2</td>\n",
       "    </tr>\n",
       "    <tr>\n",
       "      <th>4</th>\n",
       "      <td>0.260870</td>\n",
       "      <td>0.423077</td>\n",
       "      <td>0.416667</td>\n",
       "      <td>0.441048</td>\n",
       "      <td>0.615385</td>\n",
       "      <td>0.943396</td>\n",
       "      <td>0.241830</td>\n",
       "      <td>0.542857</td>\n",
       "      <td>0.166667</td>\n",
       "      <td>0.371429</td>\n",
       "      <td>0.584211</td>\n",
       "      <td>0.169065</td>\n",
       "      <td>0.496855</td>\n",
       "      <td>0.894737</td>\n",
       "      <td>0.409091</td>\n",
       "      <td>0.268293</td>\n",
       "      <td>0.133333</td>\n",
       "      <td>0.066667</td>\n",
       "      <td>0</td>\n",
       "    </tr>\n",
       "  </tbody>\n",
       "</table>\n",
       "</div>"
      ],
      "text/plain": [
       "   compactness  circularity  distance_circularity  radius_ratio  \\\n",
       "0     0.478261     0.576923              0.597222      0.323144   \n",
       "1     0.391304     0.307692              0.611111      0.161572   \n",
       "2     0.673913     0.653846              0.916667      0.458515   \n",
       "3     0.434783     0.307692              0.583333      0.240175   \n",
       "4     0.260870     0.423077              0.416667      0.441048   \n",
       "\n",
       "   pr.axis_aspect_ratio  max.length_aspect_ratio  scatter_ratio  \\\n",
       "0              0.274725                 0.150943       0.326797   \n",
       "1              0.109890                 0.132075       0.241830   \n",
       "2              0.208791                 0.150943       0.620915   \n",
       "3              0.175824                 0.132075       0.209150   \n",
       "4              0.615385                 0.943396       0.241830   \n",
       "\n",
       "   elongatedness  pr.axis_rectangularity  max.length_rectangularity  \\\n",
       "0       0.457143                0.250000                   0.585714   \n",
       "1       0.542857                0.166667                   0.357143   \n",
       "2       0.171429                0.500000                   0.571429   \n",
       "3       0.571429                0.166667                   0.357143   \n",
       "4       0.542857                0.166667                   0.371429   \n",
       "\n",
       "   scaled_variance  scaled_variance.1  scaled_radius_of_gyration  \\\n",
       "0         0.242105           0.233813                   0.471698   \n",
       "1         0.210526           0.175060                   0.308176   \n",
       "2         0.489474           0.540767                   0.698113   \n",
       "3         0.157895           0.149880                   0.113208   \n",
       "4         0.584211           0.169065                   0.496855   \n",
       "\n",
       "   scaled_radius_of_gyration.1  skewness_about  skewness_about.1  \\\n",
       "0                     0.144737        0.272727          0.390244   \n",
       "1                     0.171053        0.409091          0.341463   \n",
       "2                     0.184211        0.636364          0.219512   \n",
       "3                     0.052632        0.272727          0.243902   \n",
       "4                     0.894737        0.409091          0.268293   \n",
       "\n",
       "   skewness_about.2  hollows_ratio  class  \n",
       "0          0.366667       0.533333      2  \n",
       "1          0.433333       0.600000      2  \n",
       "2          0.400000       0.500000      1  \n",
       "3          0.766667       0.866667      2  \n",
       "4          0.133333       0.066667      0  "
      ]
     },
     "execution_count": 13,
     "metadata": {},
     "output_type": "execute_result"
    }
   ],
   "source": [
    "data.head()"
   ]
  },
  {
   "cell_type": "code",
   "execution_count": 28,
   "metadata": {},
   "outputs": [],
   "source": [
    "# check for null values\n",
    "data.isna().sum()\n",
    "\n",
    "for i in cols:\n",
    "    data[i].fillna(value = data[i].mean(), inplace = True)"
   ]
  },
  {
   "cell_type": "code",
   "execution_count": 29,
   "metadata": {},
   "outputs": [
    {
     "data": {
      "text/plain": [
       "compactness                    0\n",
       "circularity                    0\n",
       "distance_circularity           0\n",
       "radius_ratio                   0\n",
       "pr.axis_aspect_ratio           0\n",
       "max.length_aspect_ratio        0\n",
       "scatter_ratio                  0\n",
       "elongatedness                  0\n",
       "pr.axis_rectangularity         0\n",
       "max.length_rectangularity      0\n",
       "scaled_variance                0\n",
       "scaled_variance.1              0\n",
       "scaled_radius_of_gyration      0\n",
       "scaled_radius_of_gyration.1    0\n",
       "skewness_about                 0\n",
       "skewness_about.1               0\n",
       "skewness_about.2               0\n",
       "hollows_ratio                  0\n",
       "class                          0\n",
       "dtype: int64"
      ]
     },
     "execution_count": 29,
     "metadata": {},
     "output_type": "execute_result"
    }
   ],
   "source": [
    "data.isna().sum()"
   ]
  },
  {
   "cell_type": "code",
   "execution_count": 30,
   "metadata": {},
   "outputs": [],
   "source": [
    "X = data.drop(columns = ['class'], axis = 1)\n",
    "y = data['class']"
   ]
  },
  {
   "cell_type": "code",
   "execution_count": 31,
   "metadata": {},
   "outputs": [
    {
     "name": "stdout",
     "output_type": "stream",
     "text": [
      "X shape :  (846, 18)\n",
      "y shape :  (846,)\n"
     ]
    }
   ],
   "source": [
    "print(\"X shape : \", X.shape)\n",
    "print(\"y shape : \", y.shape)"
   ]
  },
  {
   "cell_type": "code",
   "execution_count": 32,
   "metadata": {
    "id": "ywJGz-VZP2R9"
   },
   "outputs": [],
   "source": [
    "# Divide the dataset to training and testing set\n",
    "X_train, X_test, y_train, y_test = train_test_split(X, y, test_size = 0.2, shuffle = True)"
   ]
  },
  {
   "cell_type": "code",
   "execution_count": 33,
   "metadata": {},
   "outputs": [
    {
     "name": "stdout",
     "output_type": "stream",
     "text": [
      "X train shape :  (676, 18)\n",
      "y train shape :  (676,)\n",
      "X test shape :  (170, 18)\n",
      "y test shape :  (170,)\n"
     ]
    }
   ],
   "source": [
    "print(\"X train shape : \", X_train.shape)\n",
    "print(\"y train shape : \", y_train.shape)\n",
    "print(\"X test shape : \", X_test.shape)\n",
    "print(\"y test shape : \", y_test.shape)"
   ]
  },
  {
   "cell_type": "code",
   "execution_count": 65,
   "metadata": {
    "id": "hu9YAA53YxPG"
   },
   "outputs": [],
   "source": [
    "# Randomly choose the features from training set and build decision tree\n",
    "# Randomness in the features will help us to achieve different DTrees every time\n",
    "# You can keep minimum number of random features every time so that trees will have sufficient features\n",
    "# Note: You can use builtin function for DT training using Sklearn\n",
    "\n",
    "# Randomly choose the features from training set and build decision tree\n",
    "# Randomness in the features will help us to achieve different DTrees every time\n",
    "# You can keep minimum number of random features every time so that trees will have sufficient features\n",
    "# Note: You can use builtin function for DT training using Sklearn\n",
    "\n",
    "class MyRandomForestClassifier:\n",
    "    def __init__(self, n_estimators, max_features, voting='majority', *args, **kwargs):\n",
    "        self.n_estimators = n_estimators\n",
    "        self.max_features = max_features\n",
    "        self.voting = voting\n",
    "        self.params1 = args\n",
    "        self.params2 = kwargs\n",
    "        \n",
    "        self.trees = [self._create_tree() for t in range(self.n_estimators)]\n",
    "        \n",
    "        # Will be filled at training time\n",
    "        self.f_idxs = []\n",
    "    \n",
    "    def _create_tree(self):\n",
    "        return DecisionTreeClassifier(*self.params1, **self.params2)\n",
    "    \n",
    "    def fit(self, X, y):\n",
    "        assert(X.ndim==2), \"X is not 2D\"\n",
    "        np.random.seed(42)\n",
    "        \n",
    "        X = np.array(X)\n",
    "        y = np.array(y)\n",
    "        \n",
    "        for tree in self.trees:\n",
    "            f_idx = np.random.permutation(X.shape[1])[:self.max_features]\n",
    "            self.f_idxs.append(f_idx)\n",
    "            \n",
    "            tree.fit(X[:, f_idx], y)\n",
    "    \n",
    "    def predict(self, X, y=None):\n",
    "        assert(self.f_idxs), \"Fit the model before prediction\"\n",
    "        if self.voting=='weighted' and y is None:\n",
    "            raise Exception(\"weigthed needs y for decision trees to get accuracy\")\n",
    "        \n",
    "        X = np.array(X)\n",
    "        \n",
    "        if self.voting=='majority':\n",
    "            all_samples_prediction = []\n",
    "            for i, tree in enumerate(self.trees):\n",
    "                all_samples_prediction.append(tree.predict(X[:, self.f_idxs[i]]))\n",
    "\n",
    "            real_predictions = []\n",
    "            for i in range(X.shape[0]):\n",
    "                one_sample_prediction = [t[i] for t in all_samples_prediction]\n",
    "                real_predictions.append(Counter(one_sample_prediction).most_common(1)[0][0])\n",
    "\n",
    "            return real_predictions\n",
    "        \n",
    "        elif self.voting=='average':\n",
    "            probability_matrix = None\n",
    "            for i, tree in enumerate(self.trees):\n",
    "                y_pred = tree.predict_proba(X[:, self.f_idxs[i]])\n",
    "                if i==0:\n",
    "                    probability_matrix = y_pred\n",
    "                else:\n",
    "                    probability_matrix += y_pred\n",
    "            return np.argmax(probability_matrix, axis=1)\n",
    "        \n",
    "        elif self.voting=='weighted':\n",
    "            probability_matrix = None\n",
    "            for i, tree in enumerate(self.trees):\n",
    "                y_pred = tree.predict_proba(X[:, self.f_idxs[i]])\n",
    "                acc = accuracy_score(y, tree.predict(X[:, self.f_idxs[i]]))\n",
    "                if i==0:\n",
    "                    probability_matrix = y_pred*acc\n",
    "                else:\n",
    "                    probability_matrix += y_pred*acc\n",
    "            return np.argmax(probability_matrix, axis=1)\n",
    "\n"
   ]
  },
  {
   "cell_type": "code",
   "execution_count": 66,
   "metadata": {
    "id": "22bKlgbZYxPQ"
   },
   "outputs": [],
   "source": [
    "# Train N number of decision trees using random feature selection strategy\n",
    "# Number of trees N can be user input\n",
    "\n",
    "# by default 100 trees are there in sklearn\n",
    "\n",
    "model0 = MyRandomForestClassifier(n_estimators = 100, max_features=10, voting='majority')\n",
    "model0.fit(X_train, y_train)\n"
   ]
  },
  {
   "cell_type": "code",
   "execution_count": 69,
   "metadata": {
    "id": "DXBsseNEYxPX"
   },
   "outputs": [],
   "source": [
    "# Apply different voting mechanisms such as \n",
    "# max voting/average voting/weighted average voting (using accuracy as weightage)\n",
    "# Perform the ensembling for the training set.\n",
    "y_pred_test = model0.predict(X_test)"
   ]
  },
  {
   "cell_type": "code",
   "execution_count": 72,
   "metadata": {
    "id": "nFEQjBB3RBpM"
   },
   "outputs": [
    {
     "name": "stdout",
     "output_type": "stream",
     "text": [
      "              precision    recall  f1-score   support\n",
      "\n",
      "           0       1.00      0.97      0.99        38\n",
      "           1       0.98      0.96      0.97        84\n",
      "           2       0.92      0.96      0.94        48\n",
      "\n",
      "    accuracy                           0.96       170\n",
      "   macro avg       0.97      0.97      0.97       170\n",
      "weighted avg       0.97      0.96      0.96       170\n",
      "\n"
     ]
    }
   ],
   "source": [
    "# Apply invidual trees trained on the testingset\n",
    "# Note: You should've saved the feature sets used for training invidual trees,\n",
    "# so that same features can be chosen in testing set\n",
    "# Get predictions on testing set\n",
    "print(classification_report(y_test, y_pred_test))"
   ]
  },
  {
   "cell_type": "code",
   "execution_count": 73,
   "metadata": {
    "id": "m2qQ84BJRcNP"
   },
   "outputs": [
    {
     "name": "stdout",
     "output_type": "stream",
     "text": [
      "Accuracy on testing data :  0.9647058823529412\n",
      "Precision on testing data :  0.9655053153791638\n",
      "Recall on testing data :  0.9647058823529412\n",
      "F1 Score on testing data :  0.9649387515485236\n"
     ]
    }
   ],
   "source": [
    "# Evaluate the results using accuracy, precision, recall and f-measure\n",
    "\n",
    "# Test the model with testing set and print the accuracy, precision, recall and f-measure\n",
    "y_pred_test = model0.predict(X_test)\n",
    "print(\"Accuracy on testing data : \", accuracy_score(y_test, y_pred_test))\n",
    "print(\"Precision on testing data : \", precision_score(y_test, y_pred_test, average='weighted'))\n",
    "print(\"Recall on testing data : \", recall_score(y_test, y_pred_test, average='weighted'))\n",
    "print(\"F1 Score on testing data : \", f1_score(y_test, y_pred_test, average=\"weighted\"))"
   ]
  },
  {
   "cell_type": "code",
   "execution_count": 75,
   "metadata": {
    "id": "z_-xfr-CRoDa"
   },
   "outputs": [
    {
     "name": "stdout",
     "output_type": "stream",
     "text": [
      "Majority voting RF accuracy: 0.9647058823529412\n",
      "Average voting RF accuracy: 0.9647058823529412\n",
      "Weighted voting RF accuracy: 0.9647058823529412\n"
     ]
    }
   ],
   "source": [
    "# Apply different voting mechanisms such as \n",
    "# max voting/average voting/weighted average voting (using accuracy as weightage)\n",
    "# Perform the ensembling for the training set.\n",
    "# Compare different voting mechanisms and their accuracies\n",
    "model1 = MyRandomForestClassifier(n_estimators=100, max_features=8, voting='majority')\n",
    "model2 = MyRandomForestClassifier(n_estimators=100, max_features=8, voting='average')\n",
    "model3 = MyRandomForestClassifier(n_estimators=100, max_features=8, voting='weighted')\n",
    "\n",
    "model1.fit(X_train, y_train)\n",
    "model2.fit(X_train, y_train)\n",
    "model3.fit(X_train, y_train)\n",
    "\n",
    "print(\"Majority voting RF accuracy:\", accuracy_score(y_test, model1.predict(X_test)))\n",
    "print(\"Average voting RF accuracy:\", accuracy_score(y_test, model2.predict(X_test)))\n",
    "print(\"Weighted voting RF accuracy:\", accuracy_score(y_test, model3.predict(X_test, y_test)))"
   ]
  },
  {
   "cell_type": "code",
   "execution_count": 76,
   "metadata": {
    "id": "V2UXYktmRryu"
   },
   "outputs": [
    {
     "name": "stdout",
     "output_type": "stream",
     "text": [
      "RF-10 accuracy: 0.9117647058823529\n",
      "RF-100 accuracy: 0.9647058823529412\n",
      "RF-1000 accuracy: 0.9764705882352941\n"
     ]
    }
   ],
   "source": [
    "# Compare the Random forest models with different number of trees N\n",
    "# Compare the Random forest models with different number of trees N\n",
    "model4 = MyRandomForestClassifier(n_estimators=10, max_features=8, voting='average')\n",
    "model5 = MyRandomForestClassifier(n_estimators=100, max_features=8, voting='average')\n",
    "model6 = MyRandomForestClassifier(n_estimators=1000, max_features=8, voting='average')\n",
    "\n",
    "model4.fit(X_train, y_train)\n",
    "model5.fit(X_train, y_train)\n",
    "model6.fit(X_train, y_train)\n",
    "\n",
    "print(\"RF-10 accuracy:\", accuracy_score(y_test, model4.predict(X_test)))\n",
    "print(\"RF-100 accuracy:\", accuracy_score(y_test, model5.predict(X_test)))\n",
    "print(\"RF-1000 accuracy:\", accuracy_score(y_test, model6.predict(X_test)))\n",
    "\n"
   ]
  },
  {
   "cell_type": "code",
   "execution_count": 77,
   "metadata": {
    "id": "_grD0B0qRwOI"
   },
   "outputs": [
    {
     "name": "stdout",
     "output_type": "stream",
     "text": [
      "RF with max features 2 accuracy: 0.7058823529411765\n",
      "RF with max features 3 accuracy: 0.8235294117647058\n",
      "RF with max features 4 accuracy: 0.888235294117647\n",
      "RF with max features 5 accuracy: 0.9\n",
      "RF with max features 6 accuracy: 0.9235294117647059\n",
      "RF with max features 7 accuracy: 0.9176470588235294\n",
      "RF with max features 8 accuracy: 0.9117647058823529\n",
      "RF with max features 9 accuracy: 0.9235294117647059\n",
      "RF with max features 10 accuracy: 0.9352941176470588\n",
      "RF with max features 11 accuracy: 0.9470588235294117\n",
      "RF with max features 12 accuracy: 0.9058823529411765\n",
      "RF with max features 13 accuracy: 0.9235294117647059\n",
      "RF with max features 14 accuracy: 0.9058823529411765\n",
      "RF with max features 15 accuracy: 0.9058823529411765\n",
      "RF with max features 16 accuracy: 0.8823529411764706\n",
      "RF with max features 17 accuracy: 0.9\n"
     ]
    }
   ],
   "source": [
    "# Compare different values for minimum number of features needed for individual trees\n",
    "for nf in range(2, X.shape[1]):\n",
    "    model = MyRandomForestClassifier(n_estimators=10, max_features=nf, voting='average')\n",
    "    \n",
    "    model.fit(X_train, y_train)\n",
    "    \n",
    "    print(f\"RF with max features {nf} accuracy:\", accuracy_score(y_test, model.predict(X_test)))\n"
   ]
  },
  {
   "cell_type": "markdown",
   "metadata": {
    "id": "QGVYWKUcRnhA"
   },
   "source": [
    "## Part 2: Random Forest using Sklearn"
   ]
  },
  {
   "cell_type": "code",
   "execution_count": null,
   "metadata": {
    "id": "7vJ02XgwRm-O"
   },
   "outputs": [],
   "source": [
    "# Use the preprocessed dataset here"
   ]
  },
  {
   "cell_type": "code",
   "execution_count": 59,
   "metadata": {
    "id": "mHEEc7BrSDG0"
   },
   "outputs": [],
   "source": [
    "# Train the Random Forest Model using builtin Sklearn Dataset\n",
    "\n",
    "model1 = RandomForestClassifier(max_depth = 5)"
   ]
  },
  {
   "cell_type": "code",
   "execution_count": 60,
   "metadata": {},
   "outputs": [
    {
     "data": {
      "text/plain": [
       "RandomForestClassifier(max_depth=5)"
      ]
     },
     "execution_count": 60,
     "metadata": {},
     "output_type": "execute_result"
    }
   ],
   "source": [
    "# fit the model on the training data.\n",
    "model1.fit(X_train, y_train)"
   ]
  },
  {
   "cell_type": "code",
   "execution_count": 61,
   "metadata": {},
   "outputs": [
    {
     "name": "stdout",
     "output_type": "stream",
     "text": [
      "Accuracy on training data :  0.9733727810650887\n",
      "Precision on training data :  0.9741883094803371\n",
      "Recall on training data :  0.9733727810650887\n",
      "F1 Score on training data :  0.973491347819417\n"
     ]
    }
   ],
   "source": [
    "# testing the model on the training data.\n",
    "y_pred_train = model1.predict(X_train)\n",
    "print(\"Accuracy on training data : \", accuracy_score(y_train, y_pred_train))\n",
    "print(\"Precision on training data : \", precision_score(y_train, y_pred_train, average='weighted'))\n",
    "print(\"Recall on training data : \", recall_score(y_train, y_pred_train, average='weighted'))\n",
    "print(\"F1 Score on training data : \", f1_score(y_train, y_pred_train, average=\"weighted\"))"
   ]
  },
  {
   "cell_type": "code",
   "execution_count": 62,
   "metadata": {
    "id": "I-YJEeqPSIk1"
   },
   "outputs": [
    {
     "name": "stdout",
     "output_type": "stream",
     "text": [
      "Accuracy on testing data :  0.9411764705882353\n",
      "Precision on testing data :  0.9419104717758157\n",
      "Recall on testing data :  0.9411764705882353\n",
      "F1 Score on testing data :  0.9413805090898635\n"
     ]
    }
   ],
   "source": [
    "# Test the model with testing set and print the accuracy, precision, recall and f-measure\n",
    "y_pred_test = model1.predict(X_test)\n",
    "print(\"Accuracy on testing data : \", accuracy_score(y_test, y_pred_test))\n",
    "print(\"Precision on testing data : \", precision_score(y_test, y_pred_test, average='weighted'))\n",
    "print(\"Recall on testing data : \", recall_score(y_test, y_pred_test, average='weighted'))\n",
    "print(\"F1 Score on testing data : \", f1_score(y_test, y_pred_test, average=\"weighted\"))"
   ]
  },
  {
   "cell_type": "code",
   "execution_count": 50,
   "metadata": {
    "id": "qlwe8gonSVFd"
   },
   "outputs": [],
   "source": [
    "# Play with parameters such as\n",
    "# number of decision trees\n",
    "# Criterion for splitting\n",
    "# Max depth\n",
    "# Minimum samples per split and leaf\n",
    "\n",
    "model2 = RandomForestClassifier(max_depth = 10, min_samples_leaf = 9, min_samples_split = 3)"
   ]
  },
  {
   "cell_type": "code",
   "execution_count": 51,
   "metadata": {},
   "outputs": [
    {
     "data": {
      "text/plain": [
       "RandomForestClassifier(max_depth=10, min_samples_leaf=9, min_samples_split=3)"
      ]
     },
     "execution_count": 51,
     "metadata": {},
     "output_type": "execute_result"
    }
   ],
   "source": [
    "# fit the model on the training data.\n",
    "model2.fit(X_train, y_train)"
   ]
  },
  {
   "cell_type": "code",
   "execution_count": 52,
   "metadata": {},
   "outputs": [
    {
     "name": "stdout",
     "output_type": "stream",
     "text": [
      "Accuracy on training data :  0.9733727810650887\n",
      "Precision on training data :  0.974529571932277\n",
      "Recall on training data :  0.9733727810650887\n",
      "F1 Score on training data :  0.9735783541828936\n"
     ]
    }
   ],
   "source": [
    "# testing the model on the training data.\n",
    "y_pred_train = model2.predict(X_train)\n",
    "print(\"Accuracy on training data : \", accuracy_score(y_train, y_pred_train))\n",
    "print(\"Precision on training data : \", precision_score(y_train, y_pred_train, average='weighted'))\n",
    "print(\"Recall on training data : \", recall_score(y_train, y_pred_train, average='weighted'))\n",
    "print(\"F1 Score on training data : \", f1_score(y_train, y_pred_train, average=\"weighted\"))"
   ]
  },
  {
   "cell_type": "code",
   "execution_count": 53,
   "metadata": {},
   "outputs": [
    {
     "name": "stdout",
     "output_type": "stream",
     "text": [
      "Accuracy on testing data :  0.9529411764705882\n",
      "Precision on testing data :  0.9532497016619613\n",
      "Recall on testing data :  0.9529411764705882\n",
      "F1 Score on testing data :  0.9529620591270563\n"
     ]
    }
   ],
   "source": [
    "# Test the model with testing set and print the accuracy, precision, recall and f-measure\n",
    "y_pred_test = model2.predict(X_test)\n",
    "print(\"Accuracy on testing data : \", accuracy_score(y_test, y_pred_test))\n",
    "print(\"Precision on testing data : \", precision_score(y_test, y_pred_test, average='weighted'))\n",
    "print(\"Recall on testing data : \", recall_score(y_test, y_pred_test, average='weighted'))\n",
    "print(\"F1 Score on testing data : \", f1_score(y_test, y_pred_test, average=\"weighted\"))"
   ]
  },
  {
   "cell_type": "code",
   "execution_count": 54,
   "metadata": {},
   "outputs": [],
   "source": [
    "model3 = RandomForestClassifier(max_depth = 10)"
   ]
  },
  {
   "cell_type": "code",
   "execution_count": 55,
   "metadata": {},
   "outputs": [
    {
     "data": {
      "text/plain": [
       "RandomForestClassifier(max_depth=10)"
      ]
     },
     "execution_count": 55,
     "metadata": {},
     "output_type": "execute_result"
    }
   ],
   "source": [
    "# fit the model on the training data.\n",
    "model3.fit(X_train, y_train)"
   ]
  },
  {
   "cell_type": "code",
   "execution_count": 56,
   "metadata": {},
   "outputs": [
    {
     "name": "stdout",
     "output_type": "stream",
     "text": [
      "Accuracy on training data :  1.0\n",
      "Precision on training data :  1.0\n",
      "Recall on training data :  1.0\n",
      "F1 Score on training data :  1.0\n"
     ]
    }
   ],
   "source": [
    "# testing the model on the training data.\n",
    "y_pred_train = model3.predict(X_train)\n",
    "print(\"Accuracy on training data : \", accuracy_score(y_train, y_pred_train))\n",
    "print(\"Precision on training data : \", precision_score(y_train, y_pred_train, average='weighted'))\n",
    "print(\"Recall on training data : \", recall_score(y_train, y_pred_train, average='weighted'))\n",
    "print(\"F1 Score on training data : \", f1_score(y_train, y_pred_train, average=\"weighted\"))"
   ]
  },
  {
   "cell_type": "code",
   "execution_count": 58,
   "metadata": {},
   "outputs": [
    {
     "name": "stdout",
     "output_type": "stream",
     "text": [
      "Accuracy on testing data :  0.9647058823529412\n",
      "Precision on testing data :  0.9650027650842623\n",
      "Recall on testing data :  0.9647058823529412\n",
      "F1 Score on testing data :  0.9647194803618042\n"
     ]
    }
   ],
   "source": [
    "# Test the model with testing set and print the accuracy, precision, recall and f-measure\n",
    "y_pred_test = model3.predict(X_test)\n",
    "print(\"Accuracy on testing data : \", accuracy_score(y_test, y_pred_test))\n",
    "print(\"Precision on testing data : \", precision_score(y_test, y_pred_test, average='weighted'))\n",
    "print(\"Recall on testing data : \", recall_score(y_test, y_pred_test, average='weighted'))\n",
    "print(\"F1 Score on testing data : \", f1_score(y_test, y_pred_test, average=\"weighted\"))"
   ]
  },
  {
   "cell_type": "code",
   "execution_count": null,
   "metadata": {},
   "outputs": [],
   "source": []
  }
 ],
 "metadata": {
  "colab": {
   "collapsed_sections": [],
   "name": "Task 1 - RandomForest_from_scratch.ipynb",
   "provenance": []
  },
  "kernelspec": {
   "display_name": "Python 3",
   "language": "python",
   "name": "python3"
  },
  "language_info": {
   "codemirror_mode": {
    "name": "ipython",
    "version": 3
   },
   "file_extension": ".py",
   "mimetype": "text/x-python",
   "name": "python",
   "nbconvert_exporter": "python",
   "pygments_lexer": "ipython3",
   "version": "3.8.3"
  }
 },
 "nbformat": 4,
 "nbformat_minor": 1
}
