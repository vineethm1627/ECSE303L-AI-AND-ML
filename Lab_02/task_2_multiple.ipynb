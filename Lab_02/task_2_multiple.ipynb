{
 "cells": [
  {
   "cell_type": "markdown",
   "metadata": {},
   "source": [
    "#### Predict your scores better :)\n",
    "As you saw in the previous simple linear regression task that previous year grades (G2) have significant correlation with third year grades (G3). But G2 is not direct causation of G3, there are many factors which determine G3. Let's add few more variables which may help to determine G3."
   ]
  },
  {
   "cell_type": "markdown",
   "metadata": {},
   "source": [
    "### Multiple linear regression\n",
    "Multiple linear regression is simply the linear regression extended to problems where the dependent or output variable is determined by more than one independent variable.<br>\n",
    "\n",
    "#####  $\\hat{y}$ (w, x) = w_0 + w_1 * x_1 + ... + w_p * x_ps\n",
    "\n",
    "#### Dataset\n",
    "The dataset is available at __\"data/multiple_linear_data.csv\"__ in the respective challenge's repo.<br><br>\n",
    "\n",
    "This is the __modified version__ of the dataset *'Student Performance'* provided by UCI Machine Learning repository.<br>\n",
    "Original dataset: https://archive.ics.uci.edu/ml/datasets/student+performance\n",
    "\n",
    "#### Features (X)\n",
    "1. age - student's age (numeric: from 15 to 22)\n",
    "2. address - student's home address type (binary: 'U' - urban or 'R' - rural)\n",
    "3. famsize - family size (binary: 'LE3' - less or equal to 3 or 'GT3' - greater than 3)\n",
    "4. reason - reason to choose this school (nominal: close to 'home', school 'reputation', 'course' preference or 'other')\n",
    "5. studytime - weekly study time (numeric: 1 - <2 hours, 2 - 2 to 5 hours, 3 - 5 to 10 hours, or 4 - >10 hours)\n",
    "6. failures - number of past class failures (numeric: n if 1<=n<3, else 4)\n",
    "7. schoolsup - extra educational support (binary: yes or no)\n",
    "8. famsup - family educational support (binary: yes or no)\n",
    "9. paid - extra paid classes within the course subject (Math or Portuguese) (binary: yes or no)\n",
    "10. activities - extra-curricular activities (binary: yes or no)\n",
    "11. higher - wants to take higher education (binary: yes or no)\n",
    "12. internet - Internet access at home (binary: yes or no)\n",
    "13. romantic - with a romantic relationship (binary: yes or no)\n",
    "14. freetime - free time after school (numeric: from 1 - very low to 5 - very high)\n",
    "15. goout - going out with friends (numeric: from 1 - very low to 5 - very high)\n",
    "16. health - current health status (numeric: from 1 - very bad to 5 - very good)\n",
    "17. absences - number of school absences (numeric: from 0 to 93)\n",
    "18. G1 - first year math grades (numeric: from 0 to 100)\n",
    "19. G2 - second year math grades (numeric: from 0 to 100)\n",
    "\n",
    "#### Output target (Y) \n",
    "20. G3 - final year math grades (numeric: from 0 to 100, output target)\n",
    "\n",
    "#### Objective\n",
    "To learn multiple linear regression and practice handling categorical features\n",
    "\n",
    "#### Tasks\n",
    "- To load the data and print first 5 rows\n",
    "- Transform categorical features into numerical features. Use either one hot encoding, label encoding or any other suitable preprocessing technique.\n",
    "- Define X matrix (independent features) and y vector (target feature)\n",
    "- Train Linear Regression Model (sklearn.linear_model.LinearRegression class)\n",
    "- Print 'Mean Squared Error' (MSE) obtained on the same dataset i.e. same X and y (sklearn.metrics.mean_squared_error function)\n",
    "- Predict on a numpy array defined by you\n",
    "```python\n",
    ">>> new_data = np.array([1,0,1,.....,30,20]).reshape(1,-1)\n",
    ">>> print(\"Predicted grade:\",model.predict(new_data))\n",
    "```\n",
    "\n",
    "#### Further fun (will not be evaluated)\n",
    "- Train LassoRegression and RidgeRegression as well. Read about them from scikit-learn user guide.\n",
    "- *Step-up challenge*: Get down the MSE (mean squared error) below 3.25 using linear models\n",
    "- Implement multiple linear regression from scratch\n",
    "- Plot loss curve (Loss vs number of iterations)\n",
    "\n",
    "#### Helpful links\n",
    "- Scikit-learn documentation for linear regression: https://scikit-learn.org/stable/modules/generated/sklearn.linear_model.LinearRegression.html\n",
    "- Read till where you feel comfortable: https://jakevdp.github.io/PythonDataScienceHandbook/05.06-linear-regression.html\n",
    "- Use slack for doubts: https://join.slack.com/t/deepconnectai/shared_invite/zt-givlfnf6-~cn3SQ43k0BGDrG9_YOn4g"
   ]
  },
  {
   "cell_type": "code",
   "execution_count": 1,
   "metadata": {},
   "outputs": [],
   "source": [
    "import numpy as np\n",
    "import pandas as pd\n",
    "from sklearn.linear_model import LinearRegression\n",
    "from sklearn.metrics import mean_squared_error\n",
    "# IF sklearn.compose.ColumnTransformer is used for feature transformation, then below import will help to infer features\n",
    "# from helper.utils import get_column_names_from_ColumnTransformer"
   ]
  },
  {
   "cell_type": "code",
   "execution_count": 2,
   "metadata": {},
   "outputs": [],
   "source": [
    "# NOTE: DO NOT CHANGE THE VARIABLE NAME(S) IN THIS CELL\n",
    "# Load the data\n",
    "data = pd.read_csv('data/multiple_linear_data.csv')"
   ]
  },
  {
   "cell_type": "code",
   "execution_count": 3,
   "metadata": {},
   "outputs": [
    {
     "data": {
      "text/html": [
       "<div>\n",
       "<style scoped>\n",
       "    .dataframe tbody tr th:only-of-type {\n",
       "        vertical-align: middle;\n",
       "    }\n",
       "\n",
       "    .dataframe tbody tr th {\n",
       "        vertical-align: top;\n",
       "    }\n",
       "\n",
       "    .dataframe thead th {\n",
       "        text-align: right;\n",
       "    }\n",
       "</style>\n",
       "<table border=\"1\" class=\"dataframe\">\n",
       "  <thead>\n",
       "    <tr style=\"text-align: right;\">\n",
       "      <th></th>\n",
       "      <th>age</th>\n",
       "      <th>address</th>\n",
       "      <th>famsize</th>\n",
       "      <th>reason</th>\n",
       "      <th>studytime</th>\n",
       "      <th>failures</th>\n",
       "      <th>schoolsup</th>\n",
       "      <th>famsup</th>\n",
       "      <th>paid</th>\n",
       "      <th>activities</th>\n",
       "      <th>higher</th>\n",
       "      <th>internet</th>\n",
       "      <th>romantic</th>\n",
       "      <th>freetime</th>\n",
       "      <th>goout</th>\n",
       "      <th>health</th>\n",
       "      <th>absences</th>\n",
       "      <th>G1</th>\n",
       "      <th>G2</th>\n",
       "      <th>G3</th>\n",
       "    </tr>\n",
       "  </thead>\n",
       "  <tbody>\n",
       "    <tr>\n",
       "      <th>0</th>\n",
       "      <td>18</td>\n",
       "      <td>U</td>\n",
       "      <td>GT3</td>\n",
       "      <td>course</td>\n",
       "      <td>2</td>\n",
       "      <td>0</td>\n",
       "      <td>yes</td>\n",
       "      <td>no</td>\n",
       "      <td>no</td>\n",
       "      <td>no</td>\n",
       "      <td>yes</td>\n",
       "      <td>no</td>\n",
       "      <td>no</td>\n",
       "      <td>3</td>\n",
       "      <td>4</td>\n",
       "      <td>3</td>\n",
       "      <td>6</td>\n",
       "      <td>25</td>\n",
       "      <td>30</td>\n",
       "      <td>30</td>\n",
       "    </tr>\n",
       "    <tr>\n",
       "      <th>1</th>\n",
       "      <td>17</td>\n",
       "      <td>U</td>\n",
       "      <td>GT3</td>\n",
       "      <td>course</td>\n",
       "      <td>2</td>\n",
       "      <td>0</td>\n",
       "      <td>no</td>\n",
       "      <td>yes</td>\n",
       "      <td>no</td>\n",
       "      <td>no</td>\n",
       "      <td>yes</td>\n",
       "      <td>yes</td>\n",
       "      <td>no</td>\n",
       "      <td>3</td>\n",
       "      <td>3</td>\n",
       "      <td>3</td>\n",
       "      <td>4</td>\n",
       "      <td>25</td>\n",
       "      <td>25</td>\n",
       "      <td>30</td>\n",
       "    </tr>\n",
       "    <tr>\n",
       "      <th>2</th>\n",
       "      <td>15</td>\n",
       "      <td>U</td>\n",
       "      <td>LE3</td>\n",
       "      <td>other</td>\n",
       "      <td>2</td>\n",
       "      <td>3</td>\n",
       "      <td>yes</td>\n",
       "      <td>no</td>\n",
       "      <td>yes</td>\n",
       "      <td>no</td>\n",
       "      <td>yes</td>\n",
       "      <td>yes</td>\n",
       "      <td>no</td>\n",
       "      <td>3</td>\n",
       "      <td>2</td>\n",
       "      <td>3</td>\n",
       "      <td>10</td>\n",
       "      <td>35</td>\n",
       "      <td>40</td>\n",
       "      <td>50</td>\n",
       "    </tr>\n",
       "    <tr>\n",
       "      <th>3</th>\n",
       "      <td>15</td>\n",
       "      <td>U</td>\n",
       "      <td>GT3</td>\n",
       "      <td>home</td>\n",
       "      <td>3</td>\n",
       "      <td>0</td>\n",
       "      <td>no</td>\n",
       "      <td>yes</td>\n",
       "      <td>yes</td>\n",
       "      <td>yes</td>\n",
       "      <td>yes</td>\n",
       "      <td>yes</td>\n",
       "      <td>yes</td>\n",
       "      <td>2</td>\n",
       "      <td>2</td>\n",
       "      <td>5</td>\n",
       "      <td>2</td>\n",
       "      <td>75</td>\n",
       "      <td>70</td>\n",
       "      <td>75</td>\n",
       "    </tr>\n",
       "    <tr>\n",
       "      <th>4</th>\n",
       "      <td>16</td>\n",
       "      <td>U</td>\n",
       "      <td>GT3</td>\n",
       "      <td>home</td>\n",
       "      <td>2</td>\n",
       "      <td>0</td>\n",
       "      <td>no</td>\n",
       "      <td>yes</td>\n",
       "      <td>yes</td>\n",
       "      <td>no</td>\n",
       "      <td>yes</td>\n",
       "      <td>no</td>\n",
       "      <td>no</td>\n",
       "      <td>3</td>\n",
       "      <td>2</td>\n",
       "      <td>5</td>\n",
       "      <td>4</td>\n",
       "      <td>30</td>\n",
       "      <td>50</td>\n",
       "      <td>50</td>\n",
       "    </tr>\n",
       "  </tbody>\n",
       "</table>\n",
       "</div>"
      ],
      "text/plain": [
       "   age address famsize  reason  studytime  failures schoolsup famsup paid  \\\n",
       "0   18       U     GT3  course          2         0       yes     no   no   \n",
       "1   17       U     GT3  course          2         0        no    yes   no   \n",
       "2   15       U     LE3   other          2         3       yes     no  yes   \n",
       "3   15       U     GT3    home          3         0        no    yes  yes   \n",
       "4   16       U     GT3    home          2         0        no    yes  yes   \n",
       "\n",
       "  activities higher internet romantic  freetime  goout  health  absences  G1  \\\n",
       "0         no    yes       no       no         3      4       3         6  25   \n",
       "1         no    yes      yes       no         3      3       3         4  25   \n",
       "2         no    yes      yes       no         3      2       3        10  35   \n",
       "3        yes    yes      yes      yes         2      2       5         2  75   \n",
       "4         no    yes       no       no         3      2       5         4  30   \n",
       "\n",
       "   G2  G3  \n",
       "0  30  30  \n",
       "1  25  30  \n",
       "2  40  50  \n",
       "3  70  75  \n",
       "4  50  50  "
      ]
     },
     "execution_count": 3,
     "metadata": {},
     "output_type": "execute_result"
    }
   ],
   "source": [
    "data.head()"
   ]
  },
  {
   "cell_type": "code",
   "execution_count": 4,
   "metadata": {},
   "outputs": [
    {
     "name": "stdout",
     "output_type": "stream",
     "text": [
      "Orginal Dataframe : \n",
      "Columns :  ['age', 'address', 'famsize', 'reason', 'studytime', 'failures', 'schoolsup', 'famsup', 'paid', 'activities', 'higher', 'internet', 'romantic', 'freetime', 'goout', 'health', 'absences', 'G1', 'G2', 'G3']\n",
      "No. of rows :  395\n",
      "No. of columns :  20\n"
     ]
    }
   ],
   "source": [
    "# You may need original list of columns to interpret the features after transformation, maybe\n",
    "orig_cols = data.columns\n",
    "print(\"Orginal Dataframe : \")\n",
    "print(\"Columns : \", list(orig_cols))\n",
    "print(\"No. of rows : \", data.shape[0])\n",
    "print(\"No. of columns : \", data.shape[1])"
   ]
  },
  {
   "cell_type": "raw",
   "metadata": {},
   "source": [
    "# Handle categorical values : \"address\", \"famsize\", \"reason\" [one hot encoding.]"
   ]
  },
  {
   "cell_type": "code",
   "execution_count": 5,
   "metadata": {},
   "outputs": [],
   "source": [
    "data = pd.get_dummies(data, columns = ['address', 'famsize', 'reason'], prefix = ['address', 'famsize', 'reason'])"
   ]
  },
  {
   "cell_type": "code",
   "execution_count": 6,
   "metadata": {},
   "outputs": [
    {
     "data": {
      "text/html": [
       "<div>\n",
       "<style scoped>\n",
       "    .dataframe tbody tr th:only-of-type {\n",
       "        vertical-align: middle;\n",
       "    }\n",
       "\n",
       "    .dataframe tbody tr th {\n",
       "        vertical-align: top;\n",
       "    }\n",
       "\n",
       "    .dataframe thead th {\n",
       "        text-align: right;\n",
       "    }\n",
       "</style>\n",
       "<table border=\"1\" class=\"dataframe\">\n",
       "  <thead>\n",
       "    <tr style=\"text-align: right;\">\n",
       "      <th></th>\n",
       "      <th>age</th>\n",
       "      <th>studytime</th>\n",
       "      <th>failures</th>\n",
       "      <th>schoolsup</th>\n",
       "      <th>famsup</th>\n",
       "      <th>paid</th>\n",
       "      <th>activities</th>\n",
       "      <th>higher</th>\n",
       "      <th>internet</th>\n",
       "      <th>romantic</th>\n",
       "      <th>...</th>\n",
       "      <th>G2</th>\n",
       "      <th>G3</th>\n",
       "      <th>address_R</th>\n",
       "      <th>address_U</th>\n",
       "      <th>famsize_GT3</th>\n",
       "      <th>famsize_LE3</th>\n",
       "      <th>reason_course</th>\n",
       "      <th>reason_home</th>\n",
       "      <th>reason_other</th>\n",
       "      <th>reason_reputation</th>\n",
       "    </tr>\n",
       "  </thead>\n",
       "  <tbody>\n",
       "    <tr>\n",
       "      <th>0</th>\n",
       "      <td>18</td>\n",
       "      <td>2</td>\n",
       "      <td>0</td>\n",
       "      <td>yes</td>\n",
       "      <td>no</td>\n",
       "      <td>no</td>\n",
       "      <td>no</td>\n",
       "      <td>yes</td>\n",
       "      <td>no</td>\n",
       "      <td>no</td>\n",
       "      <td>...</td>\n",
       "      <td>30</td>\n",
       "      <td>30</td>\n",
       "      <td>0</td>\n",
       "      <td>1</td>\n",
       "      <td>1</td>\n",
       "      <td>0</td>\n",
       "      <td>1</td>\n",
       "      <td>0</td>\n",
       "      <td>0</td>\n",
       "      <td>0</td>\n",
       "    </tr>\n",
       "    <tr>\n",
       "      <th>1</th>\n",
       "      <td>17</td>\n",
       "      <td>2</td>\n",
       "      <td>0</td>\n",
       "      <td>no</td>\n",
       "      <td>yes</td>\n",
       "      <td>no</td>\n",
       "      <td>no</td>\n",
       "      <td>yes</td>\n",
       "      <td>yes</td>\n",
       "      <td>no</td>\n",
       "      <td>...</td>\n",
       "      <td>25</td>\n",
       "      <td>30</td>\n",
       "      <td>0</td>\n",
       "      <td>1</td>\n",
       "      <td>1</td>\n",
       "      <td>0</td>\n",
       "      <td>1</td>\n",
       "      <td>0</td>\n",
       "      <td>0</td>\n",
       "      <td>0</td>\n",
       "    </tr>\n",
       "    <tr>\n",
       "      <th>2</th>\n",
       "      <td>15</td>\n",
       "      <td>2</td>\n",
       "      <td>3</td>\n",
       "      <td>yes</td>\n",
       "      <td>no</td>\n",
       "      <td>yes</td>\n",
       "      <td>no</td>\n",
       "      <td>yes</td>\n",
       "      <td>yes</td>\n",
       "      <td>no</td>\n",
       "      <td>...</td>\n",
       "      <td>40</td>\n",
       "      <td>50</td>\n",
       "      <td>0</td>\n",
       "      <td>1</td>\n",
       "      <td>0</td>\n",
       "      <td>1</td>\n",
       "      <td>0</td>\n",
       "      <td>0</td>\n",
       "      <td>1</td>\n",
       "      <td>0</td>\n",
       "    </tr>\n",
       "    <tr>\n",
       "      <th>3</th>\n",
       "      <td>15</td>\n",
       "      <td>3</td>\n",
       "      <td>0</td>\n",
       "      <td>no</td>\n",
       "      <td>yes</td>\n",
       "      <td>yes</td>\n",
       "      <td>yes</td>\n",
       "      <td>yes</td>\n",
       "      <td>yes</td>\n",
       "      <td>yes</td>\n",
       "      <td>...</td>\n",
       "      <td>70</td>\n",
       "      <td>75</td>\n",
       "      <td>0</td>\n",
       "      <td>1</td>\n",
       "      <td>1</td>\n",
       "      <td>0</td>\n",
       "      <td>0</td>\n",
       "      <td>1</td>\n",
       "      <td>0</td>\n",
       "      <td>0</td>\n",
       "    </tr>\n",
       "    <tr>\n",
       "      <th>4</th>\n",
       "      <td>16</td>\n",
       "      <td>2</td>\n",
       "      <td>0</td>\n",
       "      <td>no</td>\n",
       "      <td>yes</td>\n",
       "      <td>yes</td>\n",
       "      <td>no</td>\n",
       "      <td>yes</td>\n",
       "      <td>no</td>\n",
       "      <td>no</td>\n",
       "      <td>...</td>\n",
       "      <td>50</td>\n",
       "      <td>50</td>\n",
       "      <td>0</td>\n",
       "      <td>1</td>\n",
       "      <td>1</td>\n",
       "      <td>0</td>\n",
       "      <td>0</td>\n",
       "      <td>1</td>\n",
       "      <td>0</td>\n",
       "      <td>0</td>\n",
       "    </tr>\n",
       "  </tbody>\n",
       "</table>\n",
       "<p>5 rows × 25 columns</p>\n",
       "</div>"
      ],
      "text/plain": [
       "   age  studytime  failures schoolsup famsup paid activities higher internet  \\\n",
       "0   18          2         0       yes     no   no         no    yes       no   \n",
       "1   17          2         0        no    yes   no         no    yes      yes   \n",
       "2   15          2         3       yes     no  yes         no    yes      yes   \n",
       "3   15          3         0        no    yes  yes        yes    yes      yes   \n",
       "4   16          2         0        no    yes  yes         no    yes       no   \n",
       "\n",
       "  romantic  ...  G2  G3  address_R  address_U  famsize_GT3  famsize_LE3  \\\n",
       "0       no  ...  30  30          0          1            1            0   \n",
       "1       no  ...  25  30          0          1            1            0   \n",
       "2       no  ...  40  50          0          1            0            1   \n",
       "3      yes  ...  70  75          0          1            1            0   \n",
       "4       no  ...  50  50          0          1            1            0   \n",
       "\n",
       "   reason_course  reason_home  reason_other  reason_reputation  \n",
       "0              1            0             0                  0  \n",
       "1              1            0             0                  0  \n",
       "2              0            0             1                  0  \n",
       "3              0            1             0                  0  \n",
       "4              0            1             0                  0  \n",
       "\n",
       "[5 rows x 25 columns]"
      ]
     },
     "execution_count": 6,
     "metadata": {},
     "output_type": "execute_result"
    }
   ],
   "source": [
    "data.head()"
   ]
  },
  {
   "cell_type": "code",
   "execution_count": 8,
   "metadata": {},
   "outputs": [
    {
     "name": "stdout",
     "output_type": "stream",
     "text": [
      "One hot encoded Dataframe : \n",
      "Columns :  ['age', 'studytime', 'failures', 'schoolsup', 'famsup', 'paid', 'activities', 'higher', 'internet', 'romantic', 'freetime', 'goout', 'health', 'absences', 'G1', 'G2', 'G3', 'address_R', 'address_U', 'famsize_GT3', 'famsize_LE3', 'reason_course', 'reason_home', 'reason_other', 'reason_reputation']\n",
      "No. of rows :  395\n",
      "No. of columns :  25\n"
     ]
    }
   ],
   "source": [
    "# After one hot encoding : \n",
    "print(\"One hot encoded Dataframe : \")\n",
    "print(\"Columns : \", list(data.columns))\n",
    "print(\"No. of rows : \", data.shape[0])\n",
    "print(\"No. of columns : \", data.shape[1])"
   ]
  },
  {
   "cell_type": "code",
   "execution_count": 9,
   "metadata": {},
   "outputs": [
    {
     "name": "stdout",
     "output_type": "stream",
     "text": [
      "False\n",
      "False\n",
      "False\n",
      "False\n"
     ]
    }
   ],
   "source": [
    "final_cols = data.columns\n",
    "print(\"adress\" in orig_cols)\n",
    "print(\"address\" in final_cols)\n",
    "\n",
    "print(\"famsize\" in final_cols)\n",
    "print(\"reason\" in final_cols)"
   ]
  },
  {
   "cell_type": "code",
   "execution_count": 10,
   "metadata": {},
   "outputs": [
    {
     "name": "stdout",
     "output_type": "stream",
     "text": [
      "False\n",
      "True\n"
     ]
    }
   ],
   "source": [
    "# categorical values that famsize column had : \n",
    "# 1) GT3\n",
    "# 2) LT3\n",
    "\n",
    "print(\"famsize_GT3\" in orig_cols)\n",
    "print(\"famsize_GT3\" in final_cols)"
   ]
  },
  {
   "cell_type": "code",
   "execution_count": 11,
   "metadata": {},
   "outputs": [],
   "source": [
    "# label encoding yes/no values.\n",
    "from sklearn.preprocessing import LabelEncoder\n",
    "label_cols = ['schoolsup', 'famsup', 'paid', 'activities', 'higher', 'internet', 'romantic']\n",
    "\n",
    "le = LabelEncoder()\n",
    "data[label_cols] = data[label_cols].apply(le.fit_transform)"
   ]
  },
  {
   "cell_type": "code",
   "execution_count": 12,
   "metadata": {},
   "outputs": [
    {
     "data": {
      "text/html": [
       "<div>\n",
       "<style scoped>\n",
       "    .dataframe tbody tr th:only-of-type {\n",
       "        vertical-align: middle;\n",
       "    }\n",
       "\n",
       "    .dataframe tbody tr th {\n",
       "        vertical-align: top;\n",
       "    }\n",
       "\n",
       "    .dataframe thead th {\n",
       "        text-align: right;\n",
       "    }\n",
       "</style>\n",
       "<table border=\"1\" class=\"dataframe\">\n",
       "  <thead>\n",
       "    <tr style=\"text-align: right;\">\n",
       "      <th></th>\n",
       "      <th>age</th>\n",
       "      <th>studytime</th>\n",
       "      <th>failures</th>\n",
       "      <th>schoolsup</th>\n",
       "      <th>famsup</th>\n",
       "      <th>paid</th>\n",
       "      <th>activities</th>\n",
       "      <th>higher</th>\n",
       "      <th>internet</th>\n",
       "      <th>romantic</th>\n",
       "      <th>...</th>\n",
       "      <th>G2</th>\n",
       "      <th>G3</th>\n",
       "      <th>address_R</th>\n",
       "      <th>address_U</th>\n",
       "      <th>famsize_GT3</th>\n",
       "      <th>famsize_LE3</th>\n",
       "      <th>reason_course</th>\n",
       "      <th>reason_home</th>\n",
       "      <th>reason_other</th>\n",
       "      <th>reason_reputation</th>\n",
       "    </tr>\n",
       "  </thead>\n",
       "  <tbody>\n",
       "    <tr>\n",
       "      <th>0</th>\n",
       "      <td>18</td>\n",
       "      <td>2</td>\n",
       "      <td>0</td>\n",
       "      <td>1</td>\n",
       "      <td>0</td>\n",
       "      <td>0</td>\n",
       "      <td>0</td>\n",
       "      <td>1</td>\n",
       "      <td>0</td>\n",
       "      <td>0</td>\n",
       "      <td>...</td>\n",
       "      <td>30</td>\n",
       "      <td>30</td>\n",
       "      <td>0</td>\n",
       "      <td>1</td>\n",
       "      <td>1</td>\n",
       "      <td>0</td>\n",
       "      <td>1</td>\n",
       "      <td>0</td>\n",
       "      <td>0</td>\n",
       "      <td>0</td>\n",
       "    </tr>\n",
       "    <tr>\n",
       "      <th>1</th>\n",
       "      <td>17</td>\n",
       "      <td>2</td>\n",
       "      <td>0</td>\n",
       "      <td>0</td>\n",
       "      <td>1</td>\n",
       "      <td>0</td>\n",
       "      <td>0</td>\n",
       "      <td>1</td>\n",
       "      <td>1</td>\n",
       "      <td>0</td>\n",
       "      <td>...</td>\n",
       "      <td>25</td>\n",
       "      <td>30</td>\n",
       "      <td>0</td>\n",
       "      <td>1</td>\n",
       "      <td>1</td>\n",
       "      <td>0</td>\n",
       "      <td>1</td>\n",
       "      <td>0</td>\n",
       "      <td>0</td>\n",
       "      <td>0</td>\n",
       "    </tr>\n",
       "    <tr>\n",
       "      <th>2</th>\n",
       "      <td>15</td>\n",
       "      <td>2</td>\n",
       "      <td>3</td>\n",
       "      <td>1</td>\n",
       "      <td>0</td>\n",
       "      <td>1</td>\n",
       "      <td>0</td>\n",
       "      <td>1</td>\n",
       "      <td>1</td>\n",
       "      <td>0</td>\n",
       "      <td>...</td>\n",
       "      <td>40</td>\n",
       "      <td>50</td>\n",
       "      <td>0</td>\n",
       "      <td>1</td>\n",
       "      <td>0</td>\n",
       "      <td>1</td>\n",
       "      <td>0</td>\n",
       "      <td>0</td>\n",
       "      <td>1</td>\n",
       "      <td>0</td>\n",
       "    </tr>\n",
       "    <tr>\n",
       "      <th>3</th>\n",
       "      <td>15</td>\n",
       "      <td>3</td>\n",
       "      <td>0</td>\n",
       "      <td>0</td>\n",
       "      <td>1</td>\n",
       "      <td>1</td>\n",
       "      <td>1</td>\n",
       "      <td>1</td>\n",
       "      <td>1</td>\n",
       "      <td>1</td>\n",
       "      <td>...</td>\n",
       "      <td>70</td>\n",
       "      <td>75</td>\n",
       "      <td>0</td>\n",
       "      <td>1</td>\n",
       "      <td>1</td>\n",
       "      <td>0</td>\n",
       "      <td>0</td>\n",
       "      <td>1</td>\n",
       "      <td>0</td>\n",
       "      <td>0</td>\n",
       "    </tr>\n",
       "    <tr>\n",
       "      <th>4</th>\n",
       "      <td>16</td>\n",
       "      <td>2</td>\n",
       "      <td>0</td>\n",
       "      <td>0</td>\n",
       "      <td>1</td>\n",
       "      <td>1</td>\n",
       "      <td>0</td>\n",
       "      <td>1</td>\n",
       "      <td>0</td>\n",
       "      <td>0</td>\n",
       "      <td>...</td>\n",
       "      <td>50</td>\n",
       "      <td>50</td>\n",
       "      <td>0</td>\n",
       "      <td>1</td>\n",
       "      <td>1</td>\n",
       "      <td>0</td>\n",
       "      <td>0</td>\n",
       "      <td>1</td>\n",
       "      <td>0</td>\n",
       "      <td>0</td>\n",
       "    </tr>\n",
       "  </tbody>\n",
       "</table>\n",
       "<p>5 rows × 25 columns</p>\n",
       "</div>"
      ],
      "text/plain": [
       "   age  studytime  failures  schoolsup  famsup  paid  activities  higher  \\\n",
       "0   18          2         0          1       0     0           0       1   \n",
       "1   17          2         0          0       1     0           0       1   \n",
       "2   15          2         3          1       0     1           0       1   \n",
       "3   15          3         0          0       1     1           1       1   \n",
       "4   16          2         0          0       1     1           0       1   \n",
       "\n",
       "   internet  romantic  ...  G2  G3  address_R  address_U  famsize_GT3  \\\n",
       "0         0         0  ...  30  30          0          1            1   \n",
       "1         1         0  ...  25  30          0          1            1   \n",
       "2         1         0  ...  40  50          0          1            0   \n",
       "3         1         1  ...  70  75          0          1            1   \n",
       "4         0         0  ...  50  50          0          1            1   \n",
       "\n",
       "   famsize_LE3  reason_course  reason_home  reason_other  reason_reputation  \n",
       "0            0              1            0             0                  0  \n",
       "1            0              1            0             0                  0  \n",
       "2            1              0            0             1                  0  \n",
       "3            0              0            1             0                  0  \n",
       "4            0              0            1             0                  0  \n",
       "\n",
       "[5 rows x 25 columns]"
      ]
     },
     "execution_count": 12,
     "metadata": {},
     "output_type": "execute_result"
    }
   ],
   "source": [
    "# final df after all the encoding\n",
    "data.head()"
   ]
  },
  {
   "cell_type": "code",
   "execution_count": 13,
   "metadata": {},
   "outputs": [
    {
     "name": "stdout",
     "output_type": "stream",
     "text": [
      "(395, 24)\n",
      "(395, 1)\n"
     ]
    }
   ],
   "source": [
    "# Define your X and y\n",
    "#X should contain everything except G3.\n",
    "#y contains G3 only.\n",
    "\n",
    "X = data.drop('G3', axis = 1)\n",
    "y = data[['G3']]\n",
    "\n",
    "print(X.shape)\n",
    "print(y.shape)"
   ]
  },
  {
   "cell_type": "code",
   "execution_count": 14,
   "metadata": {},
   "outputs": [],
   "source": [
    "# Initialize the model\n",
    "model = LinearRegression(normalize = True)"
   ]
  },
  {
   "cell_type": "code",
   "execution_count": 15,
   "metadata": {},
   "outputs": [
    {
     "data": {
      "text/plain": [
       "LinearRegression(normalize=True)"
      ]
     },
     "execution_count": 15,
     "metadata": {},
     "output_type": "execute_result"
    }
   ],
   "source": [
    "# Fit the model. Wait! We will complete this step for you ;)\n",
    "model.fit(X, y)"
   ]
  },
  {
   "cell_type": "code",
   "execution_count": 16,
   "metadata": {},
   "outputs": [
    {
     "name": "stdout",
     "output_type": "stream",
     "text": [
      "Model coefficients / weights :  [[-0.66753326 -0.69436693 -1.01806141  1.95654256  0.36804244  0.53901819\n",
      "  -1.87243884  1.10140481 -0.78631609 -1.70045164  0.51770818  0.36097049\n",
      "   0.46477956  0.2248845   0.18890245  0.95213954  0.17302645 -0.17302645\n",
      "  -0.21119321  0.21119321 -0.04553753 -1.1248133   1.39648183  0.6130553 ]]\n",
      "Model intercept / bias :  [-1.44025941]\n"
     ]
    }
   ],
   "source": [
    "# Lets interpret the model.\n",
    "\n",
    "print(\"Model coefficients / weights : \", model.coef_)\n",
    "print(\"Model intercept / bias : \", model.intercept_)"
   ]
  },
  {
   "cell_type": "code",
   "execution_count": 17,
   "metadata": {},
   "outputs": [
    {
     "name": "stdout",
     "output_type": "stream",
     "text": [
      "age  :  -0.6675332646220652\n",
      "studytime  :  -0.6943669320835476\n",
      "failures  :  -1.018061412277915\n",
      "schoolsup  :  1.956542558599397\n",
      "famsup  :  0.3680424363560658\n",
      "paid  :  0.5390181854013174\n",
      "activities  :  -1.8724388369868747\n",
      "higher  :  1.1014048067709312\n",
      "internet  :  -0.7863160948110588\n",
      "romantic  :  -1.7004516417699012\n",
      "freetime  :  0.517708183745887\n",
      "goout  :  0.36097048547153854\n",
      "health  :  0.46477956274731264\n",
      "absences  :  0.22488449647052627\n",
      "G1  :  0.18890245073867756\n",
      "G2  :  0.9521395362761486\n",
      "address_R  :  0.17302645310683087\n",
      "address_U  :  -0.17302645310682802\n",
      "famsize_GT3  :  -0.21119320555996632\n",
      "famsize_LE3  :  0.2111932055599664\n",
      "reason_course  :  -0.045537526744506694\n",
      "reason_home  :  -1.1248132984724002\n",
      "reason_other  :  1.3964818308739795\n",
      "reason_reputation  :  0.6130553014401278\n"
     ]
    }
   ],
   "source": [
    "# not understandable right\n",
    "\n",
    "for i in range(len(X.columns)):\n",
    "    print(X.columns[i], \" : \", model.coef_[0][i])"
   ]
  },
  {
   "cell_type": "code",
   "execution_count": 18,
   "metadata": {},
   "outputs": [],
   "source": [
    "# prediction time:\n",
    "y_pred = model.predict(X)"
   ]
  },
  {
   "cell_type": "code",
   "execution_count": 19,
   "metadata": {},
   "outputs": [
    {
     "name": "stdout",
     "output_type": "stream",
     "text": [
      "\n",
      "MSE: 85.27642516663595\n"
     ]
    }
   ],
   "source": [
    "# Print mean squared error\n",
    "mse = mean_squared_error(y, y_pred)\n",
    "\n",
    "print(f\"\\nMSE: {mse}\")"
   ]
  },
  {
   "cell_type": "code",
   "execution_count": 20,
   "metadata": {},
   "outputs": [
    {
     "data": {
      "text/plain": [
       "Index(['age', 'studytime', 'failures', 'schoolsup', 'famsup', 'paid',\n",
       "       'activities', 'higher', 'internet', 'romantic', 'freetime', 'goout',\n",
       "       'health', 'absences', 'G1', 'G2', 'address_R', 'address_U',\n",
       "       'famsize_GT3', 'famsize_LE3', 'reason_course', 'reason_home',\n",
       "       'reason_other', 'reason_reputation'],\n",
       "      dtype='object')"
      ]
     },
     "execution_count": 20,
     "metadata": {},
     "output_type": "execute_result"
    }
   ],
   "source": [
    "X.columns"
   ]
  },
  {
   "cell_type": "code",
   "execution_count": 21,
   "metadata": {},
   "outputs": [
    {
     "name": "stdout",
     "output_type": "stream",
     "text": [
      "(24,)\n"
     ]
    }
   ],
   "source": [
    "# Predict on your own data\n",
    "new_data = np.array([20, 10, 2, 1, 1, 0, 1, 0, 0, 1, 1, 0, 0, 0, 88, 90, 1, 0, 1, 0, 1, 0, 0, 0])\n",
    "print(new_data.shape)"
   ]
  },
  {
   "cell_type": "code",
   "execution_count": 22,
   "metadata": {},
   "outputs": [
    {
     "data": {
      "text/plain": [
       "(1, 24)"
      ]
     },
     "execution_count": 22,
     "metadata": {},
     "output_type": "execute_result"
    }
   ],
   "source": [
    "new_data = new_data.reshape((1, -1))\n",
    "new_data.shape"
   ]
  },
  {
   "cell_type": "code",
   "execution_count": 23,
   "metadata": {},
   "outputs": [
    {
     "name": "stdout",
     "output_type": "stream",
     "text": [
      "Predicted grade: [[77.7309555]]\n"
     ]
    }
   ],
   "source": [
    "print(\"Predicted grade:\",model.predict(new_data))"
   ]
  }
 ],
 "metadata": {
  "kernelspec": {
   "display_name": "Python 3",
   "language": "python",
   "name": "python3"
  },
  "language_info": {
   "codemirror_mode": {
    "name": "ipython",
    "version": 3
   },
   "file_extension": ".py",
   "mimetype": "text/x-python",
   "name": "python",
   "nbconvert_exporter": "python",
   "pygments_lexer": "ipython3",
   "version": "3.8.3"
  },
  "toc": {
   "base_numbering": 1,
   "nav_menu": {},
   "number_sections": true,
   "sideBar": true,
   "skip_h1_title": false,
   "title_cell": "Table of Contents",
   "title_sidebar": "Contents",
   "toc_cell": false,
   "toc_position": {},
   "toc_section_display": true,
   "toc_window_display": false
  }
 },
 "nbformat": 4,
 "nbformat_minor": 4
}
