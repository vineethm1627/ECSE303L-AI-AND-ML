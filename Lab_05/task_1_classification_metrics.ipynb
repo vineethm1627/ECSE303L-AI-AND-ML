{
 "cells": [
  {
   "cell_type": "markdown",
   "metadata": {},
   "source": [
    "## Classification metrics\n",
    "\n",
    "Choosing right evaluation metrics for the problem is one of the most important aspect of machine learning. Choice of metrics allows us to compare performance of different models and helps in model selection.\n",
    "\n",
    "In this task, we will explore following metrics:\n",
    "- confusion matrix\n",
    "- accuracy\n",
    "- precision\n",
    "- recall\n",
    "- f1 score\n",
    "\n",
    "#### Dataset\n",
    "The training dataset is available at \"data/ozone_levels_train.csv\" in the respective challenge' repo.<br>\n",
    "The testing dataset is available at \"data/ozone_levels_test.csv\" in the respective challenge' repo.<br>\n",
    "\n",
    "The dataset is __modified version__ of the dataset 'ozone level' on provided by UCI Machine Learning repository.\n",
    "\n",
    "Original dataset: https://archive.ics.uci.edu/ml/datasets/Ozone+Level+Detection\n",
    "\n",
    "#### Objective\n",
    "To learn about classification metrics and compare logistic regression and decision tree on the same dataset\n",
    "\n",
    "#### Tasks\n",
    "- define X(input) and Y(output)\n",
    "- train the decision tree model \n",
    "- train the logistic model\n",
    "- construct a confusion matrix\n",
    "- calculate the classification accurace\n",
    "- calculate the Precision\n",
    "- calculate the Recall\n",
    "- calculate the F1 score\n",
    "- calculate Area Under ROC Curve\n",
    "\n",
    "#### Further fun\n",
    "- Calculate precission and recall\n",
    "- find the area under the curve for Roc metrics\n",
    "- impliment below metrics using inbuilt librarires\n",
    "        confusion matrix\n",
    "        accuracy\n",
    "        precision\n",
    "        recall\n",
    "        f1 score\n",
    "\n",
    "\n",
    "#### Helpful links\n",
    "- Classification metrics with google developers: https://developers.google.com/machine-learning/crash-course/classification/true-false-positive-negative\n",
    "- classification metrics: https://www.kdnuggets.com/2020/04/performance-evaluation-metrics-classification.html\n",
    "- pd.get_dummies() and One Hot Encoding: https://queirozf.com/entries/one-hot-encoding-a-feature-on-a-pandas-dataframe-an-example\n",
    "- Differences between Logistic Regression and a Decision Tree: https://www.geeksforgeeks.org/ml-logistic-regression-v-s-decision-tree-classification/\n",
    "- Decision Tree Classifier by Sklearn: https://scikit-learn.org/stable/modules/generated/sklearn.tree.DecisionTreeClassifier.html\n",
    "- Understanding classification metrics like Precision, Recall, F-Scores and Confusion matrices: https://nillsf.com/index.php/2020/05/23/confusion-matrix-accuracy-recall-precision-false-positive-rate-and-f-scores-explained/\n",
    "- Understanding the ROC Curve: https://developers.google.com/machine-learning/crash-course/classification/roc-and-auc\n",
    "- Use slack for doubts: https://join.slack.com/t/deepconnectai/shared_invite/zt-givlfnf6-~cn3SQ43k0BGDrG9_YOn4g"
   ]
  },
  {
   "cell_type": "code",
   "execution_count": 1,
   "metadata": {},
   "outputs": [],
   "source": [
    "import pandas as pd\n",
    "import numpy as np\n",
    "import matplotlib.pyplot as plt\n",
    "import seaborn as sns\n",
    "from sklearn.linear_model import LogisticRegression\n",
    "from sklearn.tree import DecisionTreeClassifier\n",
    "# Uncomment below 2 lines to ignore warnings\n",
    "import warnings\n",
    "warnings.filterwarnings('ignore')"
   ]
  },
  {
   "cell_type": "code",
   "execution_count": 2,
   "metadata": {},
   "outputs": [],
   "source": [
    "# Load the train and test data\n",
    "train = pd.read_csv('data/ozone_levels_train.csv')\n",
    "test  = pd.read_csv('data/ozone_levels_test.csv')"
   ]
  },
  {
   "cell_type": "code",
   "execution_count": 3,
   "metadata": {},
   "outputs": [
    {
     "name": "stdout",
     "output_type": "stream",
     "text": [
      "(1775, 73)\n"
     ]
    }
   ],
   "source": [
    "# Explore train dataset\n",
    "print(train.shape)"
   ]
  },
  {
   "cell_type": "code",
   "execution_count": 4,
   "metadata": {},
   "outputs": [
    {
     "data": {
      "text/html": [
       "<div>\n",
       "<style scoped>\n",
       "    .dataframe tbody tr th:only-of-type {\n",
       "        vertical-align: middle;\n",
       "    }\n",
       "\n",
       "    .dataframe tbody tr th {\n",
       "        vertical-align: top;\n",
       "    }\n",
       "\n",
       "    .dataframe thead th {\n",
       "        text-align: right;\n",
       "    }\n",
       "</style>\n",
       "<table border=\"1\" class=\"dataframe\">\n",
       "  <thead>\n",
       "    <tr style=\"text-align: right;\">\n",
       "      <th></th>\n",
       "      <th>F_0</th>\n",
       "      <th>F_1</th>\n",
       "      <th>F_2</th>\n",
       "      <th>F_3</th>\n",
       "      <th>F_4</th>\n",
       "      <th>F_5</th>\n",
       "      <th>F_6</th>\n",
       "      <th>F_7</th>\n",
       "      <th>F_8</th>\n",
       "      <th>F_9</th>\n",
       "      <th>...</th>\n",
       "      <th>F_63</th>\n",
       "      <th>F_64</th>\n",
       "      <th>F_65</th>\n",
       "      <th>F_66</th>\n",
       "      <th>F_67</th>\n",
       "      <th>F_68</th>\n",
       "      <th>F_69</th>\n",
       "      <th>F_70</th>\n",
       "      <th>F_71</th>\n",
       "      <th>class</th>\n",
       "    </tr>\n",
       "  </thead>\n",
       "  <tbody>\n",
       "    <tr>\n",
       "      <th>0</th>\n",
       "      <td>2.5</td>\n",
       "      <td>3.5</td>\n",
       "      <td>4.4</td>\n",
       "      <td>4.6</td>\n",
       "      <td>4.4</td>\n",
       "      <td>3.5</td>\n",
       "      <td>4.2</td>\n",
       "      <td>4.5</td>\n",
       "      <td>4.2</td>\n",
       "      <td>4.6</td>\n",
       "      <td>...</td>\n",
       "      <td>0.07</td>\n",
       "      <td>26.29</td>\n",
       "      <td>-2.37</td>\n",
       "      <td>5705.0</td>\n",
       "      <td>-19.40</td>\n",
       "      <td>23.40</td>\n",
       "      <td>10315.0</td>\n",
       "      <td>-0.130416</td>\n",
       "      <td>0.00</td>\n",
       "      <td>0.0</td>\n",
       "    </tr>\n",
       "    <tr>\n",
       "      <th>1</th>\n",
       "      <td>1.2</td>\n",
       "      <td>0.7</td>\n",
       "      <td>0.3</td>\n",
       "      <td>0.1</td>\n",
       "      <td>0.3</td>\n",
       "      <td>0.4</td>\n",
       "      <td>0.6</td>\n",
       "      <td>1.1</td>\n",
       "      <td>1.9</td>\n",
       "      <td>2.4</td>\n",
       "      <td>...</td>\n",
       "      <td>0.24</td>\n",
       "      <td>15.80</td>\n",
       "      <td>2.10</td>\n",
       "      <td>5710.0</td>\n",
       "      <td>-17.50</td>\n",
       "      <td>19.00</td>\n",
       "      <td>10210.0</td>\n",
       "      <td>15.000000</td>\n",
       "      <td>0.00</td>\n",
       "      <td>0.0</td>\n",
       "    </tr>\n",
       "    <tr>\n",
       "      <th>2</th>\n",
       "      <td>0.1</td>\n",
       "      <td>0.4</td>\n",
       "      <td>0.6</td>\n",
       "      <td>0.4</td>\n",
       "      <td>1.0</td>\n",
       "      <td>1.7</td>\n",
       "      <td>0.7</td>\n",
       "      <td>1.3</td>\n",
       "      <td>2.3</td>\n",
       "      <td>2.4</td>\n",
       "      <td>...</td>\n",
       "      <td>0.12</td>\n",
       "      <td>31.64</td>\n",
       "      <td>-5.24</td>\n",
       "      <td>5745.0</td>\n",
       "      <td>-16.90</td>\n",
       "      <td>25.90</td>\n",
       "      <td>10175.0</td>\n",
       "      <td>85.000000</td>\n",
       "      <td>0.00</td>\n",
       "      <td>0.0</td>\n",
       "    </tr>\n",
       "    <tr>\n",
       "      <th>3</th>\n",
       "      <td>0.6</td>\n",
       "      <td>0.9</td>\n",
       "      <td>1.0</td>\n",
       "      <td>0.6</td>\n",
       "      <td>0.7</td>\n",
       "      <td>0.7</td>\n",
       "      <td>0.8</td>\n",
       "      <td>1.4</td>\n",
       "      <td>2.6</td>\n",
       "      <td>2.6</td>\n",
       "      <td>...</td>\n",
       "      <td>0.19</td>\n",
       "      <td>1.22</td>\n",
       "      <td>-0.28</td>\n",
       "      <td>5835.0</td>\n",
       "      <td>-9.55</td>\n",
       "      <td>42.15</td>\n",
       "      <td>10215.0</td>\n",
       "      <td>5.000000</td>\n",
       "      <td>0.00</td>\n",
       "      <td>0.0</td>\n",
       "    </tr>\n",
       "    <tr>\n",
       "      <th>4</th>\n",
       "      <td>0.1</td>\n",
       "      <td>0.4</td>\n",
       "      <td>0.3</td>\n",
       "      <td>0.1</td>\n",
       "      <td>0.1</td>\n",
       "      <td>0.0</td>\n",
       "      <td>0.9</td>\n",
       "      <td>1.9</td>\n",
       "      <td>2.0</td>\n",
       "      <td>2.0</td>\n",
       "      <td>...</td>\n",
       "      <td>0.87</td>\n",
       "      <td>1.65</td>\n",
       "      <td>1.51</td>\n",
       "      <td>5835.0</td>\n",
       "      <td>32.95</td>\n",
       "      <td>47.30</td>\n",
       "      <td>10170.0</td>\n",
       "      <td>15.000000</td>\n",
       "      <td>0.97</td>\n",
       "      <td>0.0</td>\n",
       "    </tr>\n",
       "  </tbody>\n",
       "</table>\n",
       "<p>5 rows × 73 columns</p>\n",
       "</div>"
      ],
      "text/plain": [
       "   F_0  F_1  F_2  F_3  F_4  F_5  F_6  F_7  F_8  F_9  ...  F_63   F_64  F_65  \\\n",
       "0  2.5  3.5  4.4  4.6  4.4  3.5  4.2  4.5  4.2  4.6  ...  0.07  26.29 -2.37   \n",
       "1  1.2  0.7  0.3  0.1  0.3  0.4  0.6  1.1  1.9  2.4  ...  0.24  15.80  2.10   \n",
       "2  0.1  0.4  0.6  0.4  1.0  1.7  0.7  1.3  2.3  2.4  ...  0.12  31.64 -5.24   \n",
       "3  0.6  0.9  1.0  0.6  0.7  0.7  0.8  1.4  2.6  2.6  ...  0.19   1.22 -0.28   \n",
       "4  0.1  0.4  0.3  0.1  0.1  0.0  0.9  1.9  2.0  2.0  ...  0.87   1.65  1.51   \n",
       "\n",
       "     F_66   F_67   F_68     F_69       F_70  F_71  class  \n",
       "0  5705.0 -19.40  23.40  10315.0  -0.130416  0.00    0.0  \n",
       "1  5710.0 -17.50  19.00  10210.0  15.000000  0.00    0.0  \n",
       "2  5745.0 -16.90  25.90  10175.0  85.000000  0.00    0.0  \n",
       "3  5835.0  -9.55  42.15  10215.0   5.000000  0.00    0.0  \n",
       "4  5835.0  32.95  47.30  10170.0  15.000000  0.97    0.0  \n",
       "\n",
       "[5 rows x 73 columns]"
      ]
     },
     "execution_count": 4,
     "metadata": {},
     "output_type": "execute_result"
    }
   ],
   "source": [
    "train.head()"
   ]
  },
  {
   "cell_type": "code",
   "execution_count": 11,
   "metadata": {},
   "outputs": [
    {
     "name": "stdout",
     "output_type": "stream",
     "text": [
      "<class 'pandas.core.frame.DataFrame'>\n",
      "RangeIndex: 1775 entries, 0 to 1774\n",
      "Data columns (total 73 columns):\n",
      " #   Column  Non-Null Count  Dtype  \n",
      "---  ------  --------------  -----  \n",
      " 0   F_0     1775 non-null   float64\n",
      " 1   F_1     1775 non-null   float64\n",
      " 2   F_2     1775 non-null   float64\n",
      " 3   F_3     1775 non-null   float64\n",
      " 4   F_4     1775 non-null   float64\n",
      " 5   F_5     1775 non-null   float64\n",
      " 6   F_6     1775 non-null   float64\n",
      " 7   F_7     1775 non-null   float64\n",
      " 8   F_8     1775 non-null   float64\n",
      " 9   F_9     1775 non-null   float64\n",
      " 10  F_10    1775 non-null   float64\n",
      " 11  F_11    1775 non-null   float64\n",
      " 12  F_12    1775 non-null   float64\n",
      " 13  F_13    1775 non-null   float64\n",
      " 14  F_14    1775 non-null   float64\n",
      " 15  F_15    1775 non-null   float64\n",
      " 16  F_16    1775 non-null   float64\n",
      " 17  F_17    1775 non-null   float64\n",
      " 18  F_18    1775 non-null   float64\n",
      " 19  F_19    1775 non-null   float64\n",
      " 20  F_20    1775 non-null   float64\n",
      " 21  F_21    1775 non-null   float64\n",
      " 22  F_22    1775 non-null   float64\n",
      " 23  F_23    1775 non-null   float64\n",
      " 24  F_24    1775 non-null   float64\n",
      " 25  F_25    1775 non-null   float64\n",
      " 26  F_26    1775 non-null   float64\n",
      " 27  F_27    1775 non-null   float64\n",
      " 28  F_28    1775 non-null   float64\n",
      " 29  F_29    1775 non-null   float64\n",
      " 30  F_30    1775 non-null   float64\n",
      " 31  F_31    1775 non-null   float64\n",
      " 32  F_32    1775 non-null   float64\n",
      " 33  F_33    1775 non-null   float64\n",
      " 34  F_34    1775 non-null   float64\n",
      " 35  F_35    1775 non-null   float64\n",
      " 36  F_36    1775 non-null   float64\n",
      " 37  F_37    1775 non-null   float64\n",
      " 38  F_38    1775 non-null   float64\n",
      " 39  F_39    1775 non-null   float64\n",
      " 40  F_40    1775 non-null   float64\n",
      " 41  F_41    1775 non-null   float64\n",
      " 42  F_42    1775 non-null   float64\n",
      " 43  F_43    1775 non-null   float64\n",
      " 44  F_44    1775 non-null   float64\n",
      " 45  F_45    1775 non-null   float64\n",
      " 46  F_46    1775 non-null   float64\n",
      " 47  F_47    1775 non-null   float64\n",
      " 48  F_48    1775 non-null   float64\n",
      " 49  F_49    1775 non-null   float64\n",
      " 50  F_50    1775 non-null   float64\n",
      " 51  F_51    1775 non-null   float64\n",
      " 52  F_52    1775 non-null   float64\n",
      " 53  F_53    1775 non-null   float64\n",
      " 54  F_54    1775 non-null   float64\n",
      " 55  F_55    1775 non-null   float64\n",
      " 56  F_56    1775 non-null   float64\n",
      " 57  F_57    1775 non-null   float64\n",
      " 58  F_58    1775 non-null   float64\n",
      " 59  F_59    1775 non-null   float64\n",
      " 60  F_60    1775 non-null   float64\n",
      " 61  F_61    1775 non-null   float64\n",
      " 62  F_62    1775 non-null   float64\n",
      " 63  F_63    1775 non-null   float64\n",
      " 64  F_64    1775 non-null   float64\n",
      " 65  F_65    1775 non-null   float64\n",
      " 66  F_66    1775 non-null   float64\n",
      " 67  F_67    1775 non-null   float64\n",
      " 68  F_68    1775 non-null   float64\n",
      " 69  F_69    1775 non-null   float64\n",
      " 70  F_70    1775 non-null   float64\n",
      " 71  F_71    1775 non-null   float64\n",
      " 72  class   1775 non-null   float64\n",
      "dtypes: float64(73)\n",
      "memory usage: 1012.4 KB\n"
     ]
    }
   ],
   "source": [
    "train.info()"
   ]
  },
  {
   "cell_type": "code",
   "execution_count": 12,
   "metadata": {},
   "outputs": [
    {
     "data": {
      "text/html": [
       "<div>\n",
       "<style scoped>\n",
       "    .dataframe tbody tr th:only-of-type {\n",
       "        vertical-align: middle;\n",
       "    }\n",
       "\n",
       "    .dataframe tbody tr th {\n",
       "        vertical-align: top;\n",
       "    }\n",
       "\n",
       "    .dataframe thead th {\n",
       "        text-align: right;\n",
       "    }\n",
       "</style>\n",
       "<table border=\"1\" class=\"dataframe\">\n",
       "  <thead>\n",
       "    <tr style=\"text-align: right;\">\n",
       "      <th></th>\n",
       "      <th>F_0</th>\n",
       "      <th>F_1</th>\n",
       "      <th>F_2</th>\n",
       "      <th>F_3</th>\n",
       "      <th>F_4</th>\n",
       "      <th>F_5</th>\n",
       "      <th>F_6</th>\n",
       "      <th>F_7</th>\n",
       "      <th>F_8</th>\n",
       "      <th>F_9</th>\n",
       "      <th>...</th>\n",
       "      <th>F_63</th>\n",
       "      <th>F_64</th>\n",
       "      <th>F_65</th>\n",
       "      <th>F_66</th>\n",
       "      <th>F_67</th>\n",
       "      <th>F_68</th>\n",
       "      <th>F_69</th>\n",
       "      <th>F_70</th>\n",
       "      <th>F_71</th>\n",
       "      <th>class</th>\n",
       "    </tr>\n",
       "  </thead>\n",
       "  <tbody>\n",
       "    <tr>\n",
       "      <th>count</th>\n",
       "      <td>1775.000000</td>\n",
       "      <td>1775.000000</td>\n",
       "      <td>1775.000000</td>\n",
       "      <td>1775.000000</td>\n",
       "      <td>1775.000000</td>\n",
       "      <td>1775.000000</td>\n",
       "      <td>1775.000000</td>\n",
       "      <td>1775.000000</td>\n",
       "      <td>1775.000000</td>\n",
       "      <td>1775.000000</td>\n",
       "      <td>...</td>\n",
       "      <td>1775.000000</td>\n",
       "      <td>1775.000000</td>\n",
       "      <td>1775.000000</td>\n",
       "      <td>1775.000000</td>\n",
       "      <td>1775.000000</td>\n",
       "      <td>1775.000000</td>\n",
       "      <td>1775.000000</td>\n",
       "      <td>1775.000000</td>\n",
       "      <td>1775.000000</td>\n",
       "      <td>1775.000000</td>\n",
       "    </tr>\n",
       "    <tr>\n",
       "      <th>mean</th>\n",
       "      <td>1.659582</td>\n",
       "      <td>1.604478</td>\n",
       "      <td>1.562795</td>\n",
       "      <td>1.536850</td>\n",
       "      <td>1.546754</td>\n",
       "      <td>1.565504</td>\n",
       "      <td>1.658954</td>\n",
       "      <td>2.060432</td>\n",
       "      <td>2.546532</td>\n",
       "      <td>2.853759</td>\n",
       "      <td>...</td>\n",
       "      <td>0.301490</td>\n",
       "      <td>9.996660</td>\n",
       "      <td>0.767693</td>\n",
       "      <td>5818.118749</td>\n",
       "      <td>10.228275</td>\n",
       "      <td>37.193733</td>\n",
       "      <td>10164.328252</td>\n",
       "      <td>0.326615</td>\n",
       "      <td>0.400109</td>\n",
       "      <td>0.029296</td>\n",
       "    </tr>\n",
       "    <tr>\n",
       "      <th>std</th>\n",
       "      <td>1.207315</td>\n",
       "      <td>1.215479</td>\n",
       "      <td>1.182878</td>\n",
       "      <td>1.144698</td>\n",
       "      <td>1.149555</td>\n",
       "      <td>1.121924</td>\n",
       "      <td>1.106174</td>\n",
       "      <td>1.102371</td>\n",
       "      <td>1.119705</td>\n",
       "      <td>1.148799</td>\n",
       "      <td>...</td>\n",
       "      <td>0.240462</td>\n",
       "      <td>9.085121</td>\n",
       "      <td>6.945460</td>\n",
       "      <td>76.968772</td>\n",
       "      <td>20.246423</td>\n",
       "      <td>11.053242</td>\n",
       "      <td>51.959469</td>\n",
       "      <td>35.038533</td>\n",
       "      <td>1.447307</td>\n",
       "      <td>0.168682</td>\n",
       "    </tr>\n",
       "    <tr>\n",
       "      <th>min</th>\n",
       "      <td>0.000000</td>\n",
       "      <td>0.000000</td>\n",
       "      <td>0.000000</td>\n",
       "      <td>0.000000</td>\n",
       "      <td>0.000000</td>\n",
       "      <td>0.000000</td>\n",
       "      <td>0.000000</td>\n",
       "      <td>0.000000</td>\n",
       "      <td>0.100000</td>\n",
       "      <td>0.100000</td>\n",
       "      <td>...</td>\n",
       "      <td>0.010000</td>\n",
       "      <td>-14.920000</td>\n",
       "      <td>-22.480000</td>\n",
       "      <td>5545.000000</td>\n",
       "      <td>-56.700000</td>\n",
       "      <td>-10.100000</td>\n",
       "      <td>9975.000000</td>\n",
       "      <td>-130.000000</td>\n",
       "      <td>0.000000</td>\n",
       "      <td>0.000000</td>\n",
       "    </tr>\n",
       "    <tr>\n",
       "      <th>25%</th>\n",
       "      <td>0.800000</td>\n",
       "      <td>0.700000</td>\n",
       "      <td>0.700000</td>\n",
       "      <td>0.700000</td>\n",
       "      <td>0.700000</td>\n",
       "      <td>0.700000</td>\n",
       "      <td>0.900000</td>\n",
       "      <td>1.300000</td>\n",
       "      <td>1.800000</td>\n",
       "      <td>2.100000</td>\n",
       "      <td>...</td>\n",
       "      <td>0.100000</td>\n",
       "      <td>3.535000</td>\n",
       "      <td>-3.300000</td>\n",
       "      <td>5770.000000</td>\n",
       "      <td>-2.850000</td>\n",
       "      <td>32.825000</td>\n",
       "      <td>10130.000000</td>\n",
       "      <td>-20.000000</td>\n",
       "      <td>0.000000</td>\n",
       "      <td>0.000000</td>\n",
       "    </tr>\n",
       "    <tr>\n",
       "      <th>50%</th>\n",
       "      <td>1.600000</td>\n",
       "      <td>1.500000</td>\n",
       "      <td>1.400000</td>\n",
       "      <td>1.400000</td>\n",
       "      <td>1.400000</td>\n",
       "      <td>1.500000</td>\n",
       "      <td>1.600000</td>\n",
       "      <td>2.048331</td>\n",
       "      <td>2.540472</td>\n",
       "      <td>2.848599</td>\n",
       "      <td>...</td>\n",
       "      <td>0.250000</td>\n",
       "      <td>9.867313</td>\n",
       "      <td>0.831892</td>\n",
       "      <td>5825.000000</td>\n",
       "      <td>12.900000</td>\n",
       "      <td>40.350000</td>\n",
       "      <td>10160.000000</td>\n",
       "      <td>-0.130416</td>\n",
       "      <td>0.000000</td>\n",
       "      <td>0.000000</td>\n",
       "    </tr>\n",
       "    <tr>\n",
       "      <th>75%</th>\n",
       "      <td>2.200000</td>\n",
       "      <td>2.100000</td>\n",
       "      <td>2.100000</td>\n",
       "      <td>2.100000</td>\n",
       "      <td>2.100000</td>\n",
       "      <td>2.000000</td>\n",
       "      <td>2.100000</td>\n",
       "      <td>2.600000</td>\n",
       "      <td>3.200000</td>\n",
       "      <td>3.500000</td>\n",
       "      <td>...</td>\n",
       "      <td>0.460000</td>\n",
       "      <td>16.135000</td>\n",
       "      <td>4.380000</td>\n",
       "      <td>5880.000000</td>\n",
       "      <td>27.525000</td>\n",
       "      <td>44.850000</td>\n",
       "      <td>10190.000000</td>\n",
       "      <td>15.000000</td>\n",
       "      <td>0.050000</td>\n",
       "      <td>0.000000</td>\n",
       "    </tr>\n",
       "    <tr>\n",
       "      <th>max</th>\n",
       "      <td>7.500000</td>\n",
       "      <td>7.700000</td>\n",
       "      <td>7.100000</td>\n",
       "      <td>7.300000</td>\n",
       "      <td>7.200000</td>\n",
       "      <td>7.400000</td>\n",
       "      <td>7.400000</td>\n",
       "      <td>7.500000</td>\n",
       "      <td>8.400000</td>\n",
       "      <td>8.500000</td>\n",
       "      <td>...</td>\n",
       "      <td>1.000000</td>\n",
       "      <td>42.360000</td>\n",
       "      <td>30.420000</td>\n",
       "      <td>5965.000000</td>\n",
       "      <td>42.050000</td>\n",
       "      <td>59.150000</td>\n",
       "      <td>10350.000000</td>\n",
       "      <td>140.000000</td>\n",
       "      <td>20.650000</td>\n",
       "      <td>1.000000</td>\n",
       "    </tr>\n",
       "  </tbody>\n",
       "</table>\n",
       "<p>8 rows × 73 columns</p>\n",
       "</div>"
      ],
      "text/plain": [
       "               F_0          F_1          F_2          F_3          F_4  \\\n",
       "count  1775.000000  1775.000000  1775.000000  1775.000000  1775.000000   \n",
       "mean      1.659582     1.604478     1.562795     1.536850     1.546754   \n",
       "std       1.207315     1.215479     1.182878     1.144698     1.149555   \n",
       "min       0.000000     0.000000     0.000000     0.000000     0.000000   \n",
       "25%       0.800000     0.700000     0.700000     0.700000     0.700000   \n",
       "50%       1.600000     1.500000     1.400000     1.400000     1.400000   \n",
       "75%       2.200000     2.100000     2.100000     2.100000     2.100000   \n",
       "max       7.500000     7.700000     7.100000     7.300000     7.200000   \n",
       "\n",
       "               F_5          F_6          F_7          F_8          F_9  ...  \\\n",
       "count  1775.000000  1775.000000  1775.000000  1775.000000  1775.000000  ...   \n",
       "mean      1.565504     1.658954     2.060432     2.546532     2.853759  ...   \n",
       "std       1.121924     1.106174     1.102371     1.119705     1.148799  ...   \n",
       "min       0.000000     0.000000     0.000000     0.100000     0.100000  ...   \n",
       "25%       0.700000     0.900000     1.300000     1.800000     2.100000  ...   \n",
       "50%       1.500000     1.600000     2.048331     2.540472     2.848599  ...   \n",
       "75%       2.000000     2.100000     2.600000     3.200000     3.500000  ...   \n",
       "max       7.400000     7.400000     7.500000     8.400000     8.500000  ...   \n",
       "\n",
       "              F_63         F_64         F_65         F_66         F_67  \\\n",
       "count  1775.000000  1775.000000  1775.000000  1775.000000  1775.000000   \n",
       "mean      0.301490     9.996660     0.767693  5818.118749    10.228275   \n",
       "std       0.240462     9.085121     6.945460    76.968772    20.246423   \n",
       "min       0.010000   -14.920000   -22.480000  5545.000000   -56.700000   \n",
       "25%       0.100000     3.535000    -3.300000  5770.000000    -2.850000   \n",
       "50%       0.250000     9.867313     0.831892  5825.000000    12.900000   \n",
       "75%       0.460000    16.135000     4.380000  5880.000000    27.525000   \n",
       "max       1.000000    42.360000    30.420000  5965.000000    42.050000   \n",
       "\n",
       "              F_68          F_69         F_70         F_71        class  \n",
       "count  1775.000000   1775.000000  1775.000000  1775.000000  1775.000000  \n",
       "mean     37.193733  10164.328252     0.326615     0.400109     0.029296  \n",
       "std      11.053242     51.959469    35.038533     1.447307     0.168682  \n",
       "min     -10.100000   9975.000000  -130.000000     0.000000     0.000000  \n",
       "25%      32.825000  10130.000000   -20.000000     0.000000     0.000000  \n",
       "50%      40.350000  10160.000000    -0.130416     0.000000     0.000000  \n",
       "75%      44.850000  10190.000000    15.000000     0.050000     0.000000  \n",
       "max      59.150000  10350.000000   140.000000    20.650000     1.000000  \n",
       "\n",
       "[8 rows x 73 columns]"
      ]
     },
     "execution_count": 12,
     "metadata": {},
     "output_type": "execute_result"
    }
   ],
   "source": [
    "train.describe()"
   ]
  },
  {
   "cell_type": "code",
   "execution_count": 13,
   "metadata": {},
   "outputs": [
    {
     "data": {
      "text/plain": [
       "F_0      0\n",
       "F_1      0\n",
       "F_2      0\n",
       "F_3      0\n",
       "F_4      0\n",
       "        ..\n",
       "F_68     0\n",
       "F_69     0\n",
       "F_70     0\n",
       "F_71     0\n",
       "class    0\n",
       "Length: 73, dtype: int64"
      ]
     },
     "execution_count": 13,
     "metadata": {},
     "output_type": "execute_result"
    }
   ],
   "source": [
    "# there are no null values.\n",
    "train.isna().sum()"
   ]
  },
  {
   "cell_type": "code",
   "execution_count": 9,
   "metadata": {},
   "outputs": [
    {
     "data": {
      "text/plain": [
       "array([0., 1.])"
      ]
     },
     "execution_count": 9,
     "metadata": {},
     "output_type": "execute_result"
    }
   ],
   "source": [
    "train['class'].unique()"
   ]
  },
  {
   "cell_type": "code",
   "execution_count": 10,
   "metadata": {},
   "outputs": [
    {
     "data": {
      "text/plain": [
       "0.0    1723\n",
       "1.0      52\n",
       "Name: class, dtype: int64"
      ]
     },
     "execution_count": 10,
     "metadata": {},
     "output_type": "execute_result"
    }
   ],
   "source": [
    "# we can observe its an imbalanced class\n",
    "train['class'].value_counts()"
   ]
  },
  {
   "cell_type": "code",
   "execution_count": 5,
   "metadata": {},
   "outputs": [
    {
     "name": "stdout",
     "output_type": "stream",
     "text": [
      "(761, 73)\n"
     ]
    }
   ],
   "source": [
    "# Explore test dataset\n",
    "print(test.shape)"
   ]
  },
  {
   "cell_type": "code",
   "execution_count": 14,
   "metadata": {},
   "outputs": [
    {
     "data": {
      "text/plain": [
       "F_0      0\n",
       "F_1      0\n",
       "F_2      0\n",
       "F_3      0\n",
       "F_4      0\n",
       "        ..\n",
       "F_68     0\n",
       "F_69     0\n",
       "F_70     0\n",
       "F_71     0\n",
       "class    0\n",
       "Length: 73, dtype: int64"
      ]
     },
     "execution_count": 14,
     "metadata": {},
     "output_type": "execute_result"
    }
   ],
   "source": [
    "# there are no null values.\n",
    "test.isna().sum()"
   ]
  },
  {
   "cell_type": "code",
   "execution_count": 6,
   "metadata": {},
   "outputs": [
    {
     "data": {
      "text/html": [
       "<div>\n",
       "<style scoped>\n",
       "    .dataframe tbody tr th:only-of-type {\n",
       "        vertical-align: middle;\n",
       "    }\n",
       "\n",
       "    .dataframe tbody tr th {\n",
       "        vertical-align: top;\n",
       "    }\n",
       "\n",
       "    .dataframe thead th {\n",
       "        text-align: right;\n",
       "    }\n",
       "</style>\n",
       "<table border=\"1\" class=\"dataframe\">\n",
       "  <thead>\n",
       "    <tr style=\"text-align: right;\">\n",
       "      <th></th>\n",
       "      <th>F_0</th>\n",
       "      <th>F_1</th>\n",
       "      <th>F_2</th>\n",
       "      <th>F_3</th>\n",
       "      <th>F_4</th>\n",
       "      <th>F_5</th>\n",
       "      <th>F_6</th>\n",
       "      <th>F_7</th>\n",
       "      <th>F_8</th>\n",
       "      <th>F_9</th>\n",
       "      <th>...</th>\n",
       "      <th>F_63</th>\n",
       "      <th>F_64</th>\n",
       "      <th>F_65</th>\n",
       "      <th>F_66</th>\n",
       "      <th>F_67</th>\n",
       "      <th>F_68</th>\n",
       "      <th>F_69</th>\n",
       "      <th>F_70</th>\n",
       "      <th>F_71</th>\n",
       "      <th>class</th>\n",
       "    </tr>\n",
       "  </thead>\n",
       "  <tbody>\n",
       "    <tr>\n",
       "      <th>0</th>\n",
       "      <td>4.0</td>\n",
       "      <td>3.7</td>\n",
       "      <td>2.9</td>\n",
       "      <td>3.6</td>\n",
       "      <td>2.4</td>\n",
       "      <td>2.9</td>\n",
       "      <td>2.0</td>\n",
       "      <td>2.0</td>\n",
       "      <td>3.2</td>\n",
       "      <td>3.8</td>\n",
       "      <td>...</td>\n",
       "      <td>0.47</td>\n",
       "      <td>27.66</td>\n",
       "      <td>11.94</td>\n",
       "      <td>5605.0</td>\n",
       "      <td>10.70</td>\n",
       "      <td>31.95</td>\n",
       "      <td>10240.0</td>\n",
       "      <td>10.0</td>\n",
       "      <td>0.0</td>\n",
       "      <td>0.0</td>\n",
       "    </tr>\n",
       "    <tr>\n",
       "      <th>1</th>\n",
       "      <td>2.2</td>\n",
       "      <td>2.9</td>\n",
       "      <td>3.4</td>\n",
       "      <td>4.2</td>\n",
       "      <td>4.7</td>\n",
       "      <td>4.7</td>\n",
       "      <td>5.3</td>\n",
       "      <td>4.9</td>\n",
       "      <td>5.2</td>\n",
       "      <td>6.0</td>\n",
       "      <td>...</td>\n",
       "      <td>0.20</td>\n",
       "      <td>19.22</td>\n",
       "      <td>18.21</td>\n",
       "      <td>5515.0</td>\n",
       "      <td>-10.10</td>\n",
       "      <td>42.00</td>\n",
       "      <td>10065.0</td>\n",
       "      <td>25.0</td>\n",
       "      <td>0.0</td>\n",
       "      <td>0.0</td>\n",
       "    </tr>\n",
       "    <tr>\n",
       "      <th>2</th>\n",
       "      <td>2.7</td>\n",
       "      <td>2.2</td>\n",
       "      <td>2.3</td>\n",
       "      <td>2.5</td>\n",
       "      <td>2.6</td>\n",
       "      <td>2.9</td>\n",
       "      <td>3.2</td>\n",
       "      <td>2.9</td>\n",
       "      <td>3.6</td>\n",
       "      <td>4.2</td>\n",
       "      <td>...</td>\n",
       "      <td>0.10</td>\n",
       "      <td>14.22</td>\n",
       "      <td>-2.98</td>\n",
       "      <td>5690.0</td>\n",
       "      <td>0.70</td>\n",
       "      <td>32.70</td>\n",
       "      <td>10105.0</td>\n",
       "      <td>-55.0</td>\n",
       "      <td>0.0</td>\n",
       "      <td>0.0</td>\n",
       "    </tr>\n",
       "    <tr>\n",
       "      <th>3</th>\n",
       "      <td>1.5</td>\n",
       "      <td>1.3</td>\n",
       "      <td>1.8</td>\n",
       "      <td>1.4</td>\n",
       "      <td>1.2</td>\n",
       "      <td>1.7</td>\n",
       "      <td>1.6</td>\n",
       "      <td>1.4</td>\n",
       "      <td>1.6</td>\n",
       "      <td>3.0</td>\n",
       "      <td>...</td>\n",
       "      <td>0.54</td>\n",
       "      <td>13.07</td>\n",
       "      <td>9.15</td>\n",
       "      <td>5820.0</td>\n",
       "      <td>1.95</td>\n",
       "      <td>39.35</td>\n",
       "      <td>10220.0</td>\n",
       "      <td>-25.0</td>\n",
       "      <td>0.0</td>\n",
       "      <td>0.0</td>\n",
       "    </tr>\n",
       "    <tr>\n",
       "      <th>4</th>\n",
       "      <td>2.6</td>\n",
       "      <td>2.7</td>\n",
       "      <td>2.2</td>\n",
       "      <td>1.4</td>\n",
       "      <td>1.6</td>\n",
       "      <td>1.9</td>\n",
       "      <td>2.6</td>\n",
       "      <td>3.5</td>\n",
       "      <td>4.2</td>\n",
       "      <td>4.5</td>\n",
       "      <td>...</td>\n",
       "      <td>0.26</td>\n",
       "      <td>-1.52</td>\n",
       "      <td>-4.53</td>\n",
       "      <td>5910.0</td>\n",
       "      <td>27.70</td>\n",
       "      <td>43.70</td>\n",
       "      <td>10110.0</td>\n",
       "      <td>-30.0</td>\n",
       "      <td>0.0</td>\n",
       "      <td>0.0</td>\n",
       "    </tr>\n",
       "  </tbody>\n",
       "</table>\n",
       "<p>5 rows × 73 columns</p>\n",
       "</div>"
      ],
      "text/plain": [
       "   F_0  F_1  F_2  F_3  F_4  F_5  F_6  F_7  F_8  F_9  ...  F_63   F_64   F_65  \\\n",
       "0  4.0  3.7  2.9  3.6  2.4  2.9  2.0  2.0  3.2  3.8  ...  0.47  27.66  11.94   \n",
       "1  2.2  2.9  3.4  4.2  4.7  4.7  5.3  4.9  5.2  6.0  ...  0.20  19.22  18.21   \n",
       "2  2.7  2.2  2.3  2.5  2.6  2.9  3.2  2.9  3.6  4.2  ...  0.10  14.22  -2.98   \n",
       "3  1.5  1.3  1.8  1.4  1.2  1.7  1.6  1.4  1.6  3.0  ...  0.54  13.07   9.15   \n",
       "4  2.6  2.7  2.2  1.4  1.6  1.9  2.6  3.5  4.2  4.5  ...  0.26  -1.52  -4.53   \n",
       "\n",
       "     F_66   F_67   F_68     F_69  F_70  F_71  class  \n",
       "0  5605.0  10.70  31.95  10240.0  10.0   0.0    0.0  \n",
       "1  5515.0 -10.10  42.00  10065.0  25.0   0.0    0.0  \n",
       "2  5690.0   0.70  32.70  10105.0 -55.0   0.0    0.0  \n",
       "3  5820.0   1.95  39.35  10220.0 -25.0   0.0    0.0  \n",
       "4  5910.0  27.70  43.70  10110.0 -30.0   0.0    0.0  \n",
       "\n",
       "[5 rows x 73 columns]"
      ]
     },
     "execution_count": 6,
     "metadata": {},
     "output_type": "execute_result"
    }
   ],
   "source": [
    "test.head()"
   ]
  },
  {
   "cell_type": "code",
   "execution_count": 20,
   "metadata": {},
   "outputs": [],
   "source": [
    "# Define X and y\n",
    "X_train = train.drop('class', axis = 1).values\n",
    "X_test  = test.drop('class', axis = 1).values\n",
    "y_train = train['class'].values\n",
    "y_test  = test['class'].values"
   ]
  },
  {
   "cell_type": "code",
   "execution_count": 21,
   "metadata": {},
   "outputs": [
    {
     "name": "stdout",
     "output_type": "stream",
     "text": [
      "X train shape :  (1775, 72)\n",
      "X train type :  <class 'numpy.ndarray'>\n",
      "X test shape :  (761, 72)\n",
      "X test type :  <class 'numpy.ndarray'>\n",
      "y train shape :  (1775,)\n",
      "y train type :  <class 'numpy.ndarray'>\n",
      "y test shape :  (761,)\n",
      "y test type :  <class 'numpy.ndarray'>\n"
     ]
    }
   ],
   "source": [
    "# Print shape of X_train, X_test, y_train, y_test\n",
    "print(\"X train shape : \", X_train.shape)\n",
    "print(\"X train type : \", type(X_train))\n",
    "\n",
    "print(\"X test shape : \", X_test.shape)\n",
    "print(\"X test type : \", type(X_test))\n",
    "\n",
    "print(\"y train shape : \", y_train.shape)\n",
    "print(\"y train type : \", type(y_train))\n",
    "\n",
    "print(\"y test shape : \", y_test.shape)\n",
    "print(\"y test type : \", type(y_test))"
   ]
  },
  {
   "cell_type": "code",
   "execution_count": 22,
   "metadata": {},
   "outputs": [],
   "source": [
    "# Initialize the models\n",
    "# Classifier 1 - Logistic regression\n",
    "clf1 = LogisticRegression(class_weight = 'balanced')\n",
    "# Classifier 2 - Decision tree\n",
    "clf2 = DecisionTreeClassifier()"
   ]
  },
  {
   "cell_type": "code",
   "execution_count": 23,
   "metadata": {},
   "outputs": [
    {
     "data": {
      "text/plain": [
       "DecisionTreeClassifier()"
      ]
     },
     "execution_count": 23,
     "metadata": {},
     "output_type": "execute_result"
    }
   ],
   "source": [
    "# Train both the models on training dataset\n",
    "clf1.fit(X_train, y_train)\n",
    "\n",
    "clf2.fit(X_train, y_train)"
   ]
  },
  {
   "cell_type": "code",
   "execution_count": 24,
   "metadata": {},
   "outputs": [],
   "source": [
    "# Predict on testing data\n",
    "y_pred_lr = clf1.predict(X_test)\n",
    "y_pred_dt = clf2.predict(X_test)"
   ]
  },
  {
   "cell_type": "markdown",
   "metadata": {},
   "source": [
    "### Primary building blocks of classification metrics\n",
    "\n",
    "A __TRUE POSITIVE (TP)__ is an outcome where the model correctly predicts the positive class.\n",
    "\n",
    "A __TRUE NEGATIVE (TN)__ is an outcome where the model correctly predicts the negative class.\n",
    "\n",
    "A __FALSE POSITIVE (FP)__ is an outcome where the model incorrectly predicts the positive class.\n",
    "\n",
    "a __FALSE NEGATIVE (FN)__ is an outcome where the model incorrectly predicts the negative class."
   ]
  },
  {
   "cell_type": "code",
   "execution_count": 29,
   "metadata": {},
   "outputs": [
    {
     "name": "stdout",
     "output_type": "stream",
     "text": [
      "18 569 171 3\n"
     ]
    }
   ],
   "source": [
    "# Compute primary metrics for LOGISTIC REGRESSION \n",
    "# NOTE: All metrics are to be calculated on test dataset\n",
    "# True Positive\n",
    "lr_true_positive = np.sum((y_pred_lr == 1) & (y_test == 1))\n",
    "# True Negative\n",
    "lr_true_negative = np.sum((y_pred_lr == 0) & (y_test == 0))\n",
    "# False Positive\n",
    "lr_false_positive = np.sum((y_pred_lr == 1) & (y_test == 0))\n",
    "# False Negative\n",
    "lr_false_negative = np.sum((y_pred_lr == 0) & (y_test == 1))\n",
    "\n",
    "print(lr_true_positive, lr_true_negative, lr_false_positive, lr_false_negative)"
   ]
  },
  {
   "cell_type": "code",
   "execution_count": 28,
   "metadata": {},
   "outputs": [
    {
     "name": "stdout",
     "output_type": "stream",
     "text": [
      "18 569 171 3\n"
     ]
    }
   ],
   "source": [
    "# USING DIRECT FUNCTION.\n",
    "# Compute primary metrics for LOGISTIC REGRESSION\n",
    "# NOTE: All metrics are to be calculated on test dataset\n",
    "from sklearn.metrics import confusion_matrix\n",
    "tn, fp, fn, tp = confusion_matrix(y_test, y_pred_lr).ravel()\n",
    "# True Positive\n",
    "lr_true_positive = tp\n",
    "# True Negative\n",
    "lr_true_negative = tn\n",
    "# False Positive\n",
    "lr_false_positive = fp\n",
    "# False Negative\n",
    "lr_false_negative = fn\n",
    "\n",
    "print(tp, tn, fp, fn)"
   ]
  },
  {
   "cell_type": "code",
   "execution_count": 31,
   "metadata": {},
   "outputs": [
    {
     "data": {
      "text/plain": [
       "array([[569, 171],\n",
       "       [  3,  18]], dtype=int64)"
      ]
     },
     "execution_count": 31,
     "metadata": {},
     "output_type": "execute_result"
    }
   ],
   "source": [
    "confusion_matrix(y_test, y_pred_lr)"
   ]
  },
  {
   "cell_type": "code",
   "execution_count": 32,
   "metadata": {},
   "outputs": [
    {
     "name": "stdout",
     "output_type": "stream",
     "text": [
      "4 716 24 17\n"
     ]
    }
   ],
   "source": [
    "# Compute primary metrics for DECISION TREE \n",
    "# NOTE: All metrics are to be calculated on test dataset\n",
    "# True Positive\n",
    "dt_true_positive = np.sum((y_pred_dt == 1) & (y_test == 1))\n",
    "# True Negative\n",
    "dt_true_negative = np.sum((y_pred_dt == 0) & (y_test == 0))\n",
    "# False Positive\n",
    "dt_false_positive = np.sum((y_pred_dt == 1) & (y_test == 0))\n",
    "# False Negative\n",
    "dt_false_negative = np.sum((y_pred_dt == 0) & (y_test == 1))\n",
    "\n",
    "print(dt_true_positive, dt_true_negative, dt_false_positive, dt_false_negative)"
   ]
  },
  {
   "cell_type": "code",
   "execution_count": 33,
   "metadata": {},
   "outputs": [
    {
     "data": {
      "text/plain": [
       "array([[716,  24],\n",
       "       [ 17,   4]], dtype=int64)"
      ]
     },
     "execution_count": 33,
     "metadata": {},
     "output_type": "execute_result"
    }
   ],
   "source": [
    "confusion_matrix(y_test, y_pred_dt)"
   ]
  },
  {
   "cell_type": "markdown",
   "metadata": {},
   "source": [
    "### Confusion matrix\n",
    "A confusion matrix is visualization technique to summarize the basic performance of a classification algorithm.\n",
    "\n",
    "![Confusion matrix](https://static.packt-cdn.com/products/9781838555078/graphics/C13314_06_05.jpg \"Confusion matric diagram\")"
   ]
  },
  {
   "cell_type": "code",
   "execution_count": 34,
   "metadata": {},
   "outputs": [
    {
     "data": {
      "image/png": "[encoded data removed]",
      "text/plain": [
       "<Figure size 1800x576 with 4 Axes>"
      ]
     },
     "metadata": {
      "needs_background": "light"
     },
     "output_type": "display_data"
    }
   ],
   "source": [
    "# Plot confusion matrix, DO NOT EDIT THE CELL\n",
    "fig, axes = plt.subplots(nrows=1, ncols=2, figsize=(25,8))\n",
    "\n",
    "plt.title(\"Confusion matrix for logistic regression\")\n",
    "sns.heatmap(np.array([[lr_true_negative, lr_false_positive],[lr_false_negative, lr_true_positive]]), annot=True, cmap=plt.cm.Blues, fmt='g', ax=axes[0])\n",
    "plt.title(\"Confusion matrix for decision tree\")\n",
    "sns.heatmap(np.array([[dt_true_negative, dt_false_positive],[dt_false_negative, dt_true_positive]]), annot=True, cmap=plt.cm.Blues, fmt='g', ax=axes[1])\n",
    "\n",
    "plt.show()"
   ]
  },
  {
   "cell_type": "markdown",
   "metadata": {},
   "source": [
    "### Accuracy \n",
    "Classification accuracy is simply the rate of correct classifications\n",
    "$$Accuracy = \\frac{Number \\, of \\, correct \\, predictions}{Total \\, number \\, of \\, predictions}$$\n",
    "<br>\n",
    "$$Accuracy = \\frac{TP + TN}{TP + TN + FP + FN}$$"
   ]
  },
  {
   "cell_type": "code",
   "execution_count": 35,
   "metadata": {},
   "outputs": [],
   "source": [
    "# Classification accuracy for logistic regression\n",
    "lr_accuracy = (lr_true_positive + lr_true_negative) / (lr_true_positive + lr_true_negative + lr_false_positive + lr_false_negative)\n",
    "# Classification accuracy for decision tree\n",
    "dt_accuracy = (dt_true_positive + dt_true_negative) / (dt_true_positive + dt_true_negative + dt_false_positive + dt_false_negative)"
   ]
  },
  {
   "cell_type": "code",
   "execution_count": 36,
   "metadata": {},
   "outputs": [
    {
     "name": "stdout",
     "output_type": "stream",
     "text": [
      "Classificaton accuracy: LR =  0.771353482260184\n",
      "Classificaton accuracy: DT =  0.9461235216819974\n"
     ]
    }
   ],
   "source": [
    "print(\"Classificaton accuracy: LR = \" , lr_accuracy)\n",
    "print(\"Classificaton accuracy: DT = \" , dt_accuracy)"
   ]
  },
  {
   "cell_type": "code",
   "execution_count": 37,
   "metadata": {},
   "outputs": [
    {
     "name": "stdout",
     "output_type": "stream",
     "text": [
      "Classificaton accuracy: LR =  0.771353482260184\n",
      "Classificaton accuracy: DT =  0.9461235216819974\n"
     ]
    }
   ],
   "source": [
    "# for confirmation\n",
    "from sklearn.metrics import accuracy_score\n",
    "print(\"Classificaton accuracy: LR = \" , accuracy_score(y_test, y_pred_lr))\n",
    "print(\"Classificaton accuracy: DT = \" , accuracy_score(y_test, y_pred_dt))"
   ]
  },
  {
   "cell_type": "markdown",
   "metadata": {},
   "source": [
    "### Precision\n",
    "What proportion of positive identifications was actually correct?\n",
    "$$Precision = \\frac{TP}{TP+FP}$$"
   ]
  },
  {
   "cell_type": "code",
   "execution_count": 38,
   "metadata": {},
   "outputs": [],
   "source": [
    "# Precision for logistic regression\n",
    "try:\n",
    "    lr_precision = lr_true_positive / (lr_true_positive + lr_false_positive)\n",
    "except:\n",
    "    lr_precision = 0\n",
    "    print(\"If you see this message, it means that the\\ndenominator of precision for logistic regression turned out to be 0 \")\n",
    "# Precision for decision tree\n",
    "try:\n",
    "    dt_precision = dt_true_positive / (dt_true_positive + dt_false_positive) \n",
    "except:\n",
    "    dt_precision = 0\n",
    "    print(\"If you see this message, it means that the\\ndenominator of precision for decision tree turned out to be 0 \")"
   ]
  },
  {
   "cell_type": "code",
   "execution_count": 39,
   "metadata": {},
   "outputs": [
    {
     "name": "stdout",
     "output_type": "stream",
     "text": [
      "Precision: LR =  0.09523809523809523\n",
      "Precision: DT =  0.14285714285714285\n"
     ]
    }
   ],
   "source": [
    "print(\"Precision: LR = \" , lr_precision)\n",
    "print(\"Precision: DT = \" , dt_precision)"
   ]
  },
  {
   "cell_type": "markdown",
   "metadata": {},
   "source": [
    "### Recall\n",
    "What proportion of actual positives was identified correctly?\n",
    "$$Recall = \\frac{TP}{TP+FN}$$"
   ]
  },
  {
   "cell_type": "code",
   "execution_count": 42,
   "metadata": {},
   "outputs": [],
   "source": [
    "# Recall for logistic regression\n",
    "try:\n",
    "    lr_recall = lr_true_positive / (lr_true_positive + lr_false_negative)\n",
    "except:\n",
    "    lr_recall = 0\n",
    "    print(\"If you see this message, it means that the\\ndenominator of recall for logistic regression turned out to be 0 \")\n",
    "# Recall for decision tree\n",
    "try:\n",
    "    dt_recall = dt_true_positive / (dt_true_positive + dt_false_negative)\n",
    "except:\n",
    "    dt_recall = 0\n",
    "    print(\"If you see this message, it means that the\\ndenominator of recall for decision tree turned out to be 0 \")"
   ]
  },
  {
   "cell_type": "code",
   "execution_count": 43,
   "metadata": {},
   "outputs": [
    {
     "name": "stdout",
     "output_type": "stream",
     "text": [
      "Recall: LR =  0.8571428571428571\n",
      "Recall: DT =  0.19047619047619047\n"
     ]
    }
   ],
   "source": [
    "print(\"Recall: LR = \" , lr_recall)\n",
    "print(\"Recall: DT = \" , dt_recall)"
   ]
  },
  {
   "cell_type": "markdown",
   "metadata": {},
   "source": [
    "### F1 score\n",
    "The F1 score can be interpreted as a weighted average of the precision and recall, where an F1 score reaches its best value at 1 and worst score at 0. The relative contribution of precision and recall to the F1 score are equal.\n",
    "$$ F1 \\, score = \\frac{2* Precision * Recall}{Precision + Recall}$$"
   ]
  },
  {
   "cell_type": "code",
   "execution_count": 44,
   "metadata": {},
   "outputs": [],
   "source": [
    "# F1 score for logistic regression\n",
    "lr_f1_score = (2 * lr_precision * lr_recall) / (lr_precision + lr_recall)\n",
    "# F1 score for decision tree\n",
    "dt_f1_score = (2 * dt_precision * dt_recall) / (dt_precision + dt_recall)"
   ]
  },
  {
   "cell_type": "code",
   "execution_count": 45,
   "metadata": {},
   "outputs": [
    {
     "name": "stdout",
     "output_type": "stream",
     "text": [
      "F1 score: LR =  0.17142857142857143\n",
      "F1 score: DT =  0.16326530612244897\n"
     ]
    }
   ],
   "source": [
    "print(\"F1 score: LR = \" , lr_f1_score)\n",
    "print(\"F1 score: DT = \" , dt_f1_score)"
   ]
  },
  {
   "cell_type": "markdown",
   "metadata": {},
   "source": [
    "### Area Under ROC Curve\n",
    "A ROC Curve is a plot of the true positive rate and the false positive rate for a given set of probability predictions at different thresholds used to map the probabilities to class labels. The area under the curve is then the approximate integral under the ROC Curve."
   ]
  },
  {
   "cell_type": "code",
   "execution_count": 60,
   "metadata": {},
   "outputs": [
    {
     "name": "stdout",
     "output_type": "stream",
     "text": [
      "lr_false_positive_rate =  0.23108108108108108\n",
      "lr_true_positive_rate =  0.8571428571428571\n",
      "dt_false_positive_rate =  0.032432432432432434\n",
      "dt_true_positive_rate =  0.19047619047619047\n"
     ]
    }
   ],
   "source": [
    "# False positive rate for logisitic regression\n",
    "lr_false_positive_rate = lr_false_positive / (lr_false_positive + lr_true_negative)\n",
    "print(\"lr_false_positive_rate = \", lr_false_positive_rate)\n",
    "# True positive rate for logisitic regression\n",
    "lr_true_positive_rate = lr_true_positive / (lr_true_positive + lr_false_negative)\n",
    "print(\"lr_true_positive_rate = \", lr_true_positive_rate)\n",
    "# False positive rate for decision trees\n",
    "dt_false_positive_rate = dt_false_positive / (dt_false_positive + dt_true_negative)\n",
    "print(\"dt_false_positive_rate = \", dt_false_positive_rate)\n",
    "# True positive rate for decision trees\n",
    "dt_true_positive_rate = dt_true_positive / (dt_true_positive + dt_false_negative)\n",
    "print(\"dt_true_positive_rate = \", dt_true_positive_rate)"
   ]
  },
  {
   "cell_type": "code",
   "execution_count": 61,
   "metadata": {},
   "outputs": [],
   "source": [
    "# TODO: Plot the ROC curve\n",
    "\n",
    "from sklearn.metrics import roc_curve\n",
    "lr_fpr, lr_tpr, thresh1 = roc_curve(y_test, y_pred_lr)\n",
    "dt_fpr, dt_tpr, thresh2 = roc_curve(y_test, y_pred_dt)"
   ]
  },
  {
   "cell_type": "code",
   "execution_count": 64,
   "metadata": {},
   "outputs": [
    {
     "data": {
      "text/plain": [
       "Text(0.5, 1.0, 'ROC Curve')"
      ]
     },
     "execution_count": 64,
     "metadata": {},
     "output_type": "execute_result"
    },
    {
     "data": {
      "image/png": "[encoded data removed]",
      "text/plain": [
       "<Figure size 432x288 with 1 Axes>"
      ]
     },
     "metadata": {
      "needs_background": "light"
     },
     "output_type": "display_data"
    }
   ],
   "source": [
    "plt.plot(lr_fpr, lr_tpr, label = 'Logestic Reg')\n",
    "plt.plot(dt_fpr, dt_tpr, label = 'Decision Tree')\n",
    "plt.plot([0, 1], [0, 1],'r--')\n",
    "plt.legend(loc = 'lower right')\n",
    "plt.xlabel('FPR')\n",
    "plt.ylabel('TPR')\n",
    "plt.title('ROC Curve')"
   ]
  },
  {
   "cell_type": "code",
   "execution_count": null,
   "metadata": {},
   "outputs": [],
   "source": []
  }
 ],
 "metadata": {
  "kernelspec": {
   "display_name": "Python 3",
   "language": "python",
   "name": "python3"
  },
  "language_info": {
   "codemirror_mode": {
    "name": "ipython",
    "version": 3
   },
   "file_extension": ".py",
   "mimetype": "text/x-python",
   "name": "python",
   "nbconvert_exporter": "python",
   "pygments_lexer": "ipython3",
   "version": "3.8.3"
  },
  "toc": {
   "base_numbering": 1,
   "nav_menu": {},
   "number_sections": true,
   "sideBar": true,
   "skip_h1_title": false,
   "title_cell": "Table of Contents",
   "title_sidebar": "Contents",
   "toc_cell": false,
   "toc_position": {},
   "toc_section_display": true,
   "toc_window_display": false
  }
 },
 "nbformat": 4,
 "nbformat_minor": 4
}
