{
 "cells": [
  {
   "cell_type": "markdown",
   "metadata": {},
   "source": [
    "## Predicting Customer response to Personal Loan Ad-Campaign"
   ]
  },
  {
   "cell_type": "markdown",
   "metadata": {},
   "source": [
    "#### Dataset\n",
    "The dataset is available at <strong>\"data/personal_loan.csv\"</strong> in the respective challenge's repo.<br>\n",
    "Original Dataset : https://www.kaggle.com/itsmesunil/bank-loan-modelling\n",
    "\n",
    "#### Features (X)\n",
    "1. Age - Customer's age in completed years. (Numeric)\n",
    "2. Experience - No. of years of professional experience (Numeric)\n",
    "3. Income - Annual income of the customer. (Numeric)\n",
    "4. ZIPCode - Home Address ZIP code. (Numeric)\n",
    "5. Family - Family size of the customer. (Numeric)\n",
    "6. CCAvg Avg. - Spending on credit cards per month (Numeric)\n",
    "7. Education  - \n",
    "    - Education Level (Categorical|Multiclass):\n",
    "        - 1: Undergrad\n",
    "        - 2: Graduate\n",
    "        - 3: Advanced/Professional \n",
    "8. Mortgage - Value of house mortgage if any. (Numeric)\n",
    "9. Securities Account - Does the customer have a securities account with the bank? (Categorical | Binary)\n",
    "10. CD Account - Does the customer have a certificate of deposit (CD) account with the bank? (Categorical | Binary)\n",
    "11. Online - Does the customer use internet banking facilities? (Categorical | Binary)\n",
    "12. CreditCard - Does the customer uses a credit card issued by UniversalBank? (Categorical | Binary)\n",
    "\n",
    "#### Target (y)\n",
    "- Personal Loan : Did this customer accept the personal loan offered in the last campaign? (Binary)\n",
    "\n",
    "#### Objective\n",
    "- To apply Logistic Regression and Decision Tree Algorithms on the given imbalanced dataset. and compare the algorithms used on our dataset on the basis of appropriately used evaluated metrics while presenting a summarized analysis of what you find.\n",
    "\n",
    "#### Tasks\n",
    "- Download and load the data (csv file).\n",
    "- Process the data according to guidelines given in the comments of the respective cells.\n",
    "- Split the dataset into 80% for training and rest 20% for testing. (sklearn.model_selection.train_test_split function).\n",
    "- Initialize Logistic Regression and Decision Tree Models (With parameters given in the cell).\n",
    "- Train the models on the same dataset.\n",
    "- Compute the confusion matrix for both models and compare.\n",
    "- Compute a classification report (Precision, Recall and F-1 score) for both models and compare. \n",
    "- Compute and plot the ROC Curve of both curves and simultaneously compute the ROC-AUC for both models and thereby compare.\n",
    "- Summarize your findings and give reasoning for your results (comparing task_1 and task_2).\n",
    "\n",
    "#### Further Fun (will not be evaluated)\n",
    "- Train model on different train-test splits such as 60-40, 50-50, 70-30, 80-20, 90-10, 95-5 etc. and observe accuracies on both X_train and X_test.\n",
    "- Shuffle training samples with different random seed values in the train_test_split function. Check the model error for the testing data for each setup.\n",
    "- Explore ways to deal with imbalanced dataset. Use different methods (such as eliminating outliers and such) to experiment with the given dataset.\n",
    "\n",
    "#### Helpful links\n",
    "- pd.get_dummies() and One Hot Encoding: https://queirozf.com/entries/one-hot-encoding-a-feature-on-a-pandas-dataframe-an-example\n",
    "- Differences between Logistic Regression and a Decision Tree: https://www.geeksforgeeks.org/ml-logistic-regression-v-s-decision-tree-classification/\n",
    "- When are Decision Trees better than Logistic Regression?: https://www.displayr.com/decision-trees-are-usually-better-than-logistic-regression\n",
    "- How to choose between Logistic Regression and Decision Trees given a dataset: https://datascience.stackexchange.com/questions/6048/should-i-use-a-decision-tree-or-logistic-regression-for-classification\n",
    "- Decision Tree Classifier by Sklearn: https://scikit-learn.org/stable/modules/generated/sklearn.tree.DecisionTreeClassifier.html\n",
    "- Understanding classification metrics like Precision, Recall, F-Scores and Confusion matrices: https://nillsf.com/index.php/2020/05/23/confusion-matrix-accuracy-recall-precision-false-positive-rate-and-f-scores-explained/\n",
    "- Understanding the ROC Curve: https://developers.google.com/machine-learning/crash-course/classification/roc-and-auc\n",
    "- Use slack for doubts: https://join.slack.com/t/deepconnectai/shared_invite/zt-givlfnf6-~cn3SQ43k0BGDrG9_YOn4g\n"
   ]
  },
  {
   "cell_type": "code",
   "execution_count": 1,
   "metadata": {},
   "outputs": [],
   "source": [
    "# Importing necessary libraries\n",
    "import pandas as pd\n",
    "import numpy as np\n",
    "import matplotlib.pyplot as plt\n",
    "from sklearn.preprocessing import LabelEncoder\n",
    "from sklearn.preprocessing import MinMaxScaler, StandardScaler\n",
    "from sklearn.model_selection import train_test_split\n",
    "from sklearn.linear_model import LogisticRegression\n",
    "from sklearn.tree import DecisionTreeClassifier\n",
    "from sklearn.metrics import f1_score, precision_score, recall_score\n",
    "from sklearn.metrics import accuracy_score, confusion_matrix, classification_report\n",
    "from sklearn.metrics import roc_curve, roc_auc_score"
   ]
  },
  {
   "cell_type": "code",
   "execution_count": 18,
   "metadata": {},
   "outputs": [],
   "source": [
    "# Read the data from local cloud directory\n",
    "data = pd.read_csv('data/personal_loan.csv')"
   ]
  },
  {
   "cell_type": "code",
   "execution_count": 19,
   "metadata": {},
   "outputs": [
    {
     "data": {
      "text/html": [
       "<div>\n",
       "<style scoped>\n",
       "    .dataframe tbody tr th:only-of-type {\n",
       "        vertical-align: middle;\n",
       "    }\n",
       "\n",
       "    .dataframe tbody tr th {\n",
       "        vertical-align: top;\n",
       "    }\n",
       "\n",
       "    .dataframe thead th {\n",
       "        text-align: right;\n",
       "    }\n",
       "</style>\n",
       "<table border=\"1\" class=\"dataframe\">\n",
       "  <thead>\n",
       "    <tr style=\"text-align: right;\">\n",
       "      <th></th>\n",
       "      <th>Age</th>\n",
       "      <th>Experience</th>\n",
       "      <th>Income</th>\n",
       "      <th>ZIP Code</th>\n",
       "      <th>Family</th>\n",
       "      <th>CCAvg</th>\n",
       "      <th>Education</th>\n",
       "      <th>Mortgage</th>\n",
       "      <th>CreditCard</th>\n",
       "      <th>Securities Account</th>\n",
       "      <th>CD Account</th>\n",
       "      <th>Online</th>\n",
       "      <th>Personal Loan</th>\n",
       "    </tr>\n",
       "  </thead>\n",
       "  <tbody>\n",
       "    <tr>\n",
       "      <th>0</th>\n",
       "      <td>25</td>\n",
       "      <td>1</td>\n",
       "      <td>49</td>\n",
       "      <td>91107</td>\n",
       "      <td>4</td>\n",
       "      <td>1.6</td>\n",
       "      <td>1</td>\n",
       "      <td>0</td>\n",
       "      <td>0</td>\n",
       "      <td>1</td>\n",
       "      <td>0</td>\n",
       "      <td>0</td>\n",
       "      <td>0</td>\n",
       "    </tr>\n",
       "    <tr>\n",
       "      <th>1</th>\n",
       "      <td>45</td>\n",
       "      <td>19</td>\n",
       "      <td>34</td>\n",
       "      <td>90089</td>\n",
       "      <td>3</td>\n",
       "      <td>1.5</td>\n",
       "      <td>1</td>\n",
       "      <td>0</td>\n",
       "      <td>0</td>\n",
       "      <td>1</td>\n",
       "      <td>0</td>\n",
       "      <td>0</td>\n",
       "      <td>0</td>\n",
       "    </tr>\n",
       "    <tr>\n",
       "      <th>2</th>\n",
       "      <td>39</td>\n",
       "      <td>15</td>\n",
       "      <td>11</td>\n",
       "      <td>94720</td>\n",
       "      <td>1</td>\n",
       "      <td>1.0</td>\n",
       "      <td>1</td>\n",
       "      <td>0</td>\n",
       "      <td>0</td>\n",
       "      <td>0</td>\n",
       "      <td>0</td>\n",
       "      <td>0</td>\n",
       "      <td>0</td>\n",
       "    </tr>\n",
       "    <tr>\n",
       "      <th>3</th>\n",
       "      <td>35</td>\n",
       "      <td>9</td>\n",
       "      <td>100</td>\n",
       "      <td>94112</td>\n",
       "      <td>1</td>\n",
       "      <td>2.7</td>\n",
       "      <td>2</td>\n",
       "      <td>0</td>\n",
       "      <td>0</td>\n",
       "      <td>0</td>\n",
       "      <td>0</td>\n",
       "      <td>0</td>\n",
       "      <td>0</td>\n",
       "    </tr>\n",
       "    <tr>\n",
       "      <th>4</th>\n",
       "      <td>35</td>\n",
       "      <td>8</td>\n",
       "      <td>45</td>\n",
       "      <td>91330</td>\n",
       "      <td>4</td>\n",
       "      <td>1.0</td>\n",
       "      <td>2</td>\n",
       "      <td>0</td>\n",
       "      <td>1</td>\n",
       "      <td>0</td>\n",
       "      <td>0</td>\n",
       "      <td>0</td>\n",
       "      <td>0</td>\n",
       "    </tr>\n",
       "  </tbody>\n",
       "</table>\n",
       "</div>"
      ],
      "text/plain": [
       "   Age  Experience  Income  ZIP Code  Family  CCAvg  Education  Mortgage  \\\n",
       "0   25           1      49     91107       4    1.6          1         0   \n",
       "1   45          19      34     90089       3    1.5          1         0   \n",
       "2   39          15      11     94720       1    1.0          1         0   \n",
       "3   35           9     100     94112       1    2.7          2         0   \n",
       "4   35           8      45     91330       4    1.0          2         0   \n",
       "\n",
       "   CreditCard  Securities Account  CD Account  Online  Personal Loan  \n",
       "0           0                   1           0       0              0  \n",
       "1           0                   1           0       0              0  \n",
       "2           0                   0           0       0              0  \n",
       "3           0                   0           0       0              0  \n",
       "4           1                   0           0       0              0  "
      ]
     },
     "execution_count": 19,
     "metadata": {},
     "output_type": "execute_result"
    }
   ],
   "source": [
    "# Print the dataframe rows just to see some samples\n",
    "cols = list(data.columns)\n",
    "data.head()"
   ]
  },
  {
   "cell_type": "code",
   "execution_count": 4,
   "metadata": {},
   "outputs": [
    {
     "data": {
      "text/plain": [
       "(5000, 13)"
      ]
     },
     "execution_count": 4,
     "metadata": {},
     "output_type": "execute_result"
    }
   ],
   "source": [
    "# Print shape of the dataframe\n",
    "data.shape"
   ]
  },
  {
   "cell_type": "code",
   "execution_count": 5,
   "metadata": {},
   "outputs": [
    {
     "name": "stdout",
     "output_type": "stream",
     "text": [
      "0    4520\n",
      "1     480\n",
      "Name: Personal Loan, dtype: int64\n"
     ]
    }
   ],
   "source": [
    "# Take a look at the distribution of target variable (Below is an example of what we mean)\n",
    "print(data['Personal Loan'].value_counts())"
   ]
  },
  {
   "cell_type": "markdown",
   "metadata": {},
   "source": [
    "### This is an imbalanced dataset, as shown above"
   ]
  },
  {
   "cell_type": "code",
   "execution_count": 6,
   "metadata": {},
   "outputs": [
    {
     "name": "stdout",
     "output_type": "stream",
     "text": [
      "<class 'pandas.core.frame.DataFrame'>\n",
      "RangeIndex: 5000 entries, 0 to 4999\n",
      "Data columns (total 13 columns):\n",
      " #   Column              Non-Null Count  Dtype  \n",
      "---  ------              --------------  -----  \n",
      " 0   Age                 5000 non-null   int64  \n",
      " 1   Experience          5000 non-null   int64  \n",
      " 2   Income              5000 non-null   int64  \n",
      " 3   ZIP Code            5000 non-null   int64  \n",
      " 4   Family              5000 non-null   int64  \n",
      " 5   CCAvg               5000 non-null   float64\n",
      " 6   Education           5000 non-null   int64  \n",
      " 7   Mortgage            5000 non-null   int64  \n",
      " 8   CreditCard          5000 non-null   int64  \n",
      " 9   Securities Account  5000 non-null   int64  \n",
      " 10  CD Account          5000 non-null   int64  \n",
      " 11  Online              5000 non-null   int64  \n",
      " 12  Personal Loan       5000 non-null   int64  \n",
      "dtypes: float64(1), int64(12)\n",
      "memory usage: 507.9 KB\n",
      "None\n"
     ]
    }
   ],
   "source": [
    "# Print info about dataset\n",
    "print(data.info())"
   ]
  },
  {
   "cell_type": "code",
   "execution_count": 7,
   "metadata": {},
   "outputs": [
    {
     "data": {
      "text/plain": [
       "Age                   0\n",
       "Experience            0\n",
       "Income                0\n",
       "ZIP Code              0\n",
       "Family                0\n",
       "CCAvg                 0\n",
       "Education             0\n",
       "Mortgage              0\n",
       "CreditCard            0\n",
       "Securities Account    0\n",
       "CD Account            0\n",
       "Online                0\n",
       "Personal Loan         0\n",
       "dtype: int64"
      ]
     },
     "execution_count": 7,
     "metadata": {},
     "output_type": "execute_result"
    }
   ],
   "source": [
    "# Fill Missing Values (if any)\n",
    "data.isna().sum()\n",
    "# we can observe there are no missing values."
   ]
  },
  {
   "cell_type": "code",
   "execution_count": 14,
   "metadata": {},
   "outputs": [
    {
     "data": {
      "text/plain": [
       "Index([], dtype='object')"
      ]
     },
     "execution_count": 14,
     "metadata": {},
     "output_type": "execute_result"
    }
   ],
   "source": [
    "# Label Encode Categorical Columns (if required)\n",
    "data.select_dtypes(exclude = ['number']).columns\n",
    "# we can observe that there are no categorical columns"
   ]
  },
  {
   "cell_type": "code",
   "execution_count": 20,
   "metadata": {},
   "outputs": [
    {
     "data": {
      "text/html": [
       "<div>\n",
       "<style scoped>\n",
       "    .dataframe tbody tr th:only-of-type {\n",
       "        vertical-align: middle;\n",
       "    }\n",
       "\n",
       "    .dataframe tbody tr th {\n",
       "        vertical-align: top;\n",
       "    }\n",
       "\n",
       "    .dataframe thead th {\n",
       "        text-align: right;\n",
       "    }\n",
       "</style>\n",
       "<table border=\"1\" class=\"dataframe\">\n",
       "  <thead>\n",
       "    <tr style=\"text-align: right;\">\n",
       "      <th></th>\n",
       "      <th>Age</th>\n",
       "      <th>Experience</th>\n",
       "      <th>Income</th>\n",
       "      <th>ZIP Code</th>\n",
       "      <th>Family</th>\n",
       "      <th>CCAvg</th>\n",
       "      <th>Education</th>\n",
       "      <th>Mortgage</th>\n",
       "      <th>CreditCard</th>\n",
       "      <th>Securities Account</th>\n",
       "      <th>CD Account</th>\n",
       "      <th>Online</th>\n",
       "      <th>Personal Loan</th>\n",
       "    </tr>\n",
       "  </thead>\n",
       "  <tbody>\n",
       "    <tr>\n",
       "      <th>0</th>\n",
       "      <td>0.045455</td>\n",
       "      <td>0.086957</td>\n",
       "      <td>0.189815</td>\n",
       "      <td>0.936527</td>\n",
       "      <td>1.000000</td>\n",
       "      <td>0.16</td>\n",
       "      <td>0.0</td>\n",
       "      <td>0.0</td>\n",
       "      <td>0.0</td>\n",
       "      <td>1.0</td>\n",
       "      <td>0.0</td>\n",
       "      <td>0.0</td>\n",
       "      <td>0.0</td>\n",
       "    </tr>\n",
       "    <tr>\n",
       "      <th>1</th>\n",
       "      <td>0.500000</td>\n",
       "      <td>0.478261</td>\n",
       "      <td>0.120370</td>\n",
       "      <td>0.924872</td>\n",
       "      <td>0.666667</td>\n",
       "      <td>0.15</td>\n",
       "      <td>0.0</td>\n",
       "      <td>0.0</td>\n",
       "      <td>0.0</td>\n",
       "      <td>1.0</td>\n",
       "      <td>0.0</td>\n",
       "      <td>0.0</td>\n",
       "      <td>0.0</td>\n",
       "    </tr>\n",
       "    <tr>\n",
       "      <th>2</th>\n",
       "      <td>0.363636</td>\n",
       "      <td>0.391304</td>\n",
       "      <td>0.013889</td>\n",
       "      <td>0.977892</td>\n",
       "      <td>0.000000</td>\n",
       "      <td>0.10</td>\n",
       "      <td>0.0</td>\n",
       "      <td>0.0</td>\n",
       "      <td>0.0</td>\n",
       "      <td>0.0</td>\n",
       "      <td>0.0</td>\n",
       "      <td>0.0</td>\n",
       "      <td>0.0</td>\n",
       "    </tr>\n",
       "    <tr>\n",
       "      <th>3</th>\n",
       "      <td>0.272727</td>\n",
       "      <td>0.260870</td>\n",
       "      <td>0.425926</td>\n",
       "      <td>0.970931</td>\n",
       "      <td>0.000000</td>\n",
       "      <td>0.27</td>\n",
       "      <td>0.5</td>\n",
       "      <td>0.0</td>\n",
       "      <td>0.0</td>\n",
       "      <td>0.0</td>\n",
       "      <td>0.0</td>\n",
       "      <td>0.0</td>\n",
       "      <td>0.0</td>\n",
       "    </tr>\n",
       "    <tr>\n",
       "      <th>4</th>\n",
       "      <td>0.272727</td>\n",
       "      <td>0.239130</td>\n",
       "      <td>0.171296</td>\n",
       "      <td>0.939080</td>\n",
       "      <td>1.000000</td>\n",
       "      <td>0.10</td>\n",
       "      <td>0.5</td>\n",
       "      <td>0.0</td>\n",
       "      <td>1.0</td>\n",
       "      <td>0.0</td>\n",
       "      <td>0.0</td>\n",
       "      <td>0.0</td>\n",
       "      <td>0.0</td>\n",
       "    </tr>\n",
       "  </tbody>\n",
       "</table>\n",
       "</div>"
      ],
      "text/plain": [
       "        Age  Experience    Income  ZIP Code    Family  CCAvg  Education  \\\n",
       "0  0.045455    0.086957  0.189815  0.936527  1.000000   0.16        0.0   \n",
       "1  0.500000    0.478261  0.120370  0.924872  0.666667   0.15        0.0   \n",
       "2  0.363636    0.391304  0.013889  0.977892  0.000000   0.10        0.0   \n",
       "3  0.272727    0.260870  0.425926  0.970931  0.000000   0.27        0.5   \n",
       "4  0.272727    0.239130  0.171296  0.939080  1.000000   0.10        0.5   \n",
       "\n",
       "   Mortgage  CreditCard  Securities Account  CD Account  Online  Personal Loan  \n",
       "0       0.0         0.0                 1.0         0.0     0.0            0.0  \n",
       "1       0.0         0.0                 1.0         0.0     0.0            0.0  \n",
       "2       0.0         0.0                 0.0         0.0     0.0            0.0  \n",
       "3       0.0         0.0                 0.0         0.0     0.0            0.0  \n",
       "4       0.0         1.0                 0.0         0.0     0.0            0.0  "
      ]
     },
     "execution_count": 20,
     "metadata": {},
     "output_type": "execute_result"
    }
   ],
   "source": [
    "# Normalize/Standardize numerical columns\n",
    "from sklearn.preprocessing import MinMaxScaler\n",
    "\n",
    "scaler = MinMaxScaler()\n",
    "data = scaler.fit_transform(data)\n",
    "data = pd.DataFrame(data, columns = cols)\n",
    "data.head()"
   ]
  },
  {
   "cell_type": "code",
   "execution_count": 21,
   "metadata": {},
   "outputs": [],
   "source": [
    "# Define Feature Columns as X and Target Column as y\n",
    "X = data.drop('Personal Loan', axis = 1).values\n",
    "y = data['Personal Loan'].values"
   ]
  },
  {
   "cell_type": "code",
   "execution_count": 23,
   "metadata": {},
   "outputs": [
    {
     "name": "stdout",
     "output_type": "stream",
     "text": [
      "(5000, 12)\n",
      "(5000,)\n"
     ]
    }
   ],
   "source": [
    "print(X.shape)\n",
    "print(y.shape)"
   ]
  },
  {
   "cell_type": "code",
   "execution_count": 24,
   "metadata": {},
   "outputs": [],
   "source": [
    "# Do train-test split\n",
    "X_train, X_test, y_train, y_test = train_test_split(X, y, test_size=0.20, random_state=42)"
   ]
  },
  {
   "cell_type": "code",
   "execution_count": 25,
   "metadata": {},
   "outputs": [
    {
     "name": "stdout",
     "output_type": "stream",
     "text": [
      "(4000, 12)\n",
      "(4000,)\n",
      "(1000, 12)\n",
      "(1000,)\n"
     ]
    }
   ],
   "source": [
    "print(X_train.shape)\n",
    "print(y_train.shape)\n",
    "\n",
    "print(X_test.shape)\n",
    "print(y_test.shape)"
   ]
  },
  {
   "cell_type": "markdown",
   "metadata": {},
   "source": [
    "### Logistic Regression Model"
   ]
  },
  {
   "cell_type": "code",
   "execution_count": 26,
   "metadata": {},
   "outputs": [],
   "source": [
    "# Initializing the model\n",
    "log_reg = LogisticRegression()"
   ]
  },
  {
   "cell_type": "code",
   "execution_count": 27,
   "metadata": {},
   "outputs": [
    {
     "data": {
      "text/plain": [
       "LogisticRegression()"
      ]
     },
     "execution_count": 27,
     "metadata": {},
     "output_type": "execute_result"
    }
   ],
   "source": [
    "# Train the model\n",
    "log_reg.fit(X_train, y_train)"
   ]
  },
  {
   "cell_type": "code",
   "execution_count": 29,
   "metadata": {},
   "outputs": [],
   "source": [
    "# Make Predictions on the test data (log_prob values represents raw probabilities of predictions)\n",
    "# It will be used for ROC Curves\n",
    "log_pred = log_reg.predict(X_test)\n",
    "log_prob = log_reg.predict_proba(X_test)"
   ]
  },
  {
   "cell_type": "code",
   "execution_count": 36,
   "metadata": {},
   "outputs": [
    {
     "name": "stdout",
     "output_type": "stream",
     "text": [
      "0.0\n",
      "[9.99252415e-01 7.47584847e-04]\n",
      "0.0\n",
      "[0.99759365 0.00240635]\n"
     ]
    }
   ],
   "source": [
    "print(log_pred[0])\n",
    "print(log_prob[0])\n",
    "\n",
    "print(log_pred[-1])\n",
    "print(log_prob[-1])"
   ]
  },
  {
   "cell_type": "markdown",
   "metadata": {},
   "source": [
    "### Decision Tree Model"
   ]
  },
  {
   "cell_type": "code",
   "execution_count": 37,
   "metadata": {},
   "outputs": [],
   "source": [
    "# Initializing the model\n",
    "d_tree = DecisionTreeClassifier()"
   ]
  },
  {
   "cell_type": "code",
   "execution_count": 38,
   "metadata": {},
   "outputs": [
    {
     "data": {
      "text/plain": [
       "DecisionTreeClassifier()"
      ]
     },
     "execution_count": 38,
     "metadata": {},
     "output_type": "execute_result"
    }
   ],
   "source": [
    "# Train the model\n",
    "d_tree.fit(X_train, y_train)"
   ]
  },
  {
   "cell_type": "code",
   "execution_count": 39,
   "metadata": {},
   "outputs": [],
   "source": [
    "# Make Predictions on the test data (dt_prob values represents raw probabilities of predictions)\n",
    "# It will be used for ROC Curves\n",
    "dt_pred = d_tree.predict(X_test)\n",
    "dt_prob = d_tree.predict_proba(X_test)"
   ]
  },
  {
   "cell_type": "markdown",
   "metadata": {},
   "source": [
    "## Evaluating Our Models"
   ]
  },
  {
   "cell_type": "code",
   "execution_count": 40,
   "metadata": {},
   "outputs": [
    {
     "name": "stdout",
     "output_type": "stream",
     "text": [
      "[[889   6]\n",
      " [ 39  66]]\n"
     ]
    }
   ],
   "source": [
    "# Confusion matrix for Logistic Regression Model\n",
    "print(confusion_matrix(y_test, log_pred))"
   ]
  },
  {
   "cell_type": "code",
   "execution_count": 41,
   "metadata": {},
   "outputs": [
    {
     "name": "stdout",
     "output_type": "stream",
     "text": [
      "[[888   7]\n",
      " [  8  97]]\n"
     ]
    }
   ],
   "source": [
    "# Confusion matrix for Decision Tree Model\n",
    "print(confusion_matrix(y_test, dt_pred))"
   ]
  },
  {
   "cell_type": "markdown",
   "metadata": {},
   "source": [
    "### <b>Think</b> : Would accuracy_score be a good evaluation metric, given that the dataset is imbalanced?"
   ]
  },
  {
   "cell_type": "code",
   "execution_count": 43,
   "metadata": {},
   "outputs": [
    {
     "name": "stdout",
     "output_type": "stream",
     "text": [
      "0.7457627118644068\n"
     ]
    }
   ],
   "source": [
    "# Since the dataset is imbalanced, we evaluate our model using F1-Score\n",
    "# F1-Score for Logistic Regression Model\n",
    "print(f1_score(y_test, log_pred)) "
   ]
  },
  {
   "cell_type": "code",
   "execution_count": 44,
   "metadata": {},
   "outputs": [
    {
     "name": "stdout",
     "output_type": "stream",
     "text": [
      "0.9282296650717704\n"
     ]
    }
   ],
   "source": [
    "# F1-Score for Decision Tree Model\n",
    "print(f1_score(y_test, dt_pred))"
   ]
  },
  {
   "cell_type": "code",
   "execution_count": 45,
   "metadata": {},
   "outputs": [
    {
     "name": "stdout",
     "output_type": "stream",
     "text": [
      "              precision    recall  f1-score   support\n",
      "\n",
      "         0.0       0.96      0.99      0.98       895\n",
      "         1.0       0.92      0.63      0.75       105\n",
      "\n",
      "    accuracy                           0.95      1000\n",
      "   macro avg       0.94      0.81      0.86      1000\n",
      "weighted avg       0.95      0.95      0.95      1000\n",
      "\n"
     ]
    }
   ],
   "source": [
    "# Classification report for Logistic Regression Model\n",
    "print(classification_report(y_test, log_pred))"
   ]
  },
  {
   "cell_type": "code",
   "execution_count": 46,
   "metadata": {},
   "outputs": [
    {
     "name": "stdout",
     "output_type": "stream",
     "text": [
      "              precision    recall  f1-score   support\n",
      "\n",
      "         0.0       0.99      0.99      0.99       895\n",
      "         1.0       0.93      0.92      0.93       105\n",
      "\n",
      "    accuracy                           0.98      1000\n",
      "   macro avg       0.96      0.96      0.96      1000\n",
      "weighted avg       0.98      0.98      0.98      1000\n",
      "\n"
     ]
    }
   ],
   "source": [
    "# Classification report for Decision Tree Model\n",
    "print(classification_report(y_test, dt_pred))"
   ]
  },
  {
   "cell_type": "markdown",
   "metadata": {},
   "source": [
    "### Plotting the ROC Curve and computing the ROC-AUC"
   ]
  },
  {
   "cell_type": "code",
   "execution_count": 47,
   "metadata": {},
   "outputs": [],
   "source": [
    "#ROC-AUC curve is a performance measurement for classification problems at various thresholds settings.\n",
    "#Calculate False Positive Rate and True Positive Rate for y_test\n",
    "fpr1, tpr1, thresh1 = roc_curve(y_test, log_pred, pos_label=1)\n",
    "fpr2, tpr2, thresh2 = roc_curve(y_test, dt_pred, pos_label=1)\n",
    "\n",
    "random_probs = [0 for i in range(len(y_test))]\n",
    "p_fpr, p_tpr, _ = roc_curve(y_test, random_probs, pos_label=1)"
   ]
  },
  {
   "cell_type": "code",
   "execution_count": 48,
   "metadata": {},
   "outputs": [
    {
     "data": {
      "image/png": "[encoded data removed]",
      "text/plain": [
       "<Figure size 576x396 with 1 Axes>"
      ]
     },
     "metadata": {},
     "output_type": "display_data"
    }
   ],
   "source": [
    "#Plot ROC Curve (TPR vs FPR)\n",
    "plt.style.use('seaborn')\n",
    "plt.plot(fpr1, tpr1, linestyle='--',color='orange', label='Logistic Regression')\n",
    "plt.plot(fpr2, tpr2, linestyle='-',color='green', label='Decision Tree')\n",
    "plt.plot(p_fpr, p_tpr, linestyle='-.', color='blue')\n",
    "plt.title('ROC curve')\n",
    "plt.xlabel('False Positive Rate')\n",
    "plt.ylabel('True Positive rate')\n",
    "plt.legend(loc='best')\n",
    "plt.show();"
   ]
  },
  {
   "cell_type": "code",
   "execution_count": 49,
   "metadata": {},
   "outputs": [
    {
     "name": "stdout",
     "output_type": "stream",
     "text": [
      "ROC-AUC Score for Logistic Regression:  0.8109337589784517\n",
      "ROC-AUC Score for Decision Tree:  0.9579941473796223\n"
     ]
    }
   ],
   "source": [
    "#Print ROC-AUC scores for both models\n",
    "auc_score1 = roc_auc_score(y_test, log_pred)\n",
    "auc_score2 = roc_auc_score(y_test, dt_pred)\n",
    "\n",
    "print(\"ROC-AUC Score for Logistic Regression: \",auc_score1)\n",
    "print(\"ROC-AUC Score for Decision Tree: \",auc_score2)"
   ]
  },
  {
   "cell_type": "markdown",
   "metadata": {},
   "source": [
    "## Conclusive Analysis"
   ]
  },
  {
   "cell_type": "markdown",
   "metadata": {},
   "source": [
    "Summarize your findings and give reasoning for the results you obtained from task_1 and task_2 and compare the algorithms utilized based on the evaluations metrics used."
   ]
  },
  {
   "cell_type": "code",
   "execution_count": null,
   "metadata": {},
   "outputs": [],
   "source": [
    "Whenever we have more categorical terms we find that DT works better than Log Reg. Contrary to this, whenever the number of\n",
    "numerical features are more we observe that decision tree works better.\n",
    "\n",
    "Also according to me, since we are putting any constraints on the DT it tends to over fit the data.\n",
    "\n"
   ]
  }
 ],
 "metadata": {
  "kernelspec": {
   "display_name": "Python 3",
   "language": "python",
   "name": "python3"
  },
  "language_info": {
   "codemirror_mode": {
    "name": "ipython",
    "version": 3
   },
   "file_extension": ".py",
   "mimetype": "text/x-python",
   "name": "python",
   "nbconvert_exporter": "python",
   "pygments_lexer": "ipython3",
   "version": "3.8.3"
  },
  "toc": {
   "base_numbering": 1,
   "nav_menu": {},
   "number_sections": true,
   "sideBar": true,
   "skip_h1_title": false,
   "title_cell": "Table of Contents",
   "title_sidebar": "Contents",
   "toc_cell": false,
   "toc_position": {},
   "toc_section_display": true,
   "toc_window_display": false
  }
 },
 "nbformat": 4,
 "nbformat_minor": 4
}
