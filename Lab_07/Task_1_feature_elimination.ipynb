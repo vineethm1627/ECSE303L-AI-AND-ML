{
 "cells": [
  {
   "cell_type": "markdown",
   "metadata": {
    "id": "9kUDLNT12F1-"
   },
   "source": [
    "# Task 1: Feature Selection Schemes\n",
    "\n",
    "In this assignment you will understand Feature selection techniques\n",
    "\n",
    "###Forward Selection: \n",
    "Forward selection is an iterative method in which we start with having no feature in the model. In each iteration, we keep adding the feature which best improves our model till an addition of a new variable does not improve the performance of the model.\n",
    "\n",
    "###Backward Elimination: \n",
    "In backward elimination, we start with all the features and removes the least significant feature at each iteration which improves the performance of the model. We repeat this until no improvement is observed on removal of features.\n",
    "\n",
    "###Recursive Feature elimination: \n",
    "It is a greedy optimization algorithm which aims to find the best performing feature subset. It repeatedly creates models and keeps aside the best or the worst performing feature at each iteration. It constructs the next model with the left features until all the features are exhausted. It then ranks the features based on the order of their elimination."
   ]
  },
  {
   "cell_type": "markdown",
   "metadata": {
    "id": "3SgypcY36EZX"
   },
   "source": [
    "##Dataset\n",
    "The dataset is available at \"data/bank-full.csv\" in the respective challenge's repo.\n",
    "The dataset can be obtained from:\n",
    "https://www.kaggle.com/sonujha090/bank-marketing\n",
    "\n",
    "#Features (X)\n",
    "##Input variables:\n",
    "# bank client data:\n",
    "1. age (numeric)\n",
    "2. job : type of job (categorical: 'admin.','blue-collar','entrepreneur','housemaid','management','retired','self-employed','services','student','technician','unemployed','unknown')\n",
    "3. marital : marital status (categorical: 'divorced','married','single','unknown'; note: 'divorced' means divorced or widowed)\n",
    "4. education (categorical: 'basic.4y','basic.6y','basic.9y','high.school','illiterate','professional.course','university.degree','unknown')\n",
    "5. default: has credit in default? (categorical: 'no','yes','unknown')\n",
    "6. housing: has housing loan? (categorical: 'no','yes','unknown')\n",
    "7. loan: has personal loan? (categorical: 'no','yes','unknown')\n",
    "# related with the last contact of the current campaign:\n",
    "8. contact: contact communication type (categorical: 'cellular','telephone')\n",
    "9. month: last contact month of year (categorical: 'jan', 'feb', 'mar', ..., 'nov', 'dec')\n",
    "10. day_of_week: last contact day of the week (categorical: 'mon','tue','wed','thu','fri')\n",
    "11. duration: last contact duration, in seconds (numeric). Important note: this attribute highly affects the output target (e.g., if duration=0 then y='no'). Yet, the duration is not known before a call is performed. Also, after the end of the call y is obviously known. Thus, this input should only be included for benchmark purposes and should be discarded if the intention is to have a realistic predictive model.\n",
    "# other attributes:\n",
    "12. campaign: number of contacts performed during this campaign and for this client (numeric, includes last contact)\n",
    "13. pdays: number of days that passed by after the client was last contacted from a previous campaign (numeric; 999 means client was not previously contacted)\n",
    "14. previous: number of contacts performed before this campaign and for this client (numeric)\n",
    "15. poutcome: outcome of the previous marketing campaign (categorical: 'failure','nonexistent','success')\n",
    "# social and economic context attributes\n",
    "16. emp.var.rate: employment variation rate. quarterly indicator (numeric)\n",
    "17. cons.price.idx: consumer price index. monthly indicator (numeric)\n",
    "18. cons.conf.idx: consumer confidence index. monthly indicator (numeric)\n",
    "19. euribor3m: euribor 3 month rate. daily indicator (numeric)\n",
    "20. nr.employed: number of employees. quarterly indicator (numeric)\n",
    "\n",
    "##Output variable (desired target):\n",
    "21. y. has the client subscribed a term deposit? (binary: 'yes','no')"
   ]
  },
  {
   "cell_type": "markdown",
   "metadata": {
    "id": "IcV8L0Q_7AgD"
   },
   "source": [
    "#### Objective\n",
    "- To apply different feature selection approaches such as Forward Selection, Backward Elimination and recursive feature elimination for feature selection in Logistic Regression Algorithm.\n",
    "\n",
    "\n",
    "#### Tasks\n",
    "- Download and load the data (csv file)\n",
    "- Process the data \n",
    "- Split the dataset into 70% for training and rest 30% for testing (sklearn.model_selection.train_test_split function)\n",
    "- Train Logistic Regression\n",
    "- Apply feature selection techniques\n",
    "- Train the models on the feature reduced datasets\n",
    "- Compare their accuracies and print feature subset\n",
    "\n",
    "#### Further Fun\n",
    "- Perform feature selection with other schemes in the Sklearn: https://scikit-learn.org/stable/modules/classes.html#module-sklearn.feature_selection|\n",
    "\n",
    "#### Helpful links\n",
    "- pd.get_dummies() and One Hot Encoding: https://queirozf.com/entries/one-hot-encoding-a-feature-on-a-pandas-dataframe-an-example\n",
    "- Feature Scaling: https://scikit-learn.org/stable/modules/preprocessing.html\n",
    "- Train-test splitting: https://scikit-learn.org/stable/modules/generated/sklearn.model_selection.train_test_split.html\n",
    "- Feature selection in ML: https://machinelearningmastery.com/feature-selection-machine-learning-python/\n",
    "- Feature selection in sklearn: https://scikit-learn.org/stable/modules/feature_selection.html\n",
    "- Use slack for doubts: https://join.slack.com/t/deepconnectai/shared_invite/zt-givlfnf6-~cn3SQ43k0BGDrG9_YOn4g\n",
    "\n",
    "\n"
   ]
  },
  {
   "cell_type": "code",
   "execution_count": 1,
   "metadata": {
    "colab": {
     "base_uri": "https://localhost:8080/",
     "height": 70
    },
    "id": "tipydTZB12oN",
    "outputId": "36409996-c42e-4998-bac0-7ad26e56afe0"
   },
   "outputs": [],
   "source": [
    "import seaborn as sns\n",
    "import pandas as pd\n",
    "import numpy as np\n",
    "import matplotlib.pyplot as plt\n",
    "import scipy.stats\n",
    "from sklearn import preprocessing"
   ]
  },
  {
   "cell_type": "code",
   "execution_count": 2,
   "metadata": {
    "id": "y_FW91Aa8v6L"
   },
   "outputs": [],
   "source": [
    "banking =  pd.read_csv('dataset/bank-full.csv')"
   ]
  },
  {
   "cell_type": "code",
   "execution_count": 3,
   "metadata": {
    "colab": {
     "base_uri": "https://localhost:8080/",
     "height": 84
    },
    "id": "x6v0PXkZ9WLz",
    "outputId": "75746c1a-a06a-463c-fa70-195d9f8766a0"
   },
   "outputs": [
    {
     "data": {
      "text/plain": [
       "Index(['age', 'job', 'marital', 'education', 'default', 'balance', 'housing',\n",
       "       'loan', 'contact', 'day', 'month', 'duration', 'campaign', 'pdays',\n",
       "       'previous', 'poutcome', 'y'],\n",
       "      dtype='object')"
      ]
     },
     "execution_count": 3,
     "metadata": {},
     "output_type": "execute_result"
    }
   ],
   "source": [
    "banking.columns"
   ]
  },
  {
   "cell_type": "code",
   "execution_count": 4,
   "metadata": {
    "colab": {
     "base_uri": "https://localhost:8080/",
     "height": 319
    },
    "id": "0MJVXOUP9ZGo",
    "outputId": "ac1d3862-55a2-4a02-d72d-c53b2b70e5f1"
   },
   "outputs": [
    {
     "data": {
      "text/plain": [
       "age           int64\n",
       "job          object\n",
       "marital      object\n",
       "education    object\n",
       "default      object\n",
       "balance       int64\n",
       "housing      object\n",
       "loan         object\n",
       "contact      object\n",
       "day           int64\n",
       "month        object\n",
       "duration      int64\n",
       "campaign      int64\n",
       "pdays         int64\n",
       "previous      int64\n",
       "poutcome     object\n",
       "y            object\n",
       "dtype: object"
      ]
     },
     "execution_count": 4,
     "metadata": {},
     "output_type": "execute_result"
    }
   ],
   "source": [
    "banking.dtypes"
   ]
  },
  {
   "cell_type": "code",
   "execution_count": 5,
   "metadata": {
    "colab": {
     "base_uri": "https://localhost:8080/",
     "height": 225
    },
    "id": "b5OISHp99aY8",
    "outputId": "87ade503-9862-4b95-a01d-08fb680ce1e3"
   },
   "outputs": [
    {
     "data": {
      "text/html": [
       "<div>\n",
       "<style scoped>\n",
       "    .dataframe tbody tr th:only-of-type {\n",
       "        vertical-align: middle;\n",
       "    }\n",
       "\n",
       "    .dataframe tbody tr th {\n",
       "        vertical-align: top;\n",
       "    }\n",
       "\n",
       "    .dataframe thead th {\n",
       "        text-align: right;\n",
       "    }\n",
       "</style>\n",
       "<table border=\"1\" class=\"dataframe\">\n",
       "  <thead>\n",
       "    <tr style=\"text-align: right;\">\n",
       "      <th></th>\n",
       "      <th>age</th>\n",
       "      <th>job</th>\n",
       "      <th>marital</th>\n",
       "      <th>education</th>\n",
       "      <th>default</th>\n",
       "      <th>balance</th>\n",
       "      <th>housing</th>\n",
       "      <th>loan</th>\n",
       "      <th>contact</th>\n",
       "      <th>day</th>\n",
       "      <th>month</th>\n",
       "      <th>duration</th>\n",
       "      <th>campaign</th>\n",
       "      <th>pdays</th>\n",
       "      <th>previous</th>\n",
       "      <th>poutcome</th>\n",
       "      <th>y</th>\n",
       "    </tr>\n",
       "  </thead>\n",
       "  <tbody>\n",
       "    <tr>\n",
       "      <th>0</th>\n",
       "      <td>58</td>\n",
       "      <td>management</td>\n",
       "      <td>married</td>\n",
       "      <td>tertiary</td>\n",
       "      <td>no</td>\n",
       "      <td>2143</td>\n",
       "      <td>yes</td>\n",
       "      <td>no</td>\n",
       "      <td>unknown</td>\n",
       "      <td>5</td>\n",
       "      <td>may</td>\n",
       "      <td>261</td>\n",
       "      <td>1</td>\n",
       "      <td>-1</td>\n",
       "      <td>0</td>\n",
       "      <td>unknown</td>\n",
       "      <td>no</td>\n",
       "    </tr>\n",
       "    <tr>\n",
       "      <th>1</th>\n",
       "      <td>44</td>\n",
       "      <td>technician</td>\n",
       "      <td>single</td>\n",
       "      <td>secondary</td>\n",
       "      <td>no</td>\n",
       "      <td>29</td>\n",
       "      <td>yes</td>\n",
       "      <td>no</td>\n",
       "      <td>unknown</td>\n",
       "      <td>5</td>\n",
       "      <td>may</td>\n",
       "      <td>151</td>\n",
       "      <td>1</td>\n",
       "      <td>-1</td>\n",
       "      <td>0</td>\n",
       "      <td>unknown</td>\n",
       "      <td>no</td>\n",
       "    </tr>\n",
       "    <tr>\n",
       "      <th>2</th>\n",
       "      <td>33</td>\n",
       "      <td>entrepreneur</td>\n",
       "      <td>married</td>\n",
       "      <td>secondary</td>\n",
       "      <td>no</td>\n",
       "      <td>2</td>\n",
       "      <td>yes</td>\n",
       "      <td>yes</td>\n",
       "      <td>unknown</td>\n",
       "      <td>5</td>\n",
       "      <td>may</td>\n",
       "      <td>76</td>\n",
       "      <td>1</td>\n",
       "      <td>-1</td>\n",
       "      <td>0</td>\n",
       "      <td>unknown</td>\n",
       "      <td>no</td>\n",
       "    </tr>\n",
       "    <tr>\n",
       "      <th>3</th>\n",
       "      <td>47</td>\n",
       "      <td>blue-collar</td>\n",
       "      <td>married</td>\n",
       "      <td>unknown</td>\n",
       "      <td>no</td>\n",
       "      <td>1506</td>\n",
       "      <td>yes</td>\n",
       "      <td>no</td>\n",
       "      <td>unknown</td>\n",
       "      <td>5</td>\n",
       "      <td>may</td>\n",
       "      <td>92</td>\n",
       "      <td>1</td>\n",
       "      <td>-1</td>\n",
       "      <td>0</td>\n",
       "      <td>unknown</td>\n",
       "      <td>no</td>\n",
       "    </tr>\n",
       "    <tr>\n",
       "      <th>4</th>\n",
       "      <td>33</td>\n",
       "      <td>unknown</td>\n",
       "      <td>single</td>\n",
       "      <td>unknown</td>\n",
       "      <td>no</td>\n",
       "      <td>1</td>\n",
       "      <td>no</td>\n",
       "      <td>no</td>\n",
       "      <td>unknown</td>\n",
       "      <td>5</td>\n",
       "      <td>may</td>\n",
       "      <td>198</td>\n",
       "      <td>1</td>\n",
       "      <td>-1</td>\n",
       "      <td>0</td>\n",
       "      <td>unknown</td>\n",
       "      <td>no</td>\n",
       "    </tr>\n",
       "    <tr>\n",
       "      <th>5</th>\n",
       "      <td>35</td>\n",
       "      <td>management</td>\n",
       "      <td>married</td>\n",
       "      <td>tertiary</td>\n",
       "      <td>no</td>\n",
       "      <td>231</td>\n",
       "      <td>yes</td>\n",
       "      <td>no</td>\n",
       "      <td>unknown</td>\n",
       "      <td>5</td>\n",
       "      <td>may</td>\n",
       "      <td>139</td>\n",
       "      <td>1</td>\n",
       "      <td>-1</td>\n",
       "      <td>0</td>\n",
       "      <td>unknown</td>\n",
       "      <td>no</td>\n",
       "    </tr>\n",
       "  </tbody>\n",
       "</table>\n",
       "</div>"
      ],
      "text/plain": [
       "   age           job  marital  education default  balance housing loan  \\\n",
       "0   58    management  married   tertiary      no     2143     yes   no   \n",
       "1   44    technician   single  secondary      no       29     yes   no   \n",
       "2   33  entrepreneur  married  secondary      no        2     yes  yes   \n",
       "3   47   blue-collar  married    unknown      no     1506     yes   no   \n",
       "4   33       unknown   single    unknown      no        1      no   no   \n",
       "5   35    management  married   tertiary      no      231     yes   no   \n",
       "\n",
       "   contact  day month  duration  campaign  pdays  previous poutcome   y  \n",
       "0  unknown    5   may       261         1     -1         0  unknown  no  \n",
       "1  unknown    5   may       151         1     -1         0  unknown  no  \n",
       "2  unknown    5   may        76         1     -1         0  unknown  no  \n",
       "3  unknown    5   may        92         1     -1         0  unknown  no  \n",
       "4  unknown    5   may       198         1     -1         0  unknown  no  \n",
       "5  unknown    5   may       139         1     -1         0  unknown  no  "
      ]
     },
     "execution_count": 5,
     "metadata": {},
     "output_type": "execute_result"
    }
   ],
   "source": [
    "banking.head(6)"
   ]
  },
  {
   "cell_type": "code",
   "execution_count": 6,
   "metadata": {
    "colab": {
     "base_uri": "https://localhost:8080/",
     "height": 284
    },
    "id": "tWsbP6GI9fK_",
    "outputId": "7fad29a2-56d6-4df2-d5a8-08a8936e21e2"
   },
   "outputs": [
    {
     "data": {
      "text/html": [
       "<div>\n",
       "<style scoped>\n",
       "    .dataframe tbody tr th:only-of-type {\n",
       "        vertical-align: middle;\n",
       "    }\n",
       "\n",
       "    .dataframe tbody tr th {\n",
       "        vertical-align: top;\n",
       "    }\n",
       "\n",
       "    .dataframe thead th {\n",
       "        text-align: right;\n",
       "    }\n",
       "</style>\n",
       "<table border=\"1\" class=\"dataframe\">\n",
       "  <thead>\n",
       "    <tr style=\"text-align: right;\">\n",
       "      <th></th>\n",
       "      <th>age</th>\n",
       "      <th>balance</th>\n",
       "      <th>day</th>\n",
       "      <th>duration</th>\n",
       "      <th>campaign</th>\n",
       "      <th>pdays</th>\n",
       "      <th>previous</th>\n",
       "    </tr>\n",
       "  </thead>\n",
       "  <tbody>\n",
       "    <tr>\n",
       "      <th>count</th>\n",
       "      <td>45211.000000</td>\n",
       "      <td>45211.000000</td>\n",
       "      <td>45211.000000</td>\n",
       "      <td>45211.000000</td>\n",
       "      <td>45211.000000</td>\n",
       "      <td>45211.000000</td>\n",
       "      <td>45211.000000</td>\n",
       "    </tr>\n",
       "    <tr>\n",
       "      <th>mean</th>\n",
       "      <td>40.936210</td>\n",
       "      <td>1362.272058</td>\n",
       "      <td>15.806419</td>\n",
       "      <td>258.163080</td>\n",
       "      <td>2.763841</td>\n",
       "      <td>40.197828</td>\n",
       "      <td>0.580323</td>\n",
       "    </tr>\n",
       "    <tr>\n",
       "      <th>std</th>\n",
       "      <td>10.618762</td>\n",
       "      <td>3044.765829</td>\n",
       "      <td>8.322476</td>\n",
       "      <td>257.527812</td>\n",
       "      <td>3.098021</td>\n",
       "      <td>100.128746</td>\n",
       "      <td>2.303441</td>\n",
       "    </tr>\n",
       "    <tr>\n",
       "      <th>min</th>\n",
       "      <td>18.000000</td>\n",
       "      <td>-8019.000000</td>\n",
       "      <td>1.000000</td>\n",
       "      <td>0.000000</td>\n",
       "      <td>1.000000</td>\n",
       "      <td>-1.000000</td>\n",
       "      <td>0.000000</td>\n",
       "    </tr>\n",
       "    <tr>\n",
       "      <th>25%</th>\n",
       "      <td>33.000000</td>\n",
       "      <td>72.000000</td>\n",
       "      <td>8.000000</td>\n",
       "      <td>103.000000</td>\n",
       "      <td>1.000000</td>\n",
       "      <td>-1.000000</td>\n",
       "      <td>0.000000</td>\n",
       "    </tr>\n",
       "    <tr>\n",
       "      <th>50%</th>\n",
       "      <td>39.000000</td>\n",
       "      <td>448.000000</td>\n",
       "      <td>16.000000</td>\n",
       "      <td>180.000000</td>\n",
       "      <td>2.000000</td>\n",
       "      <td>-1.000000</td>\n",
       "      <td>0.000000</td>\n",
       "    </tr>\n",
       "    <tr>\n",
       "      <th>75%</th>\n",
       "      <td>48.000000</td>\n",
       "      <td>1428.000000</td>\n",
       "      <td>21.000000</td>\n",
       "      <td>319.000000</td>\n",
       "      <td>3.000000</td>\n",
       "      <td>-1.000000</td>\n",
       "      <td>0.000000</td>\n",
       "    </tr>\n",
       "    <tr>\n",
       "      <th>max</th>\n",
       "      <td>95.000000</td>\n",
       "      <td>102127.000000</td>\n",
       "      <td>31.000000</td>\n",
       "      <td>4918.000000</td>\n",
       "      <td>63.000000</td>\n",
       "      <td>871.000000</td>\n",
       "      <td>275.000000</td>\n",
       "    </tr>\n",
       "  </tbody>\n",
       "</table>\n",
       "</div>"
      ],
      "text/plain": [
       "                age        balance           day      duration      campaign  \\\n",
       "count  45211.000000   45211.000000  45211.000000  45211.000000  45211.000000   \n",
       "mean      40.936210    1362.272058     15.806419    258.163080      2.763841   \n",
       "std       10.618762    3044.765829      8.322476    257.527812      3.098021   \n",
       "min       18.000000   -8019.000000      1.000000      0.000000      1.000000   \n",
       "25%       33.000000      72.000000      8.000000    103.000000      1.000000   \n",
       "50%       39.000000     448.000000     16.000000    180.000000      2.000000   \n",
       "75%       48.000000    1428.000000     21.000000    319.000000      3.000000   \n",
       "max       95.000000  102127.000000     31.000000   4918.000000     63.000000   \n",
       "\n",
       "              pdays      previous  \n",
       "count  45211.000000  45211.000000  \n",
       "mean      40.197828      0.580323  \n",
       "std      100.128746      2.303441  \n",
       "min       -1.000000      0.000000  \n",
       "25%       -1.000000      0.000000  \n",
       "50%       -1.000000      0.000000  \n",
       "75%       -1.000000      0.000000  \n",
       "max      871.000000    275.000000  "
      ]
     },
     "execution_count": 6,
     "metadata": {},
     "output_type": "execute_result"
    }
   ],
   "source": [
    "banking.describe()"
   ]
  },
  {
   "cell_type": "code",
   "execution_count": 7,
   "metadata": {
    "colab": {
     "base_uri": "https://localhost:8080/",
     "height": 34
    },
    "id": "bGuP-XILy28y",
    "outputId": "bad05ede-a057-48e4-816a-4d9b9ef79621"
   },
   "outputs": [
    {
     "data": {
      "text/plain": [
       "(45211, 17)"
      ]
     },
     "execution_count": 7,
     "metadata": {},
     "output_type": "execute_result"
    }
   ],
   "source": [
    "banking.shape"
   ]
  },
  {
   "cell_type": "code",
   "execution_count": 8,
   "metadata": {
    "id": "_n_uuKXCCJXQ"
   },
   "outputs": [],
   "source": [
    "banking.rename(columns={\"y\":\"Action\"},inplace = True)"
   ]
  },
  {
   "cell_type": "code",
   "execution_count": 9,
   "metadata": {
    "colab": {
     "base_uri": "https://localhost:8080/",
     "height": 67
    },
    "id": "BwS_x_qA_OQr",
    "outputId": "159c8c09-e690-4dc3-aa9f-ff354c11b323"
   },
   "outputs": [
    {
     "data": {
      "text/plain": [
       "no     39922\n",
       "yes     5289\n",
       "Name: Action, dtype: int64"
      ]
     },
     "execution_count": 9,
     "metadata": {},
     "output_type": "execute_result"
    }
   ],
   "source": [
    "banking.Action.value_counts()"
   ]
  },
  {
   "cell_type": "code",
   "execution_count": 10,
   "metadata": {
    "colab": {
     "base_uri": "https://localhost:8080/",
     "height": 296
    },
    "id": "cafT5yTw6bKD",
    "outputId": "38e4b186-7294-4135-f350-4ca06e178030"
   },
   "outputs": [
    {
     "data": {
      "text/plain": [
       "<matplotlib.axes._subplots.AxesSubplot at 0x171755b4eb0>"
      ]
     },
     "execution_count": 10,
     "metadata": {},
     "output_type": "execute_result"
    },
    {
     "data": {
      "image/png": "[encoded data removed]",
      "text/plain": [
       "<Figure size 432x288 with 1 Axes>"
      ]
     },
     "metadata": {
      "needs_background": "light"
     },
     "output_type": "display_data"
    }
   ],
   "source": [
    "sns.countplot(banking.Action)\n",
    "\n",
    "# we can observe there is a serious class imbalance."
   ]
  },
  {
   "cell_type": "code",
   "execution_count": 11,
   "metadata": {
    "colab": {
     "base_uri": "https://localhost:8080/",
     "height": 322
    },
    "id": "RtgLuxd7Cs18",
    "outputId": "6326d59a-0b0b-45d5-901c-64b0f3ab4309"
   },
   "outputs": [
    {
     "data": {
      "text/plain": [
       "<matplotlib.axes._subplots.AxesSubplot at 0x17176409f70>"
      ]
     },
     "execution_count": 11,
     "metadata": {},
     "output_type": "execute_result"
    },
    {
     "data": {
      "image/png": "[encoded data removed]",
      "text/plain": [
       "<Figure size 432x288 with 1 Axes>"
      ]
     },
     "metadata": {
      "needs_background": "light"
     },
     "output_type": "display_data"
    }
   ],
   "source": [
    "sns.heatmap(banking.isnull(),yticklabels = False, cbar = False , cmap ='RdYlGn')\n",
    "# we can observe that there are no null values."
   ]
  },
  {
   "cell_type": "code",
   "execution_count": 12,
   "metadata": {
    "colab": {
     "base_uri": "https://localhost:8080/",
     "height": 319
    },
    "id": "zssn93Rf6bKN",
    "outputId": "3bc5be86-15f0-4431-c0d5-3ddebff732c2"
   },
   "outputs": [
    {
     "data": {
      "text/plain": [
       "age          0\n",
       "job          0\n",
       "marital      0\n",
       "education    0\n",
       "default      0\n",
       "balance      0\n",
       "housing      0\n",
       "loan         0\n",
       "contact      0\n",
       "day          0\n",
       "month        0\n",
       "duration     0\n",
       "campaign     0\n",
       "pdays        0\n",
       "previous     0\n",
       "poutcome     0\n",
       "Action       0\n",
       "dtype: int64"
      ]
     },
     "execution_count": 12,
     "metadata": {},
     "output_type": "execute_result"
    }
   ],
   "source": [
    "banking.isnull().sum()"
   ]
  },
  {
   "cell_type": "code",
   "execution_count": 13,
   "metadata": {
    "id": "-Yl6YjlXz-I-"
   },
   "outputs": [],
   "source": [
    "new_data =  banking.select_dtypes(include='object')"
   ]
  },
  {
   "cell_type": "code",
   "execution_count": 14,
   "metadata": {
    "colab": {
     "base_uri": "https://localhost:8080/",
     "height": 218
    },
    "id": "8bqsIpGZzjYa",
    "outputId": "13577d16-8c1a-42c2-c903-0b233208ab5d"
   },
   "outputs": [
    {
     "name": "stdout",
     "output_type": "stream",
     "text": [
      "job ; ['management' 'technician' 'entrepreneur' 'blue-collar' 'unknown'\n",
      " 'retired' 'admin.' 'services' 'self-employed' 'unemployed' 'housemaid'\n",
      " 'student']  labels\n",
      "marital ; ['married' 'single' 'divorced']  labels\n",
      "education ; ['tertiary' 'secondary' 'unknown' 'primary']  labels\n",
      "default ; ['no' 'yes']  labels\n",
      "housing ; ['yes' 'no']  labels\n",
      "loan ; ['no' 'yes']  labels\n",
      "contact ; ['unknown' 'cellular' 'telephone']  labels\n",
      "month ; ['may' 'jun' 'jul' 'aug' 'oct' 'nov' 'dec' 'jan' 'feb' 'mar' 'apr' 'sep']  labels\n",
      "poutcome ; ['unknown' 'failure' 'other' 'success']  labels\n",
      "Action ; ['no' 'yes']  labels\n"
     ]
    }
   ],
   "source": [
    "#checking the number of unique categories in each column\n",
    "for i in new_data.columns:\n",
    "    print(i,';',banking[i].unique(),' labels')"
   ]
  },
  {
   "cell_type": "code",
   "execution_count": 15,
   "metadata": {
    "id": "W5l9AQTTFx8Z"
   },
   "outputs": [],
   "source": [
    "from sklearn.preprocessing import LabelEncoder\n",
    "lb = LabelEncoder()\n",
    "new_data_encoded = new_data.apply(lb.fit_transform)\n",
    "new_data_nonobject = banking.select_dtypes(exclude = [\"object\"])\n",
    "banking1 = pd.concat([new_data_nonobject,new_data_encoded], axis = 1)"
   ]
  },
  {
   "cell_type": "code",
   "execution_count": 16,
   "metadata": {
    "id": "BgED3fG36bKa"
   },
   "outputs": [],
   "source": [
    "from sklearn.preprocessing import MinMaxScaler\n",
    "scaler = MinMaxScaler()\n",
    "\n",
    "banking1[['pdays']] = scaler.fit_transform(banking1[['pdays']])"
   ]
  },
  {
   "cell_type": "code",
   "execution_count": 17,
   "metadata": {
    "colab": {
     "base_uri": "https://localhost:8080/",
     "height": 195
    },
    "id": "nl6MensF1dBg",
    "outputId": "3cf56b09-0c79-4b58-ee8a-2dd8d0b36961"
   },
   "outputs": [
    {
     "data": {
      "text/html": [
       "<div>\n",
       "<style scoped>\n",
       "    .dataframe tbody tr th:only-of-type {\n",
       "        vertical-align: middle;\n",
       "    }\n",
       "\n",
       "    .dataframe tbody tr th {\n",
       "        vertical-align: top;\n",
       "    }\n",
       "\n",
       "    .dataframe thead th {\n",
       "        text-align: right;\n",
       "    }\n",
       "</style>\n",
       "<table border=\"1\" class=\"dataframe\">\n",
       "  <thead>\n",
       "    <tr style=\"text-align: right;\">\n",
       "      <th></th>\n",
       "      <th>age</th>\n",
       "      <th>balance</th>\n",
       "      <th>day</th>\n",
       "      <th>duration</th>\n",
       "      <th>campaign</th>\n",
       "      <th>pdays</th>\n",
       "      <th>previous</th>\n",
       "      <th>job</th>\n",
       "      <th>marital</th>\n",
       "      <th>education</th>\n",
       "      <th>default</th>\n",
       "      <th>housing</th>\n",
       "      <th>loan</th>\n",
       "      <th>contact</th>\n",
       "      <th>month</th>\n",
       "      <th>poutcome</th>\n",
       "      <th>Action</th>\n",
       "    </tr>\n",
       "  </thead>\n",
       "  <tbody>\n",
       "    <tr>\n",
       "      <th>0</th>\n",
       "      <td>58</td>\n",
       "      <td>2143</td>\n",
       "      <td>5</td>\n",
       "      <td>261</td>\n",
       "      <td>1</td>\n",
       "      <td>0.0</td>\n",
       "      <td>0</td>\n",
       "      <td>4</td>\n",
       "      <td>1</td>\n",
       "      <td>2</td>\n",
       "      <td>0</td>\n",
       "      <td>1</td>\n",
       "      <td>0</td>\n",
       "      <td>2</td>\n",
       "      <td>8</td>\n",
       "      <td>3</td>\n",
       "      <td>0</td>\n",
       "    </tr>\n",
       "    <tr>\n",
       "      <th>1</th>\n",
       "      <td>44</td>\n",
       "      <td>29</td>\n",
       "      <td>5</td>\n",
       "      <td>151</td>\n",
       "      <td>1</td>\n",
       "      <td>0.0</td>\n",
       "      <td>0</td>\n",
       "      <td>9</td>\n",
       "      <td>2</td>\n",
       "      <td>1</td>\n",
       "      <td>0</td>\n",
       "      <td>1</td>\n",
       "      <td>0</td>\n",
       "      <td>2</td>\n",
       "      <td>8</td>\n",
       "      <td>3</td>\n",
       "      <td>0</td>\n",
       "    </tr>\n",
       "    <tr>\n",
       "      <th>2</th>\n",
       "      <td>33</td>\n",
       "      <td>2</td>\n",
       "      <td>5</td>\n",
       "      <td>76</td>\n",
       "      <td>1</td>\n",
       "      <td>0.0</td>\n",
       "      <td>0</td>\n",
       "      <td>2</td>\n",
       "      <td>1</td>\n",
       "      <td>1</td>\n",
       "      <td>0</td>\n",
       "      <td>1</td>\n",
       "      <td>1</td>\n",
       "      <td>2</td>\n",
       "      <td>8</td>\n",
       "      <td>3</td>\n",
       "      <td>0</td>\n",
       "    </tr>\n",
       "    <tr>\n",
       "      <th>3</th>\n",
       "      <td>47</td>\n",
       "      <td>1506</td>\n",
       "      <td>5</td>\n",
       "      <td>92</td>\n",
       "      <td>1</td>\n",
       "      <td>0.0</td>\n",
       "      <td>0</td>\n",
       "      <td>1</td>\n",
       "      <td>1</td>\n",
       "      <td>3</td>\n",
       "      <td>0</td>\n",
       "      <td>1</td>\n",
       "      <td>0</td>\n",
       "      <td>2</td>\n",
       "      <td>8</td>\n",
       "      <td>3</td>\n",
       "      <td>0</td>\n",
       "    </tr>\n",
       "    <tr>\n",
       "      <th>4</th>\n",
       "      <td>33</td>\n",
       "      <td>1</td>\n",
       "      <td>5</td>\n",
       "      <td>198</td>\n",
       "      <td>1</td>\n",
       "      <td>0.0</td>\n",
       "      <td>0</td>\n",
       "      <td>11</td>\n",
       "      <td>2</td>\n",
       "      <td>3</td>\n",
       "      <td>0</td>\n",
       "      <td>0</td>\n",
       "      <td>0</td>\n",
       "      <td>2</td>\n",
       "      <td>8</td>\n",
       "      <td>3</td>\n",
       "      <td>0</td>\n",
       "    </tr>\n",
       "  </tbody>\n",
       "</table>\n",
       "</div>"
      ],
      "text/plain": [
       "   age  balance  day  duration  campaign  pdays  previous  job  marital  \\\n",
       "0   58     2143    5       261         1    0.0         0    4        1   \n",
       "1   44       29    5       151         1    0.0         0    9        2   \n",
       "2   33        2    5        76         1    0.0         0    2        1   \n",
       "3   47     1506    5        92         1    0.0         0    1        1   \n",
       "4   33        1    5       198         1    0.0         0   11        2   \n",
       "\n",
       "   education  default  housing  loan  contact  month  poutcome  Action  \n",
       "0          2        0        1     0        2      8         3       0  \n",
       "1          1        0        1     0        2      8         3       0  \n",
       "2          1        0        1     1        2      8         3       0  \n",
       "3          3        0        1     0        2      8         3       0  \n",
       "4          3        0        0     0        2      8         3       0  "
      ]
     },
     "execution_count": 17,
     "metadata": {},
     "output_type": "execute_result"
    }
   ],
   "source": [
    "banking1.head()"
   ]
  },
  {
   "cell_type": "code",
   "execution_count": 18,
   "metadata": {
    "colab": {
     "base_uri": "https://localhost:8080/",
     "height": 34
    },
    "id": "RSeDV4ef2CQn",
    "outputId": "4f1c03e1-4bcd-402d-c1ce-2fa019a41b9b"
   },
   "outputs": [
    {
     "data": {
      "text/plain": [
       "(45211, 17)"
      ]
     },
     "execution_count": 18,
     "metadata": {},
     "output_type": "execute_result"
    }
   ],
   "source": [
    "banking1.shape"
   ]
  },
  {
   "cell_type": "markdown",
   "metadata": {
    "id": "miZtPmYhN90h"
   },
   "source": [
    "# K Best Features"
   ]
  },
  {
   "cell_type": "code",
   "execution_count": 19,
   "metadata": {
    "id": "0LjUnDEoDRt_"
   },
   "outputs": [],
   "source": [
    "from sklearn.feature_selection import SelectKBest\n",
    "from scipy.stats import chi2 \n",
    "from sklearn.feature_selection import f_classif"
   ]
  },
  {
   "cell_type": "code",
   "execution_count": 20,
   "metadata": {
    "id": "rJqFg5EgE0rn"
   },
   "outputs": [],
   "source": [
    "X = banking1.drop(columns = ['Action'], axis = 1)\n",
    "y = banking1['Action']"
   ]
  },
  {
   "cell_type": "code",
   "execution_count": 21,
   "metadata": {
    "colab": {
     "base_uri": "https://localhost:8080/",
     "height": 50
    },
    "id": "vlWArWIkTnH9",
    "outputId": "777be117-83ee-47ee-c7c3-5ce67e697808"
   },
   "outputs": [
    {
     "name": "stdout",
     "output_type": "stream",
     "text": [
      "(45211, 16)\n",
      "(45211,)\n"
     ]
    }
   ],
   "source": [
    "print(X.shape)\n",
    "print(y.shape)"
   ]
  },
  {
   "cell_type": "code",
   "execution_count": 22,
   "metadata": {
    "id": "KMCeVxXc6bKq"
   },
   "outputs": [],
   "source": [
    "# Split the data into train test split\n",
    "from sklearn.model_selection import train_test_split\n",
    "X_train, X_test, y_train, y_test = train_test_split(X, y, test_size = 0.3, shuffle = True)"
   ]
  },
  {
   "cell_type": "code",
   "execution_count": 23,
   "metadata": {
    "colab": {
     "base_uri": "https://localhost:8080/",
     "height": 84
    },
    "id": "04q-ncfd6bKs",
    "outputId": "25ea26d8-eb36-4a5d-8299-94ac175b27bc"
   },
   "outputs": [
    {
     "name": "stdout",
     "output_type": "stream",
     "text": [
      "X train shape :  (31647, 16)\n",
      "y train shape :  (31647,)\n",
      "X test shape :  (13564, 16)\n",
      "y test shape :  (13564,)\n"
     ]
    }
   ],
   "source": [
    "print(\"X train shape : \", X_train.shape)\n",
    "print(\"y train shape : \", y_train.shape)\n",
    "print(\"X test shape : \", X_test.shape)\n",
    "print(\"y test shape : \", y_test.shape)"
   ]
  },
  {
   "cell_type": "code",
   "execution_count": 24,
   "metadata": {
    "id": "KPOTMWCOEU9l"
   },
   "outputs": [],
   "source": [
    "Kbest = SelectKBest(f_classif, k = 10)\n",
    "kfit = Kbest.fit(X_train, y_train)"
   ]
  },
  {
   "cell_type": "code",
   "execution_count": 25,
   "metadata": {
    "colab": {
     "base_uri": "https://localhost:8080/",
     "height": 84
    },
    "id": "c56tiEOG6bKx",
    "outputId": "1f683777-92ca-4597-81a5-c882b5f0b342"
   },
   "outputs": [
    {
     "data": {
      "text/plain": [
       "array([  22.19569464,   82.97980937,   19.79376013, 5755.03779261,\n",
       "        172.71229572,  340.81808245,  275.2094515 ,   57.49860406,\n",
       "         75.20405254,  151.52843655,   16.59194018,  624.98386531,\n",
       "        153.86343912,  690.37931111,   19.86633126,  193.36496968])"
      ]
     },
     "execution_count": 25,
     "metadata": {},
     "output_type": "execute_result"
    }
   ],
   "source": [
    "kfit.scores_"
   ]
  },
  {
   "cell_type": "code",
   "execution_count": 26,
   "metadata": {
    "id": "-x8IYkezEvWJ"
   },
   "outputs": [],
   "source": [
    "scores = pd.DataFrame(kfit.scores_)\n",
    "columns = pd.DataFrame(list(X_train.columns[kfit.get_support()]))"
   ]
  },
  {
   "cell_type": "code",
   "execution_count": 27,
   "metadata": {
    "colab": {
     "base_uri": "https://localhost:8080/",
     "height": 195
    },
    "id": "1UBqWajh6bK3",
    "outputId": "fb0948a6-e73c-4d4e-efba-954c8fb96d7e"
   },
   "outputs": [
    {
     "data": {
      "text/html": [
       "<div>\n",
       "<style scoped>\n",
       "    .dataframe tbody tr th:only-of-type {\n",
       "        vertical-align: middle;\n",
       "    }\n",
       "\n",
       "    .dataframe tbody tr th {\n",
       "        vertical-align: top;\n",
       "    }\n",
       "\n",
       "    .dataframe thead th {\n",
       "        text-align: right;\n",
       "    }\n",
       "</style>\n",
       "<table border=\"1\" class=\"dataframe\">\n",
       "  <thead>\n",
       "    <tr style=\"text-align: right;\">\n",
       "      <th></th>\n",
       "      <th>0</th>\n",
       "    </tr>\n",
       "  </thead>\n",
       "  <tbody>\n",
       "    <tr>\n",
       "      <th>0</th>\n",
       "      <td>22.195695</td>\n",
       "    </tr>\n",
       "    <tr>\n",
       "      <th>1</th>\n",
       "      <td>82.979809</td>\n",
       "    </tr>\n",
       "    <tr>\n",
       "      <th>2</th>\n",
       "      <td>19.793760</td>\n",
       "    </tr>\n",
       "    <tr>\n",
       "      <th>3</th>\n",
       "      <td>5755.037793</td>\n",
       "    </tr>\n",
       "    <tr>\n",
       "      <th>4</th>\n",
       "      <td>172.712296</td>\n",
       "    </tr>\n",
       "  </tbody>\n",
       "</table>\n",
       "</div>"
      ],
      "text/plain": [
       "             0\n",
       "0    22.195695\n",
       "1    82.979809\n",
       "2    19.793760\n",
       "3  5755.037793\n",
       "4   172.712296"
      ]
     },
     "execution_count": 27,
     "metadata": {},
     "output_type": "execute_result"
    }
   ],
   "source": [
    "scores.head()"
   ]
  },
  {
   "cell_type": "code",
   "execution_count": 28,
   "metadata": {
    "colab": {
     "base_uri": "https://localhost:8080/",
     "height": 218
    },
    "id": "tBvcOiKj6bK5",
    "outputId": "1f3c0311-d44e-435a-e440-4fc22a404e61"
   },
   "outputs": [
    {
     "name": "stdout",
     "output_type": "stream",
     "text": [
      "           0\n",
      "0    balance\n",
      "1   duration\n",
      "2   campaign\n",
      "3      pdays\n",
      "4   previous\n",
      "5  education\n",
      "6    housing\n",
      "7       loan\n",
      "8    contact\n",
      "9   poutcome\n",
      "(10, 1)\n"
     ]
    }
   ],
   "source": [
    "# Note since we provided k = 10, it has selected the 10 best features only.\n",
    "print(columns)\n",
    "print(columns.shape)"
   ]
  },
  {
   "cell_type": "code",
   "execution_count": 29,
   "metadata": {
    "colab": {
     "base_uri": "https://localhost:8080/",
     "height": 34
    },
    "id": "sEw4HMoDTjYs",
    "outputId": "85f0610f-527c-48b8-d02e-76a5f1f10771"
   },
   "outputs": [
    {
     "data": {
      "text/plain": [
       "(31647, 10)"
      ]
     },
     "execution_count": 29,
     "metadata": {},
     "output_type": "execute_result"
    }
   ],
   "source": [
    "# Train logistic regression model with subset of features from K Best\n",
    "X_train, X_test = kfit.transform(X_train), kfit.transform(X_test)\n",
    "X_train.shape"
   ]
  },
  {
   "cell_type": "code",
   "execution_count": 30,
   "metadata": {
    "colab": {
     "base_uri": "https://localhost:8080/",
     "height": 101
    },
    "id": "gg1GG94j6bK-",
    "outputId": "412e8fd6-2cdb-4fb5-ea66-d3816d90b6e3"
   },
   "outputs": [
    {
     "data": {
      "text/plain": [
       "LogisticRegression(class_weight='balanced', max_iter=1000)"
      ]
     },
     "execution_count": 30,
     "metadata": {},
     "output_type": "execute_result"
    }
   ],
   "source": [
    "from sklearn.linear_model import LogisticRegression\n",
    "model = LogisticRegression(class_weight = 'balanced', max_iter = 1000)\n",
    "model.fit(X_train, y_train)"
   ]
  },
  {
   "cell_type": "code",
   "execution_count": 31,
   "metadata": {
    "colab": {
     "base_uri": "https://localhost:8080/",
     "height": 34
    },
    "id": "rPxen42W6bLC",
    "outputId": "e00c317a-7bb6-4276-fb4d-7a8dd7a47316"
   },
   "outputs": [
    {
     "name": "stdout",
     "output_type": "stream",
     "text": [
      "Accuracy on Training data:  0.7995702594242741\n"
     ]
    }
   ],
   "source": [
    "# evaluating the model on training data.\n",
    "from sklearn.metrics import accuracy_score\n",
    "y_pred_train = model.predict(X_train)\n",
    "print(\"Accuracy on Training data: \", accuracy_score(y_train, y_pred_train))"
   ]
  },
  {
   "cell_type": "code",
   "execution_count": 32,
   "metadata": {
    "colab": {
     "base_uri": "https://localhost:8080/",
     "height": 34
    },
    "id": "GYyvj3qYNQo1",
    "outputId": "7cc26b56-e6a8-4a58-dd6e-4695aca3e96e"
   },
   "outputs": [
    {
     "name": "stdout",
     "output_type": "stream",
     "text": [
      "Accuracy on Testing data :  0.8017546446475966\n"
     ]
    }
   ],
   "source": [
    "# evaluate the model on the testing data\n",
    "y_pred_test = model.predict(X_test)\n",
    "print(\"Accuracy on Testing data : \", accuracy_score(y_test, y_pred_test))"
   ]
  },
  {
   "cell_type": "code",
   "execution_count": 33,
   "metadata": {
    "id": "a7DaPOqIckol"
   },
   "outputs": [],
   "source": [
    "from sklearn.linear_model import LogisticRegression,SGDClassifier, RidgeClassifier\n",
    "from sklearn.tree import DecisionTreeClassifier\n",
    "from sklearn.feature_selection import RFE\n",
    "from sklearn.feature_selection import RFECV\n",
    "from sklearn.feature_selection import SelectKBest, chi2\n",
    "from sklearn.metrics import accuracy_score, f1_score\n",
    "from sklearn.metrics import f1_score,confusion_matrix\n",
    "from sklearn.model_selection import train_test_split\n",
    "from sklearn.linear_model import LogisticRegression\n"
   ]
  },
  {
   "cell_type": "markdown",
   "metadata": {
    "id": "AIG4cjGSOKSK"
   },
   "source": [
    "# Forward Selection"
   ]
  },
  {
   "cell_type": "code",
   "execution_count": 34,
   "metadata": {
    "colab": {
     "base_uri": "https://localhost:8080/",
     "height": 118
    },
    "id": "EULB-0-_OM-q",
    "outputId": "47d6dc18-5d66-4508-ec61-9b4832daa3be"
   },
   "outputs": [
    {
     "name": "stdout",
     "output_type": "stream",
     "text": [
      "(31647, 16)\n"
     ]
    },
    {
     "data": {
      "text/plain": [
       "LogisticRegression(class_weight='balanced', max_iter=2000)"
      ]
     },
     "execution_count": 34,
     "metadata": {},
     "output_type": "execute_result"
    }
   ],
   "source": [
    "# Train a logistic regression model here\n",
    "X_train, X_test, y_train, y_test = train_test_split(X, y, test_size = 0.3, shuffle = True)\n",
    "print(X_train.shape)\n",
    "model = LogisticRegression(class_weight = 'balanced', max_iter = 2000)\n",
    "model.fit(X_train, y_train)"
   ]
  },
  {
   "cell_type": "markdown",
   "metadata": {
    "id": "6NHBZaJ66bLL"
   },
   "source": [
    "Here we can observe that in under 2000 iterations the model converges when we take all the features into account.\n",
    "With the help of KBest, choosing 10 features and fitting the model on those 10 features resulted in convergence in under 1000 iterations only.\n",
    "\n",
    "Also the accuracy of the model in both the cases is similar.\n",
    "Hence, we can realize the importance of feature selection"
   ]
  },
  {
   "cell_type": "code",
   "execution_count": 35,
   "metadata": {
    "colab": {
     "base_uri": "https://localhost:8080/",
     "height": 34
    },
    "id": "FIJTsdVd6bLM",
    "outputId": "8bae7e86-edad-4555-993d-935625261b31"
   },
   "outputs": [
    {
     "name": "stdout",
     "output_type": "stream",
     "text": [
      "Accuracy on Training data:  0.7924605807817486\n"
     ]
    }
   ],
   "source": [
    "# evaluating the model on training data.\n",
    "from sklearn.metrics import accuracy_score\n",
    "y_pred_train = model.predict(X_train)\n",
    "print(\"Accuracy on Training data: \", accuracy_score(y_train, y_pred_train))"
   ]
  },
  {
   "cell_type": "code",
   "execution_count": 36,
   "metadata": {
    "colab": {
     "base_uri": "https://localhost:8080/",
     "height": 34
    },
    "id": "tcDkeF_x6bLP",
    "outputId": "4bc108d3-5e08-4d69-b59d-d8e20ec17b63"
   },
   "outputs": [
    {
     "name": "stdout",
     "output_type": "stream",
     "text": [
      "Accuracy on Testing data :  0.801091123562371\n"
     ]
    }
   ],
   "source": [
    "# evaluate the model on the testing data\n",
    "y_pred_test = model.predict(X_test)\n",
    "print(\"Accuracy on Testing data : \", accuracy_score(y_test, y_pred_test))"
   ]
  },
  {
   "cell_type": "code",
   "execution_count": 37,
   "metadata": {
    "colab": {
     "base_uri": "https://localhost:8080/",
     "height": 54
    },
    "id": "85CnW-DY6bLS",
    "outputId": "34df5e07-ae65-4686-ce69-afb3cf491a48"
   },
   "outputs": [
    {
     "name": "stdout",
     "output_type": "stream",
     "text": [
      "['age', 'balance', 'day', 'duration', 'campaign', 'pdays', 'previous', 'job', 'marital', 'education', 'default', 'housing', 'loan', 'contact', 'month', 'poutcome']\n"
     ]
    }
   ],
   "source": [
    "cols = list(X_train.columns)\n",
    "print(cols)"
   ]
  },
  {
   "cell_type": "code",
   "execution_count": 38,
   "metadata": {
    "id": "CBmsSFMvOc-E"
   },
   "outputs": [],
   "source": [
    "# Print the absolute weights of the model and sort them in descending order\n",
    "weights = list(model.coef_[0])"
   ]
  },
  {
   "cell_type": "code",
   "execution_count": 39,
   "metadata": {
    "colab": {
     "base_uri": "https://localhost:8080/",
     "height": 70
    },
    "id": "b6IlHWv46bLX",
    "outputId": "183f586d-51b3-4169-9ff7-f65333597282"
   },
   "outputs": [
    {
     "name": "stdout",
     "output_type": "stream",
     "text": [
      "Shape of weights :  16\n",
      "Weights :  [-0.0017293781967998693, 3.142005482902481e-05, -0.01043550982726513, 0.005176414963009845, -0.16258425562071668, 0.03982909480337777, 0.11513607720974263, 0.005944734663766763, 0.055029876337912495, 0.15024215265872598, -0.08377484048983437, -1.2579940815712345, -0.5774173310046898, -0.6909860145264065, 0.024758744779082603, -0.159563904335879]\n"
     ]
    }
   ],
   "source": [
    "print(\"Shape of weights : \", len(weights))\n",
    "print(\"Weights : \", weights)"
   ]
  },
  {
   "cell_type": "code",
   "execution_count": 40,
   "metadata": {
    "id": "lPrYYJff6bLd"
   },
   "outputs": [],
   "source": [
    "# sorting the weights in descending order.\n",
    "# weights.sort(reverse = True)\n",
    "# print(weights)"
   ]
  },
  {
   "cell_type": "code",
   "execution_count": 40,
   "metadata": {
    "id": "FR5zDm3R6bLh"
   },
   "outputs": [],
   "source": [
    "# sorting \n",
    "idx = np.argsort(-np.array(weights))\n",
    "\n",
    "weights = np.array(weights)[idx]\n",
    "cols = np.array(cols)[idx]"
   ]
  },
  {
   "cell_type": "code",
   "execution_count": 58,
   "metadata": {},
   "outputs": [],
   "source": [
    "orig_cols = cols"
   ]
  },
  {
   "cell_type": "code",
   "execution_count": 42,
   "metadata": {
    "colab": {
     "base_uri": "https://localhost:8080/",
     "height": 134
    },
    "id": "vP7Zfhg66bLl",
    "outputId": "166a44f5-afc2-4040-c3e5-f0623c293a60"
   },
   "outputs": [
    {
     "name": "stdout",
     "output_type": "stream",
     "text": [
      "[ 1.58644150e-01  1.14984633e-01  6.05550378e-02  4.77174165e-02\n",
      "  2.34046175e-02  5.34946421e-03  8.22115168e-04  2.86315028e-05\n",
      " -2.52050212e-03 -1.13631365e-02 -8.43711734e-02 -1.43103395e-01\n",
      " -1.64657210e-01 -6.29509035e-01 -6.76311714e-01 -1.27712645e+00]\n",
      "['education' 'previous' 'marital' 'pdays' 'month' 'duration' 'job'\n",
      " 'balance' 'age' 'day' 'default' 'campaign' 'poutcome' 'loan' 'contact'\n",
      " 'housing']\n"
     ]
    }
   ],
   "source": [
    "print(weights)\n",
    "print(cols)"
   ]
  },
  {
   "cell_type": "code",
   "execution_count": 41,
   "metadata": {
    "colab": {
     "base_uri": "https://localhost:8080/",
     "height": 322
    },
    "id": "qoq-TQbk6bLo",
    "outputId": "de46d43a-d985-427d-f404-c329228bcd25"
   },
   "outputs": [
    {
     "name": "stdout",
     "output_type": "stream",
     "text": [
      "Part :  1  done!\n",
      "Part :  2  done!\n",
      "Part :  3  done!\n",
      "Part :  4  done!\n",
      "Part :  5  done!\n",
      "Part :  6  done!\n",
      "Part :  7  done!\n",
      "Part :  8  done!\n",
      "Part :  9  done!\n",
      "Part :  10  done!\n",
      "Part :  11  done!\n",
      "Part :  12  done!\n",
      "Part :  13  done!\n",
      "Part :  14  done!\n",
      "Part :  15  done!\n"
     ]
    }
   ],
   "source": [
    "# Run a for loop where each time you train a new model by removing features (from no of features n to 1) \n",
    "# with lowest weights (based on absolute weight from initial model) \n",
    "# Note you can choose features randomly also \n",
    "\n",
    "from mlxtend.feature_selection import SequentialFeatureSelector\n",
    "from sklearn.model_selection import KFold\n",
    "# Print the accuracies of all the models trained and names of the features used for each time\n",
    "model = LogisticRegression(class_weight = 'balanced',  max_iter = 1000)\n",
    "scores, features = [], []\n",
    "for i in range(1, X_train.shape[1]):\n",
    "    sfs = SequentialFeatureSelector(estimator = model, k_features = i, forward = True, scoring = 'accuracy', n_jobs = -1)\n",
    "    sfs.fit(X_train, y_train)\n",
    "    score = sfs.k_score_\n",
    "    scores.append(sfs.k_score_)\n",
    "    features.append(sfs.k_feature_names_)\n",
    "    print(\"Part : \", i, \" done!\")"
   ]
  },
  {
   "cell_type": "code",
   "execution_count": 42,
   "metadata": {
    "colab": {
     "base_uri": "https://localhost:8080/",
     "height": 1000
    },
    "id": "_4-OhYiWPkvl",
    "outputId": "5e8340b9-a2de-47c3-bbbe-55baaaf5457d"
   },
   "outputs": [
    {
     "name": "stdout",
     "output_type": "stream",
     "text": [
      "No. of features :  1\n",
      "Features :  ('duration',)\n",
      "Score :  0.7893956079203106\n",
      "----------------------------------------\n",
      "No. of features :  2\n",
      "Features :  ('duration', 'previous')\n",
      "Score :  0.79742162821806\n",
      "----------------------------------------\n",
      "No. of features :  3\n",
      "Features :  ('duration', 'previous', 'housing')\n",
      "Score :  0.8024139639568805\n",
      "----------------------------------------\n",
      "No. of features :  4\n",
      "Features :  ('duration', 'previous', 'housing', 'loan')\n",
      "Score :  0.8041202598834772\n",
      "----------------------------------------\n",
      "No. of features :  5\n",
      "Features :  ('balance', 'duration', 'previous', 'housing', 'loan')\n",
      "Score :  0.8045626728390116\n",
      "----------------------------------------\n",
      "No. of features :  6\n",
      "Features :  ('balance', 'duration', 'previous', 'default', 'housing', 'loan')\n",
      "Score :  0.8047207056362087\n",
      "----------------------------------------\n",
      "No. of features :  7\n",
      "Features :  ('balance', 'duration', 'previous', 'job', 'default', 'housing', 'loan')\n",
      "Score :  0.8036780366311996\n",
      "----------------------------------------\n",
      "No. of features :  8\n",
      "Features :  ('balance', 'duration', 'campaign', 'previous', 'job', 'default', 'housing', 'loan')\n",
      "Score :  0.8010868498950516\n",
      "----------------------------------------\n",
      "No. of features :  9\n",
      "Features :  ('balance', 'duration', 'campaign', 'pdays', 'previous', 'job', 'default', 'housing', 'loan')\n",
      "Score :  0.8022562207067594\n",
      "----------------------------------------\n",
      "No. of features :  10\n",
      "Features :  ('balance', 'day', 'duration', 'campaign', 'pdays', 'previous', 'job', 'default', 'housing', 'loan')\n",
      "Score :  0.7998232365023014\n",
      "----------------------------------------\n",
      "No. of features :  11\n",
      "Features :  ('balance', 'day', 'duration', 'campaign', 'pdays', 'previous', 'job', 'education', 'default', 'housing', 'loan')\n",
      "Score :  0.7986536709951458\n",
      "----------------------------------------\n",
      "No. of features :  12\n",
      "Features :  ('balance', 'day', 'duration', 'campaign', 'pdays', 'previous', 'job', 'marital', 'education', 'default', 'housing', 'loan')\n",
      "Score :  0.7997284298036795\n",
      "----------------------------------------\n",
      "No. of features :  13\n",
      "Features :  ('balance', 'day', 'duration', 'campaign', 'pdays', 'previous', 'job', 'marital', 'education', 'default', 'housing', 'loan', 'contact')\n",
      "Score :  0.7950834007903138\n",
      "----------------------------------------\n",
      "No. of features :  14\n",
      "Features :  ('balance', 'day', 'duration', 'campaign', 'pdays', 'previous', 'job', 'marital', 'education', 'default', 'housing', 'loan', 'contact', 'poutcome')\n",
      "Score :  0.7931872468491163\n",
      "----------------------------------------\n",
      "No. of features :  15\n",
      "Features :  ('age', 'balance', 'day', 'duration', 'campaign', 'pdays', 'previous', 'job', 'marital', 'education', 'default', 'housing', 'loan', 'contact', 'poutcome')\n",
      "Score :  0.7929661177503091\n",
      "----------------------------------------\n"
     ]
    }
   ],
   "source": [
    "# Print the accuracies of all the models trained and names of the features used for each time\n",
    "\n",
    "for feature, score in zip(features, scores):\n",
    "    print(\"No. of features : \", len(feature))\n",
    "    print(\"Features : \", feature)\n",
    "    print(\"Score : \", score)\n",
    "    print(\"----------------------------------------\")"
   ]
  },
  {
   "cell_type": "code",
   "execution_count": 43,
   "metadata": {
    "colab": {
     "base_uri": "https://localhost:8080/",
     "height": 87
    },
    "id": "8C9WcnW46bLu",
    "outputId": "aec2bc7a-4013-4e84-e80b-96421226fece"
   },
   "outputs": [
    {
     "name": "stdout",
     "output_type": "stream",
     "text": [
      "Best Score :  0.8047207056362087\n",
      "No.of features selected :  6\n",
      "Features selected :  ('balance', 'duration', 'previous', 'default', 'housing', 'loan')\n"
     ]
    }
   ],
   "source": [
    "# Find a feature subset number where accuracy is maximum and number of features is minimum at the same time\n",
    "\n",
    "index = np.argmax(np.array(scores))\n",
    "print(\"Best Score : \", scores[index])\n",
    "print(\"No.of features selected : \", len(features[index]))\n",
    "print(\"Features selected : \", features[index])"
   ]
  },
  {
   "cell_type": "code",
   "execution_count": 94,
   "metadata": {
    "id": "SMBO3fa2G0sT"
   },
   "outputs": [],
   "source": [
    "X = banking1.drop(columns = ['Action'], axis = 1)\n",
    "y = banking1['Action']"
   ]
  },
  {
   "cell_type": "code",
   "execution_count": 95,
   "metadata": {
    "id": "ULv-4QDOEyoj"
   },
   "outputs": [],
   "source": [
    "X_train, X_test, y_train, y_test = train_test_split(X, y, test_size = 0.3, shuffle = True)"
   ]
  },
  {
   "cell_type": "code",
   "execution_count": 96,
   "metadata": {},
   "outputs": [
    {
     "data": {
      "text/plain": [
       "Index(['age', 'balance', 'day', 'duration', 'campaign', 'pdays', 'previous',\n",
       "       'job', 'marital', 'education', 'default', 'housing', 'loan', 'contact',\n",
       "       'month', 'poutcome'],\n",
       "      dtype='object')"
      ]
     },
     "execution_count": 96,
     "metadata": {},
     "output_type": "execute_result"
    }
   ],
   "source": [
    "X_train.columns"
   ]
  },
  {
   "cell_type": "code",
   "execution_count": 97,
   "metadata": {},
   "outputs": [
    {
     "name": "stdout",
     "output_type": "stream",
     "text": [
      "<class 'list'>\n",
      "16\n"
     ]
    }
   ],
   "source": [
    "orig_cols = list(orig_cols)\n",
    "print(type(orig_cols))\n",
    "print(len(orig_cols))"
   ]
  },
  {
   "cell_type": "code",
   "execution_count": 98,
   "metadata": {},
   "outputs": [
    {
     "name": "stdout",
     "output_type": "stream",
     "text": [
      "['education', 'previous', 'marital', 'pdays', 'month', 'job', 'duration', 'balance', 'age', 'day', 'default', 'poutcome', 'campaign', 'loan', 'contact', 'housing']\n"
     ]
    }
   ],
   "source": [
    "print(orig_cols)"
   ]
  },
  {
   "cell_type": "markdown",
   "metadata": {
    "id": "NdpVkxU6Psji"
   },
   "source": [
    "# Backward Elimination"
   ]
  },
  {
   "cell_type": "code",
   "execution_count": 100,
   "metadata": {},
   "outputs": [
    {
     "name": "stdout",
     "output_type": "stream",
     "text": [
      "Part  15  done!\n",
      "Part  14  done!\n",
      "Part  13  done!\n",
      "Part  12  done!\n",
      "Part  11  done!\n",
      "Part  10  done!\n",
      "Part  9  done!\n",
      "Part  8  done!\n",
      "Part  7  done!\n",
      "Part  6  done!\n",
      "Part  5  done!\n",
      "Part  4  done!\n",
      "Part  3  done!\n",
      "Part  2  done!\n",
      "Part  1  done!\n"
     ]
    }
   ],
   "source": [
    "# self code\n",
    "train_acc, test_acc, features = [], [], []\n",
    "for i in range(len(orig_cols) - 1, 0, -1):\n",
    "    feature = []\n",
    "    for j in range(i):\n",
    "        feature.append(orig_cols[j])\n",
    "    \n",
    "    features.append(feature)    \n",
    "    X_train_back = X_train[feature]\n",
    "    X_test_back = X_test[feature]\n",
    "    \n",
    "    lr = LogisticRegression(class_weight = 'balanced', max_iter = 3000)\n",
    "    lr.fit(X_train_back, y_train)\n",
    "    \n",
    "    train_acc.append(accuracy_score(y_train, lr.predict(X_train_back)))\n",
    "    test_acc.append(accuracy_score(y_test, lr.predict(X_test_back)))\n",
    "    print(\"Part \", i, \" done!\")"
   ]
  },
  {
   "cell_type": "code",
   "execution_count": 136,
   "metadata": {},
   "outputs": [
    {
     "name": "stdout",
     "output_type": "stream",
     "text": [
      "No. of features :  15\n",
      "Features :  ['education', 'previous', 'marital', 'pdays', 'month', 'job', 'duration', 'balance', 'age', 'day', 'default', 'poutcome', 'campaign', 'loan', 'contact']\n",
      "Training score :  0.791007046481499\n",
      "Testing score :  0.7929076968445886\n",
      "------------------------------------------------------\n",
      "No. of features :  14\n",
      "Features :  ['education', 'previous', 'marital', 'pdays', 'month', 'job', 'duration', 'balance', 'age', 'day', 'default', 'poutcome', 'campaign', 'loan']\n",
      "Training score :  0.7799159477991595\n",
      "Testing score :  0.7817752875258036\n",
      "------------------------------------------------------\n",
      "No. of features :  13\n",
      "Features :  ['education', 'previous', 'marital', 'pdays', 'month', 'job', 'duration', 'balance', 'age', 'day', 'default', 'poutcome', 'campaign']\n",
      "Training score :  0.7917022150598793\n",
      "Testing score :  0.7957092303155411\n",
      "------------------------------------------------------\n",
      "No. of features :  12\n",
      "Features :  ['education', 'previous', 'marital', 'pdays', 'month', 'job', 'duration', 'balance', 'age', 'day', 'default', 'poutcome']\n",
      "Training score :  0.794293297942933\n",
      "Testing score :  0.797773518136243\n",
      "------------------------------------------------------\n",
      "No. of features :  11\n",
      "Features :  ['education', 'previous', 'marital', 'pdays', 'month', 'job', 'duration', 'balance', 'age', 'day', 'default']\n",
      "Training score :  0.796568395108541\n",
      "Testing score :  0.7994691831318195\n",
      "------------------------------------------------------\n",
      "No. of features :  10\n",
      "Features :  ['education', 'previous', 'marital', 'pdays', 'month', 'job', 'duration', 'balance', 'age', 'day']\n",
      "Training score :  0.7973899579738996\n",
      "Testing score :  0.8007225007372456\n",
      "------------------------------------------------------\n",
      "No. of features :  9\n",
      "Features :  ['education', 'previous', 'marital', 'pdays', 'month', 'job', 'duration', 'balance', 'age']\n",
      "Training score :  0.7979903308370462\n",
      "Testing score :  0.8000589796520201\n",
      "------------------------------------------------------\n",
      "No. of features :  8\n",
      "Features :  ['education', 'previous', 'marital', 'pdays', 'month', 'job', 'duration', 'balance']\n",
      "Training score :  0.7968843808259867\n",
      "Testing score :  0.8013122972574461\n",
      "------------------------------------------------------\n",
      "No. of features :  7\n",
      "Features :  ['education', 'previous', 'marital', 'pdays', 'month', 'job', 'duration']\n",
      "Training score :  0.7925869750687269\n",
      "Testing score :  0.7934974933647891\n",
      "------------------------------------------------------\n",
      "No. of features :  6\n",
      "Features :  ['education', 'previous', 'marital', 'pdays', 'month', 'job']\n",
      "Training score :  0.6617372894745157\n",
      "Testing score :  0.6616779710999705\n",
      "------------------------------------------------------\n",
      "No. of features :  5\n",
      "Features :  ['education', 'previous', 'marital', 'pdays', 'month']\n",
      "Training score :  0.6603153537460107\n",
      "Testing score :  0.6597611324093188\n",
      "------------------------------------------------------\n",
      "No. of features :  4\n",
      "Features :  ['education', 'previous', 'marital', 'pdays']\n",
      "Training score :  0.7015198913009132\n",
      "Testing score :  0.7037009731642583\n",
      "------------------------------------------------------\n",
      "No. of features :  3\n",
      "Features :  ['education', 'previous', 'marital']\n",
      "Training score :  0.7225329415110437\n",
      "Testing score :  0.7274402831023297\n",
      "------------------------------------------------------\n",
      "No. of features :  2\n",
      "Features :  ['education', 'previous']\n",
      "Training score :  0.6029007488861503\n",
      "Testing score :  0.6127985844883516\n",
      "------------------------------------------------------\n",
      "No. of features :  1\n",
      "Features :  ['education']\n",
      "Training score :  0.6447056593041994\n",
      "Testing score :  0.6529784724270127\n",
      "------------------------------------------------------\n"
     ]
    }
   ],
   "source": [
    "# Print the accuracies of all the models trained and names of the features used for each time\n",
    "for i, feature in enumerate(features):\n",
    "    print(\"No. of features : \", len(feature))\n",
    "    print(\"Features : \", feature)\n",
    "    print(\"Training score : \", train_acc[i])\n",
    "    print(\"Testing score : \", test_acc[i])\n",
    "    print(\"------------------------------------------------------\")"
   ]
  },
  {
   "cell_type": "code",
   "execution_count": 137,
   "metadata": {},
   "outputs": [
    {
     "name": "stdout",
     "output_type": "stream",
     "text": [
      "Best Score :  0.8010868498950516\n",
      "No.of features selected :  8\n",
      "Features selected :  ['education', 'previous', 'marital', 'pdays', 'month', 'job', 'duration', 'balance']\n"
     ]
    }
   ],
   "source": [
    "# Find a feature subset number where accuracy is maximum and number of features is minimum at the same time\n",
    "\n",
    "index = np.argmax(np.array(test_acc))\n",
    "print(\"Best Score : \", scores[index])\n",
    "print(\"No.of features selected : \", len(features[index]))\n",
    "print(\"Features selected : \", features[index])"
   ]
  },
  {
   "cell_type": "code",
   "execution_count": 46,
   "metadata": {
    "id": "6rpbcXLP6bLx"
   },
   "outputs": [
    {
     "name": "stdout",
     "output_type": "stream",
     "text": [
      "Score :  0.7929661177503091\n",
      "Features :  ('age', 'balance', 'day', 'duration', 'campaign', 'pdays', 'previous', 'job', 'marital', 'education', 'default', 'housing', 'loan', 'contact', 'poutcome')\n"
     ]
    }
   ],
   "source": [
    "# Run a for loop where each time you train a new model by removing features (from no of features n to 1) \n",
    "# with lowest weights (based on absolute weight from initial model) \n",
    "# Note you can choose features randomly also \n",
    "\n",
    "# from mlxtend.feature_selection import SequentialFeatureSelector\n",
    "\n",
    "# # Print the accuracies of all the models trained and names of the features used for each time\n",
    "# model1 = LogisticRegression(class_weight = 'balanced',  max_iter = 5000)\n",
    "# sfs1 = SequentialFeatureSelector(estimator = model1, k_features = 13, forward = False, scoring = 'accuracy', n_jobs = -1)\n",
    "# sfs1.fit(X_train, y_train)\n",
    "# score = sfs.k_score_\n",
    "# features = sfs.k_feature_names_\n",
    "\n",
    "# print(\"Score : \", score)\n",
    "# print(\"Features : \", features)"
   ]
  },
  {
   "cell_type": "markdown",
   "metadata": {
    "id": "eADqqSm1-wmM"
   },
   "source": [
    "# Recursive Feature Elimination. \n",
    "Recursive Feature Elimination (RFE) as its title suggests recursively removes features, builds a model using the remaining attributes and calculates model accuracy. \n"
   ]
  },
  {
   "cell_type": "code",
   "execution_count": 101,
   "metadata": {
    "id": "rf6KdlgD3tiR"
   },
   "outputs": [],
   "source": [
    "X = banking1.drop(columns = ['Action'], axis = 1)\n",
    "y = banking1['Action']\n",
    "logit = LogisticRegression(class_weight = 'balanced', max_iter = 4000)"
   ]
  },
  {
   "cell_type": "code",
   "execution_count": 102,
   "metadata": {
    "id": "Pc2ijrbDDnzS"
   },
   "outputs": [],
   "source": [
    "X_train,X_test,y_train,y_test = train_test_split(X, y, test_size = 0.3, random_state = 10)"
   ]
  },
  {
   "cell_type": "code",
   "execution_count": 103,
   "metadata": {
    "id": "apwow9tecYmi"
   },
   "outputs": [],
   "source": [
    "rfe = RFE(estimator = logit, step=1) # by default half of the features are selected\n",
    "rfe = rfe.fit(X_train, y_train)"
   ]
  },
  {
   "cell_type": "code",
   "execution_count": 104,
   "metadata": {
    "id": "kjp8m1pL44Xi"
   },
   "outputs": [],
   "source": [
    "cols = pd.DataFrame(X_train.columns)\n",
    "ranking = pd.DataFrame(rfe.ranking_)"
   ]
  },
  {
   "cell_type": "code",
   "execution_count": 105,
   "metadata": {
    "id": "Mh8fWvvGD9eJ"
   },
   "outputs": [],
   "source": [
    "rankings_of_features = pd.concat([cols,ranking],axis = 1)"
   ]
  },
  {
   "cell_type": "code",
   "execution_count": 106,
   "metadata": {
    "colab": {
     "base_uri": "https://localhost:8080/",
     "height": 521
    },
    "id": "CCpW4RjuEQwT",
    "outputId": "09114277-3a8d-4e5c-bc07-34aa5cd3b39e"
   },
   "outputs": [
    {
     "data": {
      "text/html": [
       "<div>\n",
       "<style scoped>\n",
       "    .dataframe tbody tr th:only-of-type {\n",
       "        vertical-align: middle;\n",
       "    }\n",
       "\n",
       "    .dataframe tbody tr th {\n",
       "        vertical-align: top;\n",
       "    }\n",
       "\n",
       "    .dataframe thead th {\n",
       "        text-align: right;\n",
       "    }\n",
       "</style>\n",
       "<table border=\"1\" class=\"dataframe\">\n",
       "  <thead>\n",
       "    <tr style=\"text-align: right;\">\n",
       "      <th></th>\n",
       "      <th>0</th>\n",
       "      <th>0</th>\n",
       "    </tr>\n",
       "  </thead>\n",
       "  <tbody>\n",
       "    <tr>\n",
       "      <th>0</th>\n",
       "      <td>age</td>\n",
       "      <td>5</td>\n",
       "    </tr>\n",
       "    <tr>\n",
       "      <th>1</th>\n",
       "      <td>balance</td>\n",
       "      <td>9</td>\n",
       "    </tr>\n",
       "    <tr>\n",
       "      <th>2</th>\n",
       "      <td>day</td>\n",
       "      <td>6</td>\n",
       "    </tr>\n",
       "    <tr>\n",
       "      <th>3</th>\n",
       "      <td>duration</td>\n",
       "      <td>8</td>\n",
       "    </tr>\n",
       "    <tr>\n",
       "      <th>4</th>\n",
       "      <td>campaign</td>\n",
       "      <td>3</td>\n",
       "    </tr>\n",
       "    <tr>\n",
       "      <th>5</th>\n",
       "      <td>pdays</td>\n",
       "      <td>1</td>\n",
       "    </tr>\n",
       "    <tr>\n",
       "      <th>6</th>\n",
       "      <td>previous</td>\n",
       "      <td>2</td>\n",
       "    </tr>\n",
       "    <tr>\n",
       "      <th>7</th>\n",
       "      <td>job</td>\n",
       "      <td>7</td>\n",
       "    </tr>\n",
       "    <tr>\n",
       "      <th>8</th>\n",
       "      <td>marital</td>\n",
       "      <td>1</td>\n",
       "    </tr>\n",
       "    <tr>\n",
       "      <th>9</th>\n",
       "      <td>education</td>\n",
       "      <td>1</td>\n",
       "    </tr>\n",
       "    <tr>\n",
       "      <th>10</th>\n",
       "      <td>default</td>\n",
       "      <td>1</td>\n",
       "    </tr>\n",
       "    <tr>\n",
       "      <th>11</th>\n",
       "      <td>housing</td>\n",
       "      <td>1</td>\n",
       "    </tr>\n",
       "    <tr>\n",
       "      <th>12</th>\n",
       "      <td>loan</td>\n",
       "      <td>1</td>\n",
       "    </tr>\n",
       "    <tr>\n",
       "      <th>13</th>\n",
       "      <td>contact</td>\n",
       "      <td>1</td>\n",
       "    </tr>\n",
       "    <tr>\n",
       "      <th>14</th>\n",
       "      <td>month</td>\n",
       "      <td>4</td>\n",
       "    </tr>\n",
       "    <tr>\n",
       "      <th>15</th>\n",
       "      <td>poutcome</td>\n",
       "      <td>1</td>\n",
       "    </tr>\n",
       "  </tbody>\n",
       "</table>\n",
       "</div>"
      ],
      "text/plain": [
       "            0  0\n",
       "0         age  5\n",
       "1     balance  9\n",
       "2         day  6\n",
       "3    duration  8\n",
       "4    campaign  3\n",
       "5       pdays  1\n",
       "6    previous  2\n",
       "7         job  7\n",
       "8     marital  1\n",
       "9   education  1\n",
       "10    default  1\n",
       "11    housing  1\n",
       "12       loan  1\n",
       "13    contact  1\n",
       "14      month  4\n",
       "15   poutcome  1"
      ]
     },
     "execution_count": 106,
     "metadata": {},
     "output_type": "execute_result"
    }
   ],
   "source": [
    "rankings_of_features"
   ]
  },
  {
   "cell_type": "code",
   "execution_count": 107,
   "metadata": {
    "id": "JFCzpmJhEedk"
   },
   "outputs": [],
   "source": [
    "rankings_of_features.columns = ['Feature name', 'Rank Order']"
   ]
  },
  {
   "cell_type": "code",
   "execution_count": 108,
   "metadata": {
    "colab": {
     "base_uri": "https://localhost:8080/",
     "height": 521
    },
    "id": "89pvzdHuFzNW",
    "outputId": "4cec53f2-6768-4168-c4f1-0bf1ce9ce044"
   },
   "outputs": [
    {
     "data": {
      "text/html": [
       "<div>\n",
       "<style scoped>\n",
       "    .dataframe tbody tr th:only-of-type {\n",
       "        vertical-align: middle;\n",
       "    }\n",
       "\n",
       "    .dataframe tbody tr th {\n",
       "        vertical-align: top;\n",
       "    }\n",
       "\n",
       "    .dataframe thead th {\n",
       "        text-align: right;\n",
       "    }\n",
       "</style>\n",
       "<table border=\"1\" class=\"dataframe\">\n",
       "  <thead>\n",
       "    <tr style=\"text-align: right;\">\n",
       "      <th></th>\n",
       "      <th>Feature name</th>\n",
       "      <th>Rank Order</th>\n",
       "    </tr>\n",
       "  </thead>\n",
       "  <tbody>\n",
       "    <tr>\n",
       "      <th>0</th>\n",
       "      <td>age</td>\n",
       "      <td>5</td>\n",
       "    </tr>\n",
       "    <tr>\n",
       "      <th>1</th>\n",
       "      <td>balance</td>\n",
       "      <td>9</td>\n",
       "    </tr>\n",
       "    <tr>\n",
       "      <th>2</th>\n",
       "      <td>day</td>\n",
       "      <td>6</td>\n",
       "    </tr>\n",
       "    <tr>\n",
       "      <th>3</th>\n",
       "      <td>duration</td>\n",
       "      <td>8</td>\n",
       "    </tr>\n",
       "    <tr>\n",
       "      <th>4</th>\n",
       "      <td>campaign</td>\n",
       "      <td>3</td>\n",
       "    </tr>\n",
       "    <tr>\n",
       "      <th>5</th>\n",
       "      <td>pdays</td>\n",
       "      <td>1</td>\n",
       "    </tr>\n",
       "    <tr>\n",
       "      <th>6</th>\n",
       "      <td>previous</td>\n",
       "      <td>2</td>\n",
       "    </tr>\n",
       "    <tr>\n",
       "      <th>7</th>\n",
       "      <td>job</td>\n",
       "      <td>7</td>\n",
       "    </tr>\n",
       "    <tr>\n",
       "      <th>8</th>\n",
       "      <td>marital</td>\n",
       "      <td>1</td>\n",
       "    </tr>\n",
       "    <tr>\n",
       "      <th>9</th>\n",
       "      <td>education</td>\n",
       "      <td>1</td>\n",
       "    </tr>\n",
       "    <tr>\n",
       "      <th>10</th>\n",
       "      <td>default</td>\n",
       "      <td>1</td>\n",
       "    </tr>\n",
       "    <tr>\n",
       "      <th>11</th>\n",
       "      <td>housing</td>\n",
       "      <td>1</td>\n",
       "    </tr>\n",
       "    <tr>\n",
       "      <th>12</th>\n",
       "      <td>loan</td>\n",
       "      <td>1</td>\n",
       "    </tr>\n",
       "    <tr>\n",
       "      <th>13</th>\n",
       "      <td>contact</td>\n",
       "      <td>1</td>\n",
       "    </tr>\n",
       "    <tr>\n",
       "      <th>14</th>\n",
       "      <td>month</td>\n",
       "      <td>4</td>\n",
       "    </tr>\n",
       "    <tr>\n",
       "      <th>15</th>\n",
       "      <td>poutcome</td>\n",
       "      <td>1</td>\n",
       "    </tr>\n",
       "  </tbody>\n",
       "</table>\n",
       "</div>"
      ],
      "text/plain": [
       "   Feature name  Rank Order\n",
       "0           age           5\n",
       "1       balance           9\n",
       "2           day           6\n",
       "3      duration           8\n",
       "4      campaign           3\n",
       "5         pdays           1\n",
       "6      previous           2\n",
       "7           job           7\n",
       "8       marital           1\n",
       "9     education           1\n",
       "10      default           1\n",
       "11      housing           1\n",
       "12         loan           1\n",
       "13      contact           1\n",
       "14        month           4\n",
       "15     poutcome           1"
      ]
     },
     "execution_count": 108,
     "metadata": {},
     "output_type": "execute_result"
    }
   ],
   "source": [
    "# estimated 7 best features are ranked 1\n",
    "rankings_of_features"
   ]
  },
  {
   "cell_type": "code",
   "execution_count": 109,
   "metadata": {
    "colab": {
     "base_uri": "https://localhost:8080/",
     "height": 118
    },
    "id": "MzrDO56SF1od",
    "outputId": "deae6116-c656-4b5b-bdfa-78b3ec03b170"
   },
   "outputs": [
    {
     "name": "stdout",
     "output_type": "stream",
     "text": [
      "  Feature name  Rank Order\n",
      "1      balance           9\n",
      "3     duration           8\n",
      "7          job           7\n",
      "2          day           6\n",
      "0          age           5\n"
     ]
    }
   ],
   "source": [
    "print(rankings_of_features.nlargest(5,'Rank Order'))\n",
    "#remember this gives wrong results"
   ]
  },
  {
   "cell_type": "code",
   "execution_count": 110,
   "metadata": {
    "colab": {
     "base_uri": "https://localhost:8080/",
     "height": 521
    },
    "id": "Lf8JHn4oGAPv",
    "outputId": "bff0c3fb-1194-4e7a-c4cc-599dc4da09fb"
   },
   "outputs": [
    {
     "data": {
      "text/html": [
       "<div>\n",
       "<style scoped>\n",
       "    .dataframe tbody tr th:only-of-type {\n",
       "        vertical-align: middle;\n",
       "    }\n",
       "\n",
       "    .dataframe tbody tr th {\n",
       "        vertical-align: top;\n",
       "    }\n",
       "\n",
       "    .dataframe thead th {\n",
       "        text-align: right;\n",
       "    }\n",
       "</style>\n",
       "<table border=\"1\" class=\"dataframe\">\n",
       "  <thead>\n",
       "    <tr style=\"text-align: right;\">\n",
       "      <th></th>\n",
       "      <th>Feature name</th>\n",
       "      <th>Rank Order</th>\n",
       "    </tr>\n",
       "  </thead>\n",
       "  <tbody>\n",
       "    <tr>\n",
       "      <th>5</th>\n",
       "      <td>pdays</td>\n",
       "      <td>1</td>\n",
       "    </tr>\n",
       "    <tr>\n",
       "      <th>8</th>\n",
       "      <td>marital</td>\n",
       "      <td>1</td>\n",
       "    </tr>\n",
       "    <tr>\n",
       "      <th>9</th>\n",
       "      <td>education</td>\n",
       "      <td>1</td>\n",
       "    </tr>\n",
       "    <tr>\n",
       "      <th>10</th>\n",
       "      <td>default</td>\n",
       "      <td>1</td>\n",
       "    </tr>\n",
       "    <tr>\n",
       "      <th>11</th>\n",
       "      <td>housing</td>\n",
       "      <td>1</td>\n",
       "    </tr>\n",
       "    <tr>\n",
       "      <th>12</th>\n",
       "      <td>loan</td>\n",
       "      <td>1</td>\n",
       "    </tr>\n",
       "    <tr>\n",
       "      <th>13</th>\n",
       "      <td>contact</td>\n",
       "      <td>1</td>\n",
       "    </tr>\n",
       "    <tr>\n",
       "      <th>15</th>\n",
       "      <td>poutcome</td>\n",
       "      <td>1</td>\n",
       "    </tr>\n",
       "    <tr>\n",
       "      <th>6</th>\n",
       "      <td>previous</td>\n",
       "      <td>2</td>\n",
       "    </tr>\n",
       "    <tr>\n",
       "      <th>4</th>\n",
       "      <td>campaign</td>\n",
       "      <td>3</td>\n",
       "    </tr>\n",
       "    <tr>\n",
       "      <th>14</th>\n",
       "      <td>month</td>\n",
       "      <td>4</td>\n",
       "    </tr>\n",
       "    <tr>\n",
       "      <th>0</th>\n",
       "      <td>age</td>\n",
       "      <td>5</td>\n",
       "    </tr>\n",
       "    <tr>\n",
       "      <th>2</th>\n",
       "      <td>day</td>\n",
       "      <td>6</td>\n",
       "    </tr>\n",
       "    <tr>\n",
       "      <th>7</th>\n",
       "      <td>job</td>\n",
       "      <td>7</td>\n",
       "    </tr>\n",
       "    <tr>\n",
       "      <th>3</th>\n",
       "      <td>duration</td>\n",
       "      <td>8</td>\n",
       "    </tr>\n",
       "    <tr>\n",
       "      <th>1</th>\n",
       "      <td>balance</td>\n",
       "      <td>9</td>\n",
       "    </tr>\n",
       "  </tbody>\n",
       "</table>\n",
       "</div>"
      ],
      "text/plain": [
       "   Feature name  Rank Order\n",
       "5         pdays           1\n",
       "8       marital           1\n",
       "9     education           1\n",
       "10      default           1\n",
       "11      housing           1\n",
       "12         loan           1\n",
       "13      contact           1\n",
       "15     poutcome           1\n",
       "6      previous           2\n",
       "4      campaign           3\n",
       "14        month           4\n",
       "0           age           5\n",
       "2           day           6\n",
       "7           job           7\n",
       "3      duration           8\n",
       "1       balance           9"
      ]
     },
     "execution_count": 110,
     "metadata": {},
     "output_type": "execute_result"
    }
   ],
   "source": [
    "rankings_of_features.sort_values(by='Rank Order')"
   ]
  },
  {
   "cell_type": "code",
   "execution_count": 111,
   "metadata": {
    "id": "r9lsliGEGQ9W"
   },
   "outputs": [],
   "source": [
    "#replace your X_train,X_test with new training data(the one which contains most impactful features)\n",
    "X_trainRFE = rfe.transform(X_train)\n",
    "X_testRFE = rfe.transform(X_test)"
   ]
  },
  {
   "cell_type": "code",
   "execution_count": 112,
   "metadata": {
    "colab": {
     "base_uri": "https://localhost:8080/",
     "height": 50
    },
    "id": "dKwl2WoRMmND",
    "outputId": "f591d9af-89d7-4099-f728-21bf2acdc73e"
   },
   "outputs": [
    {
     "name": "stdout",
     "output_type": "stream",
     "text": [
      "X train shape :  (31647, 16)\n",
      "X train RFE shape :  (31647, 8)\n"
     ]
    }
   ],
   "source": [
    "print(\"X train shape : \", X_train.shape)\n",
    "print(\"X train RFE shape : \", X_trainRFE.shape)"
   ]
  },
  {
   "cell_type": "code",
   "execution_count": 113,
   "metadata": {
    "id": "xLIMcEtsHB26"
   },
   "outputs": [],
   "source": [
    "model = logit.fit(X_trainRFE, y_train)"
   ]
  },
  {
   "cell_type": "code",
   "execution_count": 114,
   "metadata": {
    "colab": {
     "base_uri": "https://localhost:8080/",
     "height": 34
    },
    "id": "75vOXFrzM7LB",
    "outputId": "3a555ba2-296d-4415-93d8-3bac521c5a80"
   },
   "outputs": [
    {
     "name": "stdout",
     "output_type": "stream",
     "text": [
      "Accuracy on Training data:  0.6248933548203621\n"
     ]
    }
   ],
   "source": [
    "# evaluating the model on training data.\n",
    "from sklearn.metrics import accuracy_score\n",
    "y_pred_train = model.predict(X_trainRFE)\n",
    "print(\"Accuracy on Training data: \", accuracy_score(y_train, y_pred_train))"
   ]
  },
  {
   "cell_type": "code",
   "execution_count": 115,
   "metadata": {
    "colab": {
     "base_uri": "https://localhost:8080/",
     "height": 34
    },
    "id": "oS6OQekfNAed",
    "outputId": "c99da855-1d25-4bb3-af36-048f95dba20d"
   },
   "outputs": [
    {
     "name": "stdout",
     "output_type": "stream",
     "text": [
      "Accuracy on Training data:  0.6250368622825125\n"
     ]
    }
   ],
   "source": [
    "# evaluating the model on testing data.\n",
    "from sklearn.metrics import accuracy_score\n",
    "y_pred_test = model.predict(X_testRFE)\n",
    "print(\"Accuracy on Training data: \", accuracy_score(y_test, y_pred_test))"
   ]
  },
  {
   "cell_type": "code",
   "execution_count": 116,
   "metadata": {
    "id": "BHNuCKCmHPGb"
   },
   "outputs": [],
   "source": [
    "from sklearn import metrics\n",
    "from sklearn.model_selection import cross_val_score"
   ]
  },
  {
   "cell_type": "code",
   "execution_count": 117,
   "metadata": {
    "colab": {
     "base_uri": "https://localhost:8080/",
     "height": 34
    },
    "id": "hToufAKPHbRZ",
    "outputId": "ca3f494a-5f91-4997-a66a-790e6485235d"
   },
   "outputs": [
    {
     "name": "stdout",
     "output_type": "stream",
     "text": [
      "[0.63730188 0.63103575 0.63472171 0.62034648 0.62536873]\n"
     ]
    }
   ],
   "source": [
    "#score = logit.score(X_test_rfecv, y_test)\n",
    "score = cross_val_score(model, X_testRFE, y_test) \n",
    "print(score)"
   ]
  },
  {
   "cell_type": "code",
   "execution_count": 118,
   "metadata": {
    "colab": {
     "base_uri": "https://localhost:8080/",
     "height": 34
    },
    "id": "UEW8aTq9O6vv",
    "outputId": "02b03e49-72c6-493e-d961-e4f7408850c8"
   },
   "outputs": [
    {
     "name": "stdout",
     "output_type": "stream",
     "text": [
      "0.6297549110749402\n"
     ]
    }
   ],
   "source": [
    "print(np.mean(score))"
   ]
  },
  {
   "cell_type": "markdown",
   "metadata": {
    "id": "BE7QbibmXY2w"
   },
   "source": [
    "# RFE using cross validation"
   ]
  },
  {
   "cell_type": "code",
   "execution_count": 119,
   "metadata": {
    "colab": {
     "base_uri": "https://localhost:8080/",
     "height": 34
    },
    "id": "yNAKz8BVNP2i",
    "outputId": "db6bf144-04e5-4205-e4f7-5a279fdd2365"
   },
   "outputs": [
    {
     "data": {
      "text/plain": [
       "(31647, 16)"
      ]
     },
     "execution_count": 119,
     "metadata": {},
     "output_type": "execute_result"
    }
   ],
   "source": [
    "X_train.shape"
   ]
  },
  {
   "cell_type": "code",
   "execution_count": 120,
   "metadata": {
    "id": "f6Nae5YBIFMy"
   },
   "outputs": [],
   "source": [
    "rfecv = RFECV(estimator=logit, step=1, cv=5, scoring='accuracy')\n",
    "rfecv = rfecv.fit(X_train, y_train)"
   ]
  },
  {
   "cell_type": "code",
   "execution_count": 123,
   "metadata": {
    "colab": {
     "base_uri": "https://localhost:8080/",
     "height": 84
    },
    "id": "TfFOyfvTXdDH",
    "outputId": "adc946f6-563d-456b-9e4f-1e1990f06e6a"
   },
   "outputs": [
    {
     "data": {
      "text/plain": [
       "array([0.78794163, 0.53085546, 0.5854578 , 0.63648964, 0.63658441,\n",
       "       0.63983925, 0.63361451, 0.64274617, 0.63680567, 0.63879651,\n",
       "       0.63784855, 0.63693218, 0.63661624, 0.73722701, 0.80551059,\n",
       "       0.79776893])"
      ]
     },
     "execution_count": 123,
     "metadata": {},
     "output_type": "execute_result"
    }
   ],
   "source": [
    "rfecv.grid_scores_"
   ]
  },
  {
   "cell_type": "code",
   "execution_count": 127,
   "metadata": {
    "id": "pEwrywg0YMIh"
   },
   "outputs": [],
   "source": [
    "X_train_rfecv = rfecv.transform(X_train)\n",
    "X_test_rfecv = rfecv.transform(X_test)"
   ]
  },
  {
   "cell_type": "code",
   "execution_count": 128,
   "metadata": {
    "colab": {
     "base_uri": "https://localhost:8080/",
     "height": 34
    },
    "id": "e_XVig2TN1l6",
    "outputId": "d35aca5f-946d-4fdc-a367-27b20902154c"
   },
   "outputs": [
    {
     "data": {
      "text/plain": [
       "(31647, 15)"
      ]
     },
     "execution_count": 128,
     "metadata": {},
     "output_type": "execute_result"
    }
   ],
   "source": [
    "X_train_rfecv.shape"
   ]
  },
  {
   "cell_type": "code",
   "execution_count": 129,
   "metadata": {
    "id": "AXsJkgxwYQ7I"
   },
   "outputs": [],
   "source": [
    "model = logit.fit(X_train_rfecv, y_train)"
   ]
  },
  {
   "cell_type": "code",
   "execution_count": 130,
   "metadata": {
    "colab": {
     "base_uri": "https://localhost:8080/",
     "height": 34
    },
    "id": "IRiI6hbGNgG5",
    "outputId": "fcfbcd03-a5af-429a-b25f-0bad32ca9bac"
   },
   "outputs": [
    {
     "name": "stdout",
     "output_type": "stream",
     "text": [
      "Accuracy on Training data:  0.8065535437798211\n"
     ]
    }
   ],
   "source": [
    "# evaluating the model on training data.\n",
    "from sklearn.metrics import accuracy_score\n",
    "y_pred_train = model.predict(X_train_rfecv)\n",
    "print(\"Accuracy on Training data: \", accuracy_score(y_train, y_pred_train))"
   ]
  },
  {
   "cell_type": "code",
   "execution_count": 131,
   "metadata": {
    "colab": {
     "base_uri": "https://localhost:8080/",
     "height": 34
    },
    "id": "MyJNrH-CNgzo",
    "outputId": "79df6c54-51e2-4bd7-bc5e-8752cc20ac43"
   },
   "outputs": [
    {
     "name": "stdout",
     "output_type": "stream",
     "text": [
      "Accuracy on Training data:  0.8074314361545267\n"
     ]
    }
   ],
   "source": [
    "# evaluating the model on testing data.\n",
    "from sklearn.metrics import accuracy_score\n",
    "y_pred_test = model.predict(X_test_rfecv)\n",
    "print(\"Accuracy on Training data: \", accuracy_score(y_test, y_pred_test))"
   ]
  },
  {
   "cell_type": "code",
   "execution_count": 132,
   "metadata": {
    "id": "bfKGivg0Nimc"
   },
   "outputs": [],
   "source": [
    "y_pred_RFECV = logit.predict(X_test_rfecv)"
   ]
  },
  {
   "cell_type": "code",
   "execution_count": 133,
   "metadata": {
    "colab": {
     "base_uri": "https://localhost:8080/",
     "height": 34
    },
    "id": "zwULtfADYXpd",
    "outputId": "25edbaca-77f3-4c5c-848f-3b2fe6518498"
   },
   "outputs": [
    {
     "name": "stdout",
     "output_type": "stream",
     "text": [
      "[0.81127903 0.80575009 0.81422779 0.80759307 0.80752212]\n"
     ]
    }
   ],
   "source": [
    "#score = logit.score(X_test_rfecv, y_test)\n",
    "score = cross_val_score(model, X_test_rfecv, y_test) \n",
    "print(score)"
   ]
  },
  {
   "cell_type": "code",
   "execution_count": 134,
   "metadata": {
    "colab": {
     "base_uri": "https://localhost:8080/",
     "height": 34
    },
    "id": "LB4ExUAqYZg1",
    "outputId": "d4af3c23-a585-460c-b1ba-b989617683a6"
   },
   "outputs": [
    {
     "name": "stdout",
     "output_type": "stream",
     "text": [
      "0.8092744210928045\n"
     ]
    }
   ],
   "source": [
    "print(np.mean(score))"
   ]
  },
  {
   "cell_type": "code",
   "execution_count": null,
   "metadata": {
    "id": "--rzozoTO1r_"
   },
   "outputs": [],
   "source": []
  }
 ],
 "metadata": {
  "accelerator": "GPU",
  "colab": {
   "collapsed_sections": [],
   "name": "Task_1_feature_elimination.ipynb",
   "provenance": []
  },
  "kernelspec": {
   "display_name": "Python 3",
   "language": "python",
   "name": "python3"
  },
  "language_info": {
   "codemirror_mode": {
    "name": "ipython",
    "version": 3
   },
   "file_extension": ".py",
   "mimetype": "text/x-python",
   "name": "python",
   "nbconvert_exporter": "python",
   "pygments_lexer": "ipython3",
   "version": "3.8.3"
  }
 },
 "nbformat": 4,
 "nbformat_minor": 1
}
